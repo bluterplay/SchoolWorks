{
 "cells": [
  {
   "cell_type": "markdown",
   "metadata": {},
   "source": [
    "# Redes neuronales"
   ]
  },
  {
   "cell_type": "markdown",
   "metadata": {},
   "source": [
    "## Preparación de ambiente"
   ]
  },
  {
   "cell_type": "markdown",
   "metadata": {},
   "source": [
    "### Carga de módulos"
   ]
  },
  {
   "cell_type": "code",
   "execution_count": 2,
   "metadata": {
    "ExecuteTime": {
     "end_time": "2021-06-01T23:35:00.039814Z",
     "start_time": "2021-06-01T23:34:49.201646Z"
    },
    "tags": []
   },
   "outputs": [],
   "source": [
    "import numpy as np\n",
    "import pandas as pd\n",
    "from PIL import Image\n",
    "from mnist import MNIST\n",
    "from sklearn.neural_network import MLPClassifier\n",
    "from sklearn.model_selection import RandomizedSearchCV\n",
    "from sklearn.model_selection import train_test_split, cross_val_score"
   ]
  },
  {
   "cell_type": "markdown",
   "metadata": {},
   "source": [
    "### Funciones relevantes"
   ]
  },
  {
   "cell_type": "code",
   "execution_count": 3,
   "metadata": {
    "ExecuteTime": {
     "end_time": "2021-06-01T23:35:00.054690Z",
     "start_time": "2021-06-01T23:35:00.045048Z"
    },
    "tags": []
   },
   "outputs": [],
   "source": [
    "def print_data(data):\n",
    "    for row in data:\n",
    "        print(''.join('{:3}'.format(value) for value in row))"
   ]
  },
  {
   "cell_type": "code",
   "execution_count": 4,
   "metadata": {
    "ExecuteTime": {
     "end_time": "2021-06-01T23:35:00.200409Z",
     "start_time": "2021-06-01T23:35:00.058079Z"
    },
    "tags": []
   },
   "outputs": [],
   "source": [
    "def get_data(number):\n",
    "    img = Image.open('sample%d_black_r.png'%(number)).convert('L')\n",
    "    img_arr = np.array(img)\n",
    "    WIDTH, HEIGHT = img.size\n",
    "    data = list(img.getdata())\n",
    "    data = [data[offset:offset+WIDTH] for offset in range(0, WIDTH*HEIGHT, WIDTH)]\n",
    "    return data"
   ]
  },
  {
   "cell_type": "code",
   "execution_count": 5,
   "metadata": {
    "ExecuteTime": {
     "end_time": "2021-06-01T23:35:00.507904Z",
     "start_time": "2021-06-01T23:35:00.203438Z"
    },
    "tags": []
   },
   "outputs": [],
   "source": [
    "def flatten_data(data):\n",
    "    return[np.reshape(data, (28*28,))]"
   ]
  },
  {
   "cell_type": "code",
   "execution_count": 6,
   "metadata": {
    "ExecuteTime": {
     "end_time": "2021-06-01T23:35:00.742287Z",
     "start_time": "2021-06-01T23:35:00.513584Z"
    },
    "tags": []
   },
   "outputs": [],
   "source": [
    "def classification_metrics(X, y, estimator):\n",
    "    ls_scores_roc = cross_val_score(estimator=estimator, X=X, y=y, scoring=\"roc_auc\", n_jobs=-1, cv=4)\n",
    "    print(f\"ROC media: {np.mean(ls_scores_roc):,.2f}, desviación estándar: {np.std(ls_scores_roc)}\")"
   ]
  },
  {
   "cell_type": "markdown",
   "metadata": {},
   "source": [
    "## Carga de datos"
   ]
  },
  {
   "cell_type": "markdown",
   "metadata": {},
   "source": [
    "### Set de entrenamiento"
   ]
  },
  {
   "cell_type": "code",
   "execution_count": 7,
   "metadata": {
    "ExecuteTime": {
     "end_time": "2021-06-01T23:35:09.344779Z",
     "start_time": "2021-06-01T23:35:00.747556Z"
    },
    "tags": []
   },
   "outputs": [
    {
     "ename": "FileNotFoundError",
     "evalue": "[Errno 2] No such file or directory: 'letters/emnist-letters-train-labels-idx1-ubyte.gz'",
     "output_type": "error",
     "traceback": [
      "\u001b[0;31m---------------------------------------------------------------------------\u001b[0m",
      "\u001b[0;31mFileNotFoundError\u001b[0m                         Traceback (most recent call last)",
      "\u001b[0;32m/tmp/ipykernel_2918/1679373234.py\u001b[0m in \u001b[0;36m<module>\u001b[0;34m\u001b[0m\n\u001b[1;32m      1\u001b[0m \u001b[0mmndata\u001b[0m \u001b[0;34m=\u001b[0m \u001b[0mMNIST\u001b[0m\u001b[0;34m(\u001b[0m\u001b[0;34m'letters/'\u001b[0m\u001b[0;34m)\u001b[0m\u001b[0;34m\u001b[0m\u001b[0;34m\u001b[0m\u001b[0m\n\u001b[1;32m      2\u001b[0m \u001b[0mmndata\u001b[0m\u001b[0;34m.\u001b[0m\u001b[0mselect_emnist\u001b[0m\u001b[0;34m(\u001b[0m\u001b[0;34m\"letters\"\u001b[0m\u001b[0;34m)\u001b[0m\u001b[0;34m\u001b[0m\u001b[0;34m\u001b[0m\u001b[0m\n\u001b[0;32m----> 3\u001b[0;31m \u001b[0mimages\u001b[0m\u001b[0;34m,\u001b[0m \u001b[0mlabels\u001b[0m \u001b[0;34m=\u001b[0m \u001b[0mmndata\u001b[0m\u001b[0;34m.\u001b[0m\u001b[0mload_training\u001b[0m\u001b[0;34m(\u001b[0m\u001b[0;34m)\u001b[0m\u001b[0;34m\u001b[0m\u001b[0;34m\u001b[0m\u001b[0m\n\u001b[0m",
      "\u001b[0;32m~/.local/lib/python3.8/site-packages/mnist/loader.py\u001b[0m in \u001b[0;36mload_training\u001b[0;34m(self)\u001b[0m\n\u001b[1;32m    123\u001b[0m \u001b[0;34m\u001b[0m\u001b[0m\n\u001b[1;32m    124\u001b[0m     \u001b[0;32mdef\u001b[0m \u001b[0mload_training\u001b[0m\u001b[0;34m(\u001b[0m\u001b[0mself\u001b[0m\u001b[0;34m)\u001b[0m\u001b[0;34m:\u001b[0m\u001b[0;34m\u001b[0m\u001b[0;34m\u001b[0m\u001b[0m\n\u001b[0;32m--> 125\u001b[0;31m         ims, labels = self.load(os.path.join(self.path, self.train_img_fname),\n\u001b[0m\u001b[1;32m    126\u001b[0m                                 os.path.join(self.path, self.train_lbl_fname))\n\u001b[1;32m    127\u001b[0m \u001b[0;34m\u001b[0m\u001b[0m\n",
      "\u001b[0;32m~/.local/lib/python3.8/site-packages/mnist/loader.py\u001b[0m in \u001b[0;36mload\u001b[0;34m(self, path_img, path_lbl, batch)\u001b[0m\n\u001b[1;32m    245\u001b[0m                                  '(start_point, batch_size)')\n\u001b[1;32m    246\u001b[0m \u001b[0;34m\u001b[0m\u001b[0m\n\u001b[0;32m--> 247\u001b[0;31m         \u001b[0;32mwith\u001b[0m \u001b[0mself\u001b[0m\u001b[0;34m.\u001b[0m\u001b[0mopener\u001b[0m\u001b[0;34m(\u001b[0m\u001b[0mpath_lbl\u001b[0m\u001b[0;34m,\u001b[0m \u001b[0;34m'rb'\u001b[0m\u001b[0;34m)\u001b[0m \u001b[0;32mas\u001b[0m \u001b[0mfile\u001b[0m\u001b[0;34m:\u001b[0m\u001b[0;34m\u001b[0m\u001b[0;34m\u001b[0m\u001b[0m\n\u001b[0m\u001b[1;32m    248\u001b[0m             \u001b[0mmagic\u001b[0m\u001b[0;34m,\u001b[0m \u001b[0msize\u001b[0m \u001b[0;34m=\u001b[0m \u001b[0mstruct\u001b[0m\u001b[0;34m.\u001b[0m\u001b[0munpack\u001b[0m\u001b[0;34m(\u001b[0m\u001b[0;34m\">II\"\u001b[0m\u001b[0;34m,\u001b[0m \u001b[0mfile\u001b[0m\u001b[0;34m.\u001b[0m\u001b[0mread\u001b[0m\u001b[0;34m(\u001b[0m\u001b[0;36m8\u001b[0m\u001b[0;34m)\u001b[0m\u001b[0;34m)\u001b[0m\u001b[0;34m\u001b[0m\u001b[0;34m\u001b[0m\u001b[0m\n\u001b[1;32m    249\u001b[0m             \u001b[0;32mif\u001b[0m \u001b[0mmagic\u001b[0m \u001b[0;34m!=\u001b[0m \u001b[0;36m2049\u001b[0m\u001b[0;34m:\u001b[0m\u001b[0;34m\u001b[0m\u001b[0;34m\u001b[0m\u001b[0m\n",
      "\u001b[0;32m~/.local/lib/python3.8/site-packages/mnist/loader.py\u001b[0m in \u001b[0;36mopener\u001b[0;34m(self, path_fn, *args, **kwargs)\u001b[0m\n\u001b[1;32m    235\u001b[0m     \u001b[0;32mdef\u001b[0m \u001b[0mopener\u001b[0m\u001b[0;34m(\u001b[0m\u001b[0mself\u001b[0m\u001b[0;34m,\u001b[0m \u001b[0mpath_fn\u001b[0m\u001b[0;34m,\u001b[0m \u001b[0;34m*\u001b[0m\u001b[0margs\u001b[0m\u001b[0;34m,\u001b[0m \u001b[0;34m**\u001b[0m\u001b[0mkwargs\u001b[0m\u001b[0;34m)\u001b[0m\u001b[0;34m:\u001b[0m\u001b[0;34m\u001b[0m\u001b[0;34m\u001b[0m\u001b[0m\n\u001b[1;32m    236\u001b[0m         \u001b[0;32mif\u001b[0m \u001b[0mself\u001b[0m\u001b[0;34m.\u001b[0m\u001b[0mgz\u001b[0m\u001b[0;34m:\u001b[0m\u001b[0;34m\u001b[0m\u001b[0;34m\u001b[0m\u001b[0m\n\u001b[0;32m--> 237\u001b[0;31m             \u001b[0;32mreturn\u001b[0m \u001b[0mgzip\u001b[0m\u001b[0;34m.\u001b[0m\u001b[0mopen\u001b[0m\u001b[0;34m(\u001b[0m\u001b[0mpath_fn\u001b[0m \u001b[0;34m+\u001b[0m \u001b[0;34m'.gz'\u001b[0m\u001b[0;34m,\u001b[0m \u001b[0;34m*\u001b[0m\u001b[0margs\u001b[0m\u001b[0;34m,\u001b[0m \u001b[0;34m**\u001b[0m\u001b[0mkwargs\u001b[0m\u001b[0;34m)\u001b[0m\u001b[0;34m\u001b[0m\u001b[0;34m\u001b[0m\u001b[0m\n\u001b[0m\u001b[1;32m    238\u001b[0m         \u001b[0;32melse\u001b[0m\u001b[0;34m:\u001b[0m\u001b[0;34m\u001b[0m\u001b[0;34m\u001b[0m\u001b[0m\n\u001b[1;32m    239\u001b[0m             \u001b[0;32mreturn\u001b[0m \u001b[0mopen\u001b[0m\u001b[0;34m(\u001b[0m\u001b[0mpath_fn\u001b[0m\u001b[0;34m,\u001b[0m \u001b[0;34m*\u001b[0m\u001b[0margs\u001b[0m\u001b[0;34m,\u001b[0m \u001b[0;34m**\u001b[0m\u001b[0mkwargs\u001b[0m\u001b[0;34m)\u001b[0m\u001b[0;34m\u001b[0m\u001b[0;34m\u001b[0m\u001b[0m\n",
      "\u001b[0;32m/usr/lib/python3.8/gzip.py\u001b[0m in \u001b[0;36mopen\u001b[0;34m(filename, mode, compresslevel, encoding, errors, newline)\u001b[0m\n\u001b[1;32m     56\u001b[0m     \u001b[0mgz_mode\u001b[0m \u001b[0;34m=\u001b[0m \u001b[0mmode\u001b[0m\u001b[0;34m.\u001b[0m\u001b[0mreplace\u001b[0m\u001b[0;34m(\u001b[0m\u001b[0;34m\"t\"\u001b[0m\u001b[0;34m,\u001b[0m \u001b[0;34m\"\"\u001b[0m\u001b[0;34m)\u001b[0m\u001b[0;34m\u001b[0m\u001b[0;34m\u001b[0m\u001b[0m\n\u001b[1;32m     57\u001b[0m     \u001b[0;32mif\u001b[0m \u001b[0misinstance\u001b[0m\u001b[0;34m(\u001b[0m\u001b[0mfilename\u001b[0m\u001b[0;34m,\u001b[0m \u001b[0;34m(\u001b[0m\u001b[0mstr\u001b[0m\u001b[0;34m,\u001b[0m \u001b[0mbytes\u001b[0m\u001b[0;34m,\u001b[0m \u001b[0mos\u001b[0m\u001b[0;34m.\u001b[0m\u001b[0mPathLike\u001b[0m\u001b[0;34m)\u001b[0m\u001b[0;34m)\u001b[0m\u001b[0;34m:\u001b[0m\u001b[0;34m\u001b[0m\u001b[0;34m\u001b[0m\u001b[0m\n\u001b[0;32m---> 58\u001b[0;31m         \u001b[0mbinary_file\u001b[0m \u001b[0;34m=\u001b[0m \u001b[0mGzipFile\u001b[0m\u001b[0;34m(\u001b[0m\u001b[0mfilename\u001b[0m\u001b[0;34m,\u001b[0m \u001b[0mgz_mode\u001b[0m\u001b[0;34m,\u001b[0m \u001b[0mcompresslevel\u001b[0m\u001b[0;34m)\u001b[0m\u001b[0;34m\u001b[0m\u001b[0;34m\u001b[0m\u001b[0m\n\u001b[0m\u001b[1;32m     59\u001b[0m     \u001b[0;32melif\u001b[0m \u001b[0mhasattr\u001b[0m\u001b[0;34m(\u001b[0m\u001b[0mfilename\u001b[0m\u001b[0;34m,\u001b[0m \u001b[0;34m\"read\"\u001b[0m\u001b[0;34m)\u001b[0m \u001b[0;32mor\u001b[0m \u001b[0mhasattr\u001b[0m\u001b[0;34m(\u001b[0m\u001b[0mfilename\u001b[0m\u001b[0;34m,\u001b[0m \u001b[0;34m\"write\"\u001b[0m\u001b[0;34m)\u001b[0m\u001b[0;34m:\u001b[0m\u001b[0;34m\u001b[0m\u001b[0;34m\u001b[0m\u001b[0m\n\u001b[1;32m     60\u001b[0m         \u001b[0mbinary_file\u001b[0m \u001b[0;34m=\u001b[0m \u001b[0mGzipFile\u001b[0m\u001b[0;34m(\u001b[0m\u001b[0;32mNone\u001b[0m\u001b[0;34m,\u001b[0m \u001b[0mgz_mode\u001b[0m\u001b[0;34m,\u001b[0m \u001b[0mcompresslevel\u001b[0m\u001b[0;34m,\u001b[0m \u001b[0mfilename\u001b[0m\u001b[0;34m)\u001b[0m\u001b[0;34m\u001b[0m\u001b[0;34m\u001b[0m\u001b[0m\n",
      "\u001b[0;32m/usr/lib/python3.8/gzip.py\u001b[0m in \u001b[0;36m__init__\u001b[0;34m(self, filename, mode, compresslevel, fileobj, mtime)\u001b[0m\n\u001b[1;32m    171\u001b[0m             \u001b[0mmode\u001b[0m \u001b[0;34m+=\u001b[0m \u001b[0;34m'b'\u001b[0m\u001b[0;34m\u001b[0m\u001b[0;34m\u001b[0m\u001b[0m\n\u001b[1;32m    172\u001b[0m         \u001b[0;32mif\u001b[0m \u001b[0mfileobj\u001b[0m \u001b[0;32mis\u001b[0m \u001b[0;32mNone\u001b[0m\u001b[0;34m:\u001b[0m\u001b[0;34m\u001b[0m\u001b[0;34m\u001b[0m\u001b[0m\n\u001b[0;32m--> 173\u001b[0;31m             \u001b[0mfileobj\u001b[0m \u001b[0;34m=\u001b[0m \u001b[0mself\u001b[0m\u001b[0;34m.\u001b[0m\u001b[0mmyfileobj\u001b[0m \u001b[0;34m=\u001b[0m \u001b[0mbuiltins\u001b[0m\u001b[0;34m.\u001b[0m\u001b[0mopen\u001b[0m\u001b[0;34m(\u001b[0m\u001b[0mfilename\u001b[0m\u001b[0;34m,\u001b[0m \u001b[0mmode\u001b[0m \u001b[0;32mor\u001b[0m \u001b[0;34m'rb'\u001b[0m\u001b[0;34m)\u001b[0m\u001b[0;34m\u001b[0m\u001b[0;34m\u001b[0m\u001b[0m\n\u001b[0m\u001b[1;32m    174\u001b[0m         \u001b[0;32mif\u001b[0m \u001b[0mfilename\u001b[0m \u001b[0;32mis\u001b[0m \u001b[0;32mNone\u001b[0m\u001b[0;34m:\u001b[0m\u001b[0;34m\u001b[0m\u001b[0;34m\u001b[0m\u001b[0m\n\u001b[1;32m    175\u001b[0m             \u001b[0mfilename\u001b[0m \u001b[0;34m=\u001b[0m \u001b[0mgetattr\u001b[0m\u001b[0;34m(\u001b[0m\u001b[0mfileobj\u001b[0m\u001b[0;34m,\u001b[0m \u001b[0;34m'name'\u001b[0m\u001b[0;34m,\u001b[0m \u001b[0;34m''\u001b[0m\u001b[0;34m)\u001b[0m\u001b[0;34m\u001b[0m\u001b[0;34m\u001b[0m\u001b[0m\n",
      "\u001b[0;31mFileNotFoundError\u001b[0m: [Errno 2] No such file or directory: 'letters/emnist-letters-train-labels-idx1-ubyte.gz'"
     ]
    }
   ],
   "source": [
    "mndata = MNIST('letters/')\n",
    "mndata.select_emnist(\"letters\")\n",
    "images, labels = mndata.load_training()"
   ]
  },
  {
   "cell_type": "markdown",
   "metadata": {},
   "source": [
    "#### Convirtiendo a DataFrame"
   ]
  },
  {
   "cell_type": "code",
   "execution_count": 8,
   "metadata": {
    "ExecuteTime": {
     "end_time": "2021-06-01T23:35:39.055579Z",
     "start_time": "2021-06-01T23:35:09.345977Z"
    },
    "execution": {
     "iopub.execute_input": "2021-11-04T03:28:31.863475Z",
     "iopub.status.busy": "2021-11-04T03:28:31.863239Z",
     "iopub.status.idle": "2021-11-04T03:29:02.258041Z",
     "shell.execute_reply": "2021-11-04T03:29:02.257505Z",
     "shell.execute_reply.started": "2021-11-04T03:28:31.863447Z"
    }
   },
   "outputs": [],
   "source": [
    "train = pd.DataFrame(data=images, columns=[f\"{i+1}x{j+1}\" for i in range(28) for j in range(28)])"
   ]
  },
  {
   "cell_type": "code",
   "execution_count": 9,
   "metadata": {
    "ExecuteTime": {
     "end_time": "2021-06-01T23:35:40.076617Z",
     "start_time": "2021-06-01T23:35:39.057410Z"
    },
    "execution": {
     "iopub.execute_input": "2021-11-04T03:29:02.259998Z",
     "iopub.status.busy": "2021-11-04T03:29:02.259698Z",
     "iopub.status.idle": "2021-11-04T03:29:02.313218Z",
     "shell.execute_reply": "2021-11-04T03:29:02.312266Z",
     "shell.execute_reply.started": "2021-11-04T03:29:02.259962Z"
    }
   },
   "outputs": [
    {
     "data": {
      "text/html": [
       "<div>\n",
       "<style scoped>\n",
       "    .dataframe tbody tr th:only-of-type {\n",
       "        vertical-align: middle;\n",
       "    }\n",
       "\n",
       "    .dataframe tbody tr th {\n",
       "        vertical-align: top;\n",
       "    }\n",
       "\n",
       "    .dataframe thead th {\n",
       "        text-align: right;\n",
       "    }\n",
       "</style>\n",
       "<table border=\"1\" class=\"dataframe\">\n",
       "  <thead>\n",
       "    <tr style=\"text-align: right;\">\n",
       "      <th></th>\n",
       "      <th>1x1</th>\n",
       "      <th>1x2</th>\n",
       "      <th>1x3</th>\n",
       "      <th>1x4</th>\n",
       "      <th>1x5</th>\n",
       "      <th>1x6</th>\n",
       "      <th>1x7</th>\n",
       "      <th>1x8</th>\n",
       "      <th>1x9</th>\n",
       "      <th>1x10</th>\n",
       "      <th>...</th>\n",
       "      <th>28x19</th>\n",
       "      <th>28x20</th>\n",
       "      <th>28x21</th>\n",
       "      <th>28x22</th>\n",
       "      <th>28x23</th>\n",
       "      <th>28x24</th>\n",
       "      <th>28x25</th>\n",
       "      <th>28x26</th>\n",
       "      <th>28x27</th>\n",
       "      <th>28x28</th>\n",
       "    </tr>\n",
       "  </thead>\n",
       "  <tbody>\n",
       "    <tr>\n",
       "      <th>0</th>\n",
       "      <td>0</td>\n",
       "      <td>0</td>\n",
       "      <td>0</td>\n",
       "      <td>0</td>\n",
       "      <td>0</td>\n",
       "      <td>0</td>\n",
       "      <td>0</td>\n",
       "      <td>0</td>\n",
       "      <td>0</td>\n",
       "      <td>0</td>\n",
       "      <td>...</td>\n",
       "      <td>0</td>\n",
       "      <td>0</td>\n",
       "      <td>0</td>\n",
       "      <td>0</td>\n",
       "      <td>0</td>\n",
       "      <td>0</td>\n",
       "      <td>0</td>\n",
       "      <td>0</td>\n",
       "      <td>0</td>\n",
       "      <td>0</td>\n",
       "    </tr>\n",
       "    <tr>\n",
       "      <th>1</th>\n",
       "      <td>0</td>\n",
       "      <td>0</td>\n",
       "      <td>0</td>\n",
       "      <td>0</td>\n",
       "      <td>0</td>\n",
       "      <td>0</td>\n",
       "      <td>0</td>\n",
       "      <td>0</td>\n",
       "      <td>0</td>\n",
       "      <td>0</td>\n",
       "      <td>...</td>\n",
       "      <td>0</td>\n",
       "      <td>0</td>\n",
       "      <td>0</td>\n",
       "      <td>0</td>\n",
       "      <td>0</td>\n",
       "      <td>0</td>\n",
       "      <td>0</td>\n",
       "      <td>0</td>\n",
       "      <td>0</td>\n",
       "      <td>0</td>\n",
       "    </tr>\n",
       "    <tr>\n",
       "      <th>2</th>\n",
       "      <td>0</td>\n",
       "      <td>0</td>\n",
       "      <td>0</td>\n",
       "      <td>0</td>\n",
       "      <td>0</td>\n",
       "      <td>0</td>\n",
       "      <td>0</td>\n",
       "      <td>0</td>\n",
       "      <td>0</td>\n",
       "      <td>0</td>\n",
       "      <td>...</td>\n",
       "      <td>0</td>\n",
       "      <td>0</td>\n",
       "      <td>0</td>\n",
       "      <td>0</td>\n",
       "      <td>0</td>\n",
       "      <td>0</td>\n",
       "      <td>0</td>\n",
       "      <td>0</td>\n",
       "      <td>0</td>\n",
       "      <td>0</td>\n",
       "    </tr>\n",
       "    <tr>\n",
       "      <th>3</th>\n",
       "      <td>0</td>\n",
       "      <td>0</td>\n",
       "      <td>0</td>\n",
       "      <td>0</td>\n",
       "      <td>0</td>\n",
       "      <td>0</td>\n",
       "      <td>0</td>\n",
       "      <td>0</td>\n",
       "      <td>0</td>\n",
       "      <td>0</td>\n",
       "      <td>...</td>\n",
       "      <td>0</td>\n",
       "      <td>0</td>\n",
       "      <td>0</td>\n",
       "      <td>0</td>\n",
       "      <td>0</td>\n",
       "      <td>0</td>\n",
       "      <td>0</td>\n",
       "      <td>0</td>\n",
       "      <td>0</td>\n",
       "      <td>0</td>\n",
       "    </tr>\n",
       "    <tr>\n",
       "      <th>4</th>\n",
       "      <td>0</td>\n",
       "      <td>0</td>\n",
       "      <td>0</td>\n",
       "      <td>0</td>\n",
       "      <td>0</td>\n",
       "      <td>0</td>\n",
       "      <td>0</td>\n",
       "      <td>0</td>\n",
       "      <td>0</td>\n",
       "      <td>0</td>\n",
       "      <td>...</td>\n",
       "      <td>0</td>\n",
       "      <td>0</td>\n",
       "      <td>0</td>\n",
       "      <td>0</td>\n",
       "      <td>0</td>\n",
       "      <td>0</td>\n",
       "      <td>0</td>\n",
       "      <td>0</td>\n",
       "      <td>0</td>\n",
       "      <td>0</td>\n",
       "    </tr>\n",
       "    <tr>\n",
       "      <th>...</th>\n",
       "      <td>...</td>\n",
       "      <td>...</td>\n",
       "      <td>...</td>\n",
       "      <td>...</td>\n",
       "      <td>...</td>\n",
       "      <td>...</td>\n",
       "      <td>...</td>\n",
       "      <td>...</td>\n",
       "      <td>...</td>\n",
       "      <td>...</td>\n",
       "      <td>...</td>\n",
       "      <td>...</td>\n",
       "      <td>...</td>\n",
       "      <td>...</td>\n",
       "      <td>...</td>\n",
       "      <td>...</td>\n",
       "      <td>...</td>\n",
       "      <td>...</td>\n",
       "      <td>...</td>\n",
       "      <td>...</td>\n",
       "      <td>...</td>\n",
       "    </tr>\n",
       "    <tr>\n",
       "      <th>124795</th>\n",
       "      <td>0</td>\n",
       "      <td>0</td>\n",
       "      <td>0</td>\n",
       "      <td>0</td>\n",
       "      <td>0</td>\n",
       "      <td>0</td>\n",
       "      <td>0</td>\n",
       "      <td>0</td>\n",
       "      <td>0</td>\n",
       "      <td>0</td>\n",
       "      <td>...</td>\n",
       "      <td>0</td>\n",
       "      <td>0</td>\n",
       "      <td>0</td>\n",
       "      <td>0</td>\n",
       "      <td>0</td>\n",
       "      <td>0</td>\n",
       "      <td>0</td>\n",
       "      <td>0</td>\n",
       "      <td>0</td>\n",
       "      <td>0</td>\n",
       "    </tr>\n",
       "    <tr>\n",
       "      <th>124796</th>\n",
       "      <td>0</td>\n",
       "      <td>0</td>\n",
       "      <td>0</td>\n",
       "      <td>0</td>\n",
       "      <td>0</td>\n",
       "      <td>0</td>\n",
       "      <td>0</td>\n",
       "      <td>0</td>\n",
       "      <td>0</td>\n",
       "      <td>0</td>\n",
       "      <td>...</td>\n",
       "      <td>0</td>\n",
       "      <td>0</td>\n",
       "      <td>0</td>\n",
       "      <td>0</td>\n",
       "      <td>0</td>\n",
       "      <td>0</td>\n",
       "      <td>0</td>\n",
       "      <td>0</td>\n",
       "      <td>0</td>\n",
       "      <td>0</td>\n",
       "    </tr>\n",
       "    <tr>\n",
       "      <th>124797</th>\n",
       "      <td>0</td>\n",
       "      <td>0</td>\n",
       "      <td>0</td>\n",
       "      <td>0</td>\n",
       "      <td>0</td>\n",
       "      <td>0</td>\n",
       "      <td>0</td>\n",
       "      <td>0</td>\n",
       "      <td>0</td>\n",
       "      <td>0</td>\n",
       "      <td>...</td>\n",
       "      <td>0</td>\n",
       "      <td>0</td>\n",
       "      <td>0</td>\n",
       "      <td>0</td>\n",
       "      <td>0</td>\n",
       "      <td>0</td>\n",
       "      <td>0</td>\n",
       "      <td>0</td>\n",
       "      <td>0</td>\n",
       "      <td>0</td>\n",
       "    </tr>\n",
       "    <tr>\n",
       "      <th>124798</th>\n",
       "      <td>0</td>\n",
       "      <td>0</td>\n",
       "      <td>0</td>\n",
       "      <td>0</td>\n",
       "      <td>0</td>\n",
       "      <td>0</td>\n",
       "      <td>0</td>\n",
       "      <td>0</td>\n",
       "      <td>0</td>\n",
       "      <td>0</td>\n",
       "      <td>...</td>\n",
       "      <td>0</td>\n",
       "      <td>0</td>\n",
       "      <td>0</td>\n",
       "      <td>0</td>\n",
       "      <td>0</td>\n",
       "      <td>0</td>\n",
       "      <td>0</td>\n",
       "      <td>0</td>\n",
       "      <td>0</td>\n",
       "      <td>0</td>\n",
       "    </tr>\n",
       "    <tr>\n",
       "      <th>124799</th>\n",
       "      <td>0</td>\n",
       "      <td>0</td>\n",
       "      <td>0</td>\n",
       "      <td>0</td>\n",
       "      <td>0</td>\n",
       "      <td>0</td>\n",
       "      <td>0</td>\n",
       "      <td>0</td>\n",
       "      <td>0</td>\n",
       "      <td>0</td>\n",
       "      <td>...</td>\n",
       "      <td>0</td>\n",
       "      <td>0</td>\n",
       "      <td>0</td>\n",
       "      <td>0</td>\n",
       "      <td>0</td>\n",
       "      <td>0</td>\n",
       "      <td>0</td>\n",
       "      <td>0</td>\n",
       "      <td>0</td>\n",
       "      <td>0</td>\n",
       "    </tr>\n",
       "  </tbody>\n",
       "</table>\n",
       "<p>124800 rows × 784 columns</p>\n",
       "</div>"
      ],
      "text/plain": [
       "        1x1  1x2  1x3  1x4  1x5  1x6  1x7  1x8  1x9  1x10  ...  28x19  28x20  \\\n",
       "0         0    0    0    0    0    0    0    0    0     0  ...      0      0   \n",
       "1         0    0    0    0    0    0    0    0    0     0  ...      0      0   \n",
       "2         0    0    0    0    0    0    0    0    0     0  ...      0      0   \n",
       "3         0    0    0    0    0    0    0    0    0     0  ...      0      0   \n",
       "4         0    0    0    0    0    0    0    0    0     0  ...      0      0   \n",
       "...     ...  ...  ...  ...  ...  ...  ...  ...  ...   ...  ...    ...    ...   \n",
       "124795    0    0    0    0    0    0    0    0    0     0  ...      0      0   \n",
       "124796    0    0    0    0    0    0    0    0    0     0  ...      0      0   \n",
       "124797    0    0    0    0    0    0    0    0    0     0  ...      0      0   \n",
       "124798    0    0    0    0    0    0    0    0    0     0  ...      0      0   \n",
       "124799    0    0    0    0    0    0    0    0    0     0  ...      0      0   \n",
       "\n",
       "        28x21  28x22  28x23  28x24  28x25  28x26  28x27  28x28  \n",
       "0           0      0      0      0      0      0      0      0  \n",
       "1           0      0      0      0      0      0      0      0  \n",
       "2           0      0      0      0      0      0      0      0  \n",
       "3           0      0      0      0      0      0      0      0  \n",
       "4           0      0      0      0      0      0      0      0  \n",
       "...       ...    ...    ...    ...    ...    ...    ...    ...  \n",
       "124795      0      0      0      0      0      0      0      0  \n",
       "124796      0      0      0      0      0      0      0      0  \n",
       "124797      0      0      0      0      0      0      0      0  \n",
       "124798      0      0      0      0      0      0      0      0  \n",
       "124799      0      0      0      0      0      0      0      0  \n",
       "\n",
       "[124800 rows x 784 columns]"
      ]
     },
     "execution_count": 9,
     "metadata": {},
     "output_type": "execute_result"
    }
   ],
   "source": [
    "train"
   ]
  },
  {
   "cell_type": "code",
   "execution_count": 18,
   "metadata": {
    "ExecuteTime": {
     "end_time": "2021-06-01T23:35:40.168790Z",
     "start_time": "2021-06-01T23:35:40.079601Z"
    },
    "execution": {
     "iopub.execute_input": "2021-11-04T03:30:33.409360Z",
     "iopub.status.busy": "2021-11-04T03:30:33.408936Z",
     "iopub.status.idle": "2021-11-04T03:30:33.654499Z",
     "shell.execute_reply": "2021-11-04T03:30:33.653291Z",
     "shell.execute_reply.started": "2021-11-04T03:30:33.409310Z"
    },
    "tags": []
   },
   "outputs": [
    {
     "ename": "ValueError",
     "evalue": "Length of values (20800) does not match length of index (124800)",
     "output_type": "error",
     "traceback": [
      "\u001b[0;31m---------------------------------------------------------------------------\u001b[0m",
      "\u001b[0;31mValueError\u001b[0m                                Traceback (most recent call last)",
      "\u001b[0;32m<ipython-input-18-30aebabfc4c1>\u001b[0m in \u001b[0;36m<module>\u001b[0;34m\u001b[0m\n\u001b[0;32m----> 1\u001b[0;31m \u001b[0mtrain\u001b[0m\u001b[0;34m[\u001b[0m\u001b[0;34m\"letter\"\u001b[0m\u001b[0;34m]\u001b[0m \u001b[0;34m=\u001b[0m \u001b[0;34m[\u001b[0m\u001b[0mchr\u001b[0m\u001b[0;34m(\u001b[0m\u001b[0mord\u001b[0m\u001b[0;34m(\u001b[0m\u001b[0;34m'@'\u001b[0m\u001b[0;34m)\u001b[0m\u001b[0;34m+\u001b[0m\u001b[0mx\u001b[0m\u001b[0;34m)\u001b[0m \u001b[0;32mfor\u001b[0m \u001b[0mx\u001b[0m \u001b[0;32min\u001b[0m \u001b[0mlabels\u001b[0m\u001b[0;34m]\u001b[0m\u001b[0;34m\u001b[0m\u001b[0;34m\u001b[0m\u001b[0m\n\u001b[0m",
      "\u001b[0;32m~/VirtualEnvs/Python 3/lib/python3.7/site-packages/pandas/core/frame.py\u001b[0m in \u001b[0;36m__setitem__\u001b[0;34m(self, key, value)\u001b[0m\n\u001b[1;32m   3042\u001b[0m         \u001b[0;32melse\u001b[0m\u001b[0;34m:\u001b[0m\u001b[0;34m\u001b[0m\u001b[0;34m\u001b[0m\u001b[0m\n\u001b[1;32m   3043\u001b[0m             \u001b[0;31m# set column\u001b[0m\u001b[0;34m\u001b[0m\u001b[0;34m\u001b[0m\u001b[0;34m\u001b[0m\u001b[0m\n\u001b[0;32m-> 3044\u001b[0;31m             \u001b[0mself\u001b[0m\u001b[0;34m.\u001b[0m\u001b[0m_set_item\u001b[0m\u001b[0;34m(\u001b[0m\u001b[0mkey\u001b[0m\u001b[0;34m,\u001b[0m \u001b[0mvalue\u001b[0m\u001b[0;34m)\u001b[0m\u001b[0;34m\u001b[0m\u001b[0;34m\u001b[0m\u001b[0m\n\u001b[0m\u001b[1;32m   3045\u001b[0m \u001b[0;34m\u001b[0m\u001b[0m\n\u001b[1;32m   3046\u001b[0m     \u001b[0;32mdef\u001b[0m \u001b[0m_setitem_slice\u001b[0m\u001b[0;34m(\u001b[0m\u001b[0mself\u001b[0m\u001b[0;34m,\u001b[0m \u001b[0mkey\u001b[0m\u001b[0;34m:\u001b[0m \u001b[0mslice\u001b[0m\u001b[0;34m,\u001b[0m \u001b[0mvalue\u001b[0m\u001b[0;34m)\u001b[0m\u001b[0;34m:\u001b[0m\u001b[0;34m\u001b[0m\u001b[0;34m\u001b[0m\u001b[0m\n",
      "\u001b[0;32m~/VirtualEnvs/Python 3/lib/python3.7/site-packages/pandas/core/frame.py\u001b[0m in \u001b[0;36m_set_item\u001b[0;34m(self, key, value)\u001b[0m\n\u001b[1;32m   3118\u001b[0m         \"\"\"\n\u001b[1;32m   3119\u001b[0m         \u001b[0mself\u001b[0m\u001b[0;34m.\u001b[0m\u001b[0m_ensure_valid_index\u001b[0m\u001b[0;34m(\u001b[0m\u001b[0mvalue\u001b[0m\u001b[0;34m)\u001b[0m\u001b[0;34m\u001b[0m\u001b[0;34m\u001b[0m\u001b[0m\n\u001b[0;32m-> 3120\u001b[0;31m         \u001b[0mvalue\u001b[0m \u001b[0;34m=\u001b[0m \u001b[0mself\u001b[0m\u001b[0;34m.\u001b[0m\u001b[0m_sanitize_column\u001b[0m\u001b[0;34m(\u001b[0m\u001b[0mkey\u001b[0m\u001b[0;34m,\u001b[0m \u001b[0mvalue\u001b[0m\u001b[0;34m)\u001b[0m\u001b[0;34m\u001b[0m\u001b[0;34m\u001b[0m\u001b[0m\n\u001b[0m\u001b[1;32m   3121\u001b[0m         \u001b[0mNDFrame\u001b[0m\u001b[0;34m.\u001b[0m\u001b[0m_set_item\u001b[0m\u001b[0;34m(\u001b[0m\u001b[0mself\u001b[0m\u001b[0;34m,\u001b[0m \u001b[0mkey\u001b[0m\u001b[0;34m,\u001b[0m \u001b[0mvalue\u001b[0m\u001b[0;34m)\u001b[0m\u001b[0;34m\u001b[0m\u001b[0;34m\u001b[0m\u001b[0m\n\u001b[1;32m   3122\u001b[0m \u001b[0;34m\u001b[0m\u001b[0m\n",
      "\u001b[0;32m~/VirtualEnvs/Python 3/lib/python3.7/site-packages/pandas/core/frame.py\u001b[0m in \u001b[0;36m_sanitize_column\u001b[0;34m(self, key, value, broadcast)\u001b[0m\n\u001b[1;32m   3766\u001b[0m \u001b[0;34m\u001b[0m\u001b[0m\n\u001b[1;32m   3767\u001b[0m             \u001b[0;31m# turn me into an ndarray\u001b[0m\u001b[0;34m\u001b[0m\u001b[0;34m\u001b[0m\u001b[0;34m\u001b[0m\u001b[0m\n\u001b[0;32m-> 3768\u001b[0;31m             \u001b[0mvalue\u001b[0m \u001b[0;34m=\u001b[0m \u001b[0msanitize_index\u001b[0m\u001b[0;34m(\u001b[0m\u001b[0mvalue\u001b[0m\u001b[0;34m,\u001b[0m \u001b[0mself\u001b[0m\u001b[0;34m.\u001b[0m\u001b[0mindex\u001b[0m\u001b[0;34m)\u001b[0m\u001b[0;34m\u001b[0m\u001b[0;34m\u001b[0m\u001b[0m\n\u001b[0m\u001b[1;32m   3769\u001b[0m             \u001b[0;32mif\u001b[0m \u001b[0;32mnot\u001b[0m \u001b[0misinstance\u001b[0m\u001b[0;34m(\u001b[0m\u001b[0mvalue\u001b[0m\u001b[0;34m,\u001b[0m \u001b[0;34m(\u001b[0m\u001b[0mnp\u001b[0m\u001b[0;34m.\u001b[0m\u001b[0mndarray\u001b[0m\u001b[0;34m,\u001b[0m \u001b[0mIndex\u001b[0m\u001b[0;34m)\u001b[0m\u001b[0;34m)\u001b[0m\u001b[0;34m:\u001b[0m\u001b[0;34m\u001b[0m\u001b[0;34m\u001b[0m\u001b[0m\n\u001b[1;32m   3770\u001b[0m                 \u001b[0;32mif\u001b[0m \u001b[0misinstance\u001b[0m\u001b[0;34m(\u001b[0m\u001b[0mvalue\u001b[0m\u001b[0;34m,\u001b[0m \u001b[0mlist\u001b[0m\u001b[0;34m)\u001b[0m \u001b[0;32mand\u001b[0m \u001b[0mlen\u001b[0m\u001b[0;34m(\u001b[0m\u001b[0mvalue\u001b[0m\u001b[0;34m)\u001b[0m \u001b[0;34m>\u001b[0m \u001b[0;36m0\u001b[0m\u001b[0;34m:\u001b[0m\u001b[0;34m\u001b[0m\u001b[0;34m\u001b[0m\u001b[0m\n",
      "\u001b[0;32m~/VirtualEnvs/Python 3/lib/python3.7/site-packages/pandas/core/internals/construction.py\u001b[0m in \u001b[0;36msanitize_index\u001b[0;34m(data, index)\u001b[0m\n\u001b[1;32m    746\u001b[0m     \u001b[0;32mif\u001b[0m \u001b[0mlen\u001b[0m\u001b[0;34m(\u001b[0m\u001b[0mdata\u001b[0m\u001b[0;34m)\u001b[0m \u001b[0;34m!=\u001b[0m \u001b[0mlen\u001b[0m\u001b[0;34m(\u001b[0m\u001b[0mindex\u001b[0m\u001b[0;34m)\u001b[0m\u001b[0;34m:\u001b[0m\u001b[0;34m\u001b[0m\u001b[0;34m\u001b[0m\u001b[0m\n\u001b[1;32m    747\u001b[0m         raise ValueError(\n\u001b[0;32m--> 748\u001b[0;31m             \u001b[0;34m\"Length of values \"\u001b[0m\u001b[0;34m\u001b[0m\u001b[0;34m\u001b[0m\u001b[0m\n\u001b[0m\u001b[1;32m    749\u001b[0m             \u001b[0;34mf\"({len(data)}) \"\u001b[0m\u001b[0;34m\u001b[0m\u001b[0;34m\u001b[0m\u001b[0m\n\u001b[1;32m    750\u001b[0m             \u001b[0;34m\"does not match length of index \"\u001b[0m\u001b[0;34m\u001b[0m\u001b[0;34m\u001b[0m\u001b[0m\n",
      "\u001b[0;31mValueError\u001b[0m: Length of values (20800) does not match length of index (124800)"
     ]
    }
   ],
   "source": [
    "train[\"letter\"] = [chr(ord('@')+x) for x in labels]"
   ]
  },
  {
   "cell_type": "code",
   "execution_count": 11,
   "metadata": {
    "ExecuteTime": {
     "end_time": "2021-06-01T23:35:53.253651Z",
     "start_time": "2021-06-01T23:35:40.170398Z"
    },
    "execution": {
     "iopub.execute_input": "2021-11-04T03:29:02.409315Z",
     "iopub.status.busy": "2021-11-04T03:29:02.409086Z",
     "iopub.status.idle": "2021-11-04T03:29:14.109891Z",
     "shell.execute_reply": "2021-11-04T03:29:14.109008Z",
     "shell.execute_reply.started": "2021-11-04T03:29:02.409271Z"
    }
   },
   "outputs": [],
   "source": [
    "train.to_csv(\"letters.csv\")"
   ]
  },
  {
   "cell_type": "code",
   "execution_count": 12,
   "metadata": {
    "ExecuteTime": {
     "end_time": "2021-06-01T23:35:56.027521Z",
     "start_time": "2021-06-01T23:35:53.255306Z"
    },
    "execution": {
     "iopub.execute_input": "2021-11-04T03:29:14.118133Z",
     "iopub.status.busy": "2021-11-04T03:29:14.117798Z",
     "iopub.status.idle": "2021-11-04T03:29:17.313041Z",
     "shell.execute_reply": "2021-11-04T03:29:17.312492Z",
     "shell.execute_reply.started": "2021-11-04T03:29:14.118097Z"
    }
   },
   "outputs": [],
   "source": [
    "images, labels = mndata.load_testing()"
   ]
  },
  {
   "cell_type": "code",
   "execution_count": 21,
   "metadata": {
    "ExecuteTime": {
     "end_time": "2021-06-01T23:35:57.692619Z",
     "start_time": "2021-06-01T23:35:56.028827Z"
    },
    "execution": {
     "iopub.execute_input": "2021-11-04T03:31:07.716505Z",
     "iopub.status.busy": "2021-11-04T03:31:07.716199Z",
     "iopub.status.idle": "2021-11-04T03:31:07.728762Z",
     "shell.execute_reply": "2021-11-04T03:31:07.727419Z",
     "shell.execute_reply.started": "2021-11-04T03:31:07.716471Z"
    },
    "tags": []
   },
   "outputs": [
    {
     "name": "stdout",
     "output_type": "stream",
     "text": [
      "  0  0  0  0  0  0  0  0  0  0  0  0  0  0  0  0  0  0  0  0  0  0  0  0  0  0  0  0\n",
      "  0  0  0  0  0  0  0  0  0  0  0  0  0  0  2  2  0  0  0  0  0  0  0  0  0  0  0  0\n",
      "  0  0  0  0  0  0  0  0  0  0  0  0  0  0 75 75  8  0  0  0  0  0  0  0  0  0  0  0\n",
      "  0  0  0  0  0  0  0  0  0  0  0  0  0  4215243113  0  0  0  0  0  0  0  0  0  0  0\n",
      "  0  0  0  0  0  0  0  0  0  0  0  0  0  4217250127  0  0  0  0  0  0  0  0  0  0  0\n",
      "  0  0  0  0  0  0  0  0  0  0  0  0  0 21233249125  0  0  0  0  0  0  0  0  0  0  0\n",
      "  0  0  0  0  0  0  0  0  0  0  0  0  0 38249233 82  0  0  0  0  0  0  0  0  0  0  0\n",
      "  0  0  0  0  0  0  0  0  0  0  0  0  7 95252218 43  4  4  4  4  2  0  0  0  0  0  0\n",
      "  0  0  0  0  0  0  0  0  0  0 20114145234254249222217217217215158  8  0  0  0  0  0\n",
      "  0  0  0  0  0  0  0  0  0  3109245250254254254254250250250254245 77  2  0  0  0  0\n",
      "  0  0  0  0  0  0  0  0  0  3108172149236252189128 51 37 51191250 84  2  0  0  0  0\n",
      "  0  0  0  0  0  0  0  0  0  0 18 24 88234233 84  6  0  0  4175250 82  2  0  0  0  0\n",
      "  0  0  0  0  0  0  0  0  0  0  0 34175251217 39  0  0  0 34232251 80  2  0  0  0  0\n",
      "  0  0  0  0  0  0  0  0  0  0  0125249254234 96 11 11 79187253208  8  0  0  0  0  0\n",
      "  0  0  0  0  0  0  0  0  0  0  0140250255253221141141220251244126  0  0  0  0  0  0\n",
      "  0  0  0  0  0  0  0  0  0  0  9220254247218233249251250232 90  8  0  0  0  0  0  0\n",
      "  0  0  0  0  0  0  0  0  0  0 46246251176 41 82125159137 82  7  0  0  0  0  0  0  0\n",
      "  0  0  0  0  0  0  0  0  0  4114253233 84  0  2  4 16  8  2  0  0  0  0  0  0  0  0\n",
      "  0  0  0  0  0  0  0  0  0 22173251170 21  0  0  0  0  0  0  0  0  0  0  0  0  0  0\n",
      "  0  0  0  0  0  0  0  0  7 95232232 83  3  0  0  0  0  0  0  0  0  0  0  0  0  0  0\n",
      "  0  0  0  0  0  0  0  0 38216254140  9  0  0  0  0  0  0  0  0  0  0  0  0  0  0  0\n",
      "  0  0  0  0  0  0  0  1 96234253114  4  0  0  0  0  0  0  0  0  0  0  0  0  0  0  0\n",
      "  0  0  0  0  0  0  0 22218253244 46  0  0  0  0  0  0  0  0  0  0  0  0  0  0  0  0\n",
      "  0  0  0  0  0 32127177253232 95  1  0  0  0  0  0  0  0  0  0  0  0  0  0  0  0  0\n",
      "  0  0  0  0  3 99246252245159 22  0  0  0  0  0  0  0  0  0  0  0  0  0  0  0  0  0\n",
      "  0  0  0  0  0  7 81125 77  8  0  0  0  0  0  0  0  0  0  0  0  0  0  0  0  0  0  0\n",
      "  0  0  0  0  0  0  2  4  2  0  0  0  0  0  0  0  0  0  0  0  0  0  0  0  0  0  0  0\n",
      "  0  0  0  0  0  0  0  0  0  0  0  0  0  0  0  0  0  0  0  0  0  0  0  0  0  0  0  0\n"
     ]
    }
   ],
   "source": [
    "print_data(np.reshape(train.loc[60, [x for x in train.columns if x != \"letter\"]].values, (28, 28)))"
   ]
  },
  {
   "cell_type": "code",
   "execution_count": 22,
   "metadata": {
    "ExecuteTime": {
     "end_time": "2021-06-01T23:36:03.464515Z",
     "start_time": "2021-06-01T23:35:57.693939Z"
    },
    "execution": {
     "iopub.execute_input": "2021-11-04T03:31:28.206447Z",
     "iopub.status.busy": "2021-11-04T03:31:28.205669Z",
     "iopub.status.idle": "2021-11-04T03:31:33.045760Z",
     "shell.execute_reply": "2021-11-04T03:31:33.045046Z",
     "shell.execute_reply.started": "2021-11-04T03:31:28.206360Z"
    },
    "tags": []
   },
   "outputs": [],
   "source": [
    "val = pd.DataFrame(data=images, columns=[f\"{i+1}x{j+1}\" for i in range(28) for j in range(28)])\n",
    "val[\"letter\"] = [chr(ord('@')+x) for x in labels]"
   ]
  },
  {
   "cell_type": "markdown",
   "metadata": {},
   "source": [
    "### EDA"
   ]
  },
  {
   "cell_type": "code",
   "execution_count": 23,
   "metadata": {
    "ExecuteTime": {
     "end_time": "2021-06-01T23:36:04.077056Z",
     "start_time": "2021-06-01T23:36:03.466140Z"
    },
    "execution": {
     "iopub.execute_input": "2021-11-04T03:31:33.046871Z",
     "iopub.status.busy": "2021-11-04T03:31:33.046696Z",
     "iopub.status.idle": "2021-11-04T03:31:33.146703Z",
     "shell.execute_reply": "2021-11-04T03:31:33.146002Z",
     "shell.execute_reply.started": "2021-11-04T03:31:33.046849Z"
    },
    "scrolled": true,
    "tags": []
   },
   "outputs": [
    {
     "name": "stdout",
     "output_type": "stream",
     "text": [
      "  0  0  0  0  0  0  0  0  0  0  0  0  0  0  0  0  0  0  0  0  0  0  0  0  0  0  0  0\n",
      "  0  0  0  0  0  0  0  0  0  0  0  0  0  0  0  0  0  0  0  0  0  0  0  0  0  0  0  0\n",
      "  0  0  0  0  0  0  0  0  0  0  0  0  0  0  0  0  0  0  0  0  0  0  0  0  0  0  0  0\n",
      "  0  0  0  0  0  0  0  0  0  0  0  0  0  0  0  0  0  0  0  0  0  0  0  0  0  0  0  0\n",
      "  0  0  0  0  0  0  0  0  0  0  0  0  0  0  0  0  0  0  0  0  0  0  0  0  0  0  0  0\n",
      "  0  0  0  0  0  0  0  0  0  0  0  0  0  0  0  0  0  0  0  0  0  0  0  0  0  0  0  0\n",
      "  0  0  0  0  0  0  0  0  0  4 21 32 37 37 20  1  0  0  0  0  0  0  0  0  0  0  0  0\n",
      "  0  0  0  0  0  0  0  4 22110172203217214138 15  0  0  0  0  0  0  0  0  0  0  0  0\n",
      "  0  0  0  0  0 20 45114145232252254254232 93  6  0  0  0  0  0  0  0  0  0  0  0  0\n",
      "  0  0  0  0  3 67122203222249254254250207 51  4  1  0  0  0  0  0  0  0  0  0  0  0\n",
      "  0  0  0  5 47175231254254253232209142111119 93 53 18  0  0  0  0  0  0  0  0  0  0\n",
      "  0  0  0 33190247253254253219 98 54 77177243236165 81  2  0  0  0  0  0  0  0  0  0\n",
      "  0  0  3 84233254254254228126 91118188250254254215125  4  0  0  0  0  0  0  0  0  0\n",
      "  0  0 20169251254255253218213233245252254255254222140  9  0  0  0  0  0  0  0  0  0\n",
      "  0  0 27190253254255254242246252254254254255254233173 22  0  0  0  0  0  0  0  0  0\n",
      "  0  0  8126244254254254254254254254252250252254251232100 20  0  0  0  0  0  0  0  0\n",
      "  0  0  0 33163244251254254252245232172130173232253253230111  7  0  0  0  0  0  0  0\n",
      "  0  0  0  1 33127175243243177115 82 22  5 22100232250250190115 33  8  0  0  0  0  0\n",
      "  0  0  0  0  0 10 34113113 34  4  2  0  0  0 32152170188243242160 92 33  8  0  0  0\n",
      "  0  0  0  0  0  1  7 32 32  7  0  0  0  0  0 17 75 81108218243188145106 42  5  0  0\n",
      "  0  0  0  0  0  0  0  0  0  0  0  0  0  0  0  0  2  2  9 77112 51 50106112 24  0  0\n",
      "  0  0  0  0  0  0  0  0  0  0  0  0  0  0  0  0  0  0  0  2  3  0  0  4 15  4  0  0\n",
      "  0  0  0  0  0  0  0  0  0  0  0  0  0  0  0  0  0  0  0  0  0  0  0  0  0  0  0  0\n",
      "  0  0  0  0  0  0  0  0  0  0  0  0  0  0  0  0  0  0  0  0  0  0  0  0  0  0  0  0\n",
      "  0  0  0  0  0  0  0  0  0  0  0  0  0  0  0  0  0  0  0  0  0  0  0  0  0  0  0  0\n",
      "  0  0  0  0  0  0  0  0  0  0  0  0  0  0  0  0  0  0  0  0  0  0  0  0  0  0  0  0\n",
      "  0  0  0  0  0  0  0  0  0  0  0  0  0  0  0  0  0  0  0  0  0  0  0  0  0  0  0  0\n",
      "  0  0  0  0  0  0  0  0  0  0  0  0  0  0  0  0  0  0  0  0  0  0  0  0  0  0  0  0\n",
      "\n",
      "\n",
      "\n",
      "  0  0  0  0  0  0  0  0  0  0  0  0  0  0  0  0  0  0  0  0  0  0  0  0  0  0  0  0\n",
      "  0  0  0  0  0  0  0  0  0  0  0  0  0  0  0  0  0  0  0  2  2  0  0  0  0  0  0  0\n",
      "  0  0  0  0  0  0  0  0  0  0  0  0  0  0  0  0  0  0  7 75 75  7  0  0  0  0  0  0\n",
      "  0  0  0  0  0  0  0  0  0  0  0  0  0  0  0  0  0  5 59205187 27  0  0  0  0  0  0\n",
      "  0  0  0  0  0  0  0  0  0  0  0  0  0  0  0  0  0 33191245140  9  0  0  0  0  0  0\n",
      "  0  0  0  0  0  0  0  0  0  0  0  0  0  0  0  0  8 96234245114  4  0  0  0  0  0  0\n",
      "  0  0  0  0  0  0  0  0  0  0  0  0  0  0  0  3 79218252208 46  0  0  0  0  0  0  0\n",
      "  0  0  0  0  0  0  0  0  0  0  0  0  0  0  1 36175251245127  8  0  0  0  0  0  0  0\n",
      "  0  0  0  0  0  0  0  0  0  0  0  0  0  0 22159246253207 46  0  0  0  0  0  0  0  0\n",
      "  0  0  0  0  0  0  0  0  0  0  0  0  0  3 83232254234 95  7  0  0  0  0  0  0  0  0\n",
      "  0  0  0  0  0  0  0  0  0  0  0  0  0 22171251249191 33  0  0  0  0  0  0  0  0  0\n",
      "  0  0  0  0  0  0  0  0  0  0  0  0  3 83232253209 59  5  0  0  0  0  0  0  0  0  0\n",
      "  0  0  0  0  0  0  0  0  0  0  0  1 36175251251143 30 37 32  7  0  0  0  0  0  0  0\n",
      "  0  0  0  0  0  0  0  0  0  0  0 22159246254252192174215201 77  2  0  0  0  0  0  0\n",
      "  0  0  0  0  0  0  0  0  0  0  3 83232254255254252252254249125  4  0  0  0  0  0  0\n",
      "  0  0  0  0  0  0  0  0  0  0 34175251254254253234223249250127  4  0  0  0  0  0  0\n",
      "  0  0  0  0  0  0  0  0  0 10127244254254249207 96 84227250127  4  0  0  0  0  0  0\n",
      "  0  0  0  0  0  0  0  0  3 79220254254253207 59 12116245249125  4  0  0  0  0  0  0\n",
      "  0  0  0  0  0  0  0  3 36175251254253219 90  7 22172252233 82  2  0  0  0  0  0  0\n",
      "  0  0  0  0  0  0  2 67175246254254232 95  9  3 83232253204 34  0  0  0  0  0  0  0\n",
      "  0  0  0  0  0  0 22170250254254245159 22  7 48176251246127  8  0  0  0  0  0  0  0\n",
      "  0  0  0  0  0  2 81232254254246164 40 24 95207247253207 46  0  0  0  0  0  0  0  0\n",
      "  0  0  0  0  0  3112244254253196 86117172232253253219 90  7  0  0  0  0  0  0  0  0\n",
      "  0  0  0  0  0  0 50220254254237223245252253246207 90  9  0  0  0  0  0  0  0  0  0\n",
      "  0  0  0  0  0  0 20154232249250250250245208127 46  7  0  0  0  0  0  0  0  0  0  0\n",
      "  0  0  0  0  0  0  1 22 81125127127127114 46  8  0  0  0  0  0  0  0  0  0  0  0  0\n",
      "  0  0  0  0  0  0  0  0  2  4  4  4  4  4  0  0  0  0  0  0  0  0  0  0  0  0  0  0\n",
      "  0  0  0  0  0  0  0  0  0  0  0  0  0  0  0  0  0  0  0  0  0  0  0  0  0  0  0  0\n",
      "\n",
      "\n",
      "\n",
      "  0  0  0  0  0  0  0  0  0  0  0  0  0  0  0  0  0  0  0  0  0  0  0  0  0  0  0  0\n",
      "  0  0  0  0  0  0  0  0  0  0  0  0  0  0  0  0  0  0  0  0  0  0  0  0  0  0  0  0\n",
      "  0  0  0  0  0  0  0  0  0  0  0  0  0  0  0  0  0  0  0  0  0  0  0  0  0  0  0  0\n",
      "  0  0  0  0  0  0  0  0  0  0  0  0  2  4  4  2  0  0  0  0  0  0  0  0  0  0  0  0\n",
      "  0  0  0  0  0  0  0  0  0  0  0  3 21 37 37 21  5  2  0  0  0  0  0  0  0  0  0  0\n",
      "  0  0  0  0  0  0  0  0  3  8 34 84170215215172127 82 33 19  0  0  0  0  0  0  0  0\n",
      "  0  0  0  0  0  0  4 22 83127204233251254254252249233191126 22  0  0  0  0  0  0  0\n",
      "  0  0  0  0  3 20110172232246253246233223225250254254249232109  3  0  0  0  0  0  0\n",
      "  0  0  0  0 12 47190233251253247210173149163241254255254248125  4  0  0  0  0  0  0\n",
      "  0  0  0 20123175247254247232159 49 51135180248254254253243113  4  0  0  0  0  0  0\n",
      "  0  0  2 81230250254234159 95 22  3 63197224226244233202158 33  0  0  0  0  0  0  0\n",
      "  0  0  9139250254246132 23  7  0  0  7 44 68 62112 82 34 20  1  0  0  0  0  0  0  0\n",
      "  0  0 21172252254233 84  4  0  0  0  0  8 16 13 32 21  4  2  0  0  0  0  0  0  0  0\n",
      "  0  0 32202254254218 41  0  0  0  0  0  0  0  0  0  0  0  0  0  0  0  0  0  0  0  0\n",
      "  0  0  8127246254233 82  2  0  0  0  0  0  0  0  0  0  0  0  0  0  0  0  0  0  0  0\n",
      "  0  0  0 51222250250144 24  7  0  0  0  0  0  0  0  0  0  0  0  0  0  0  0  0  0  0\n",
      "  0  0  0 38216249252189 79 32  0  0  0  0  0  0  0  0  0  0  0  0  0  0  0  0  0  0\n",
      "  0  0  0 20158218253251207131 24  4  0  0  0  0  0  0  0  0  5 27  9  5  2  0  0  0\n",
      "  0  0  0  1 36 95232254249234173115 50 21  9  4  4  0  0  0 32171140126 65  2  0  0\n",
      "  0  0  0  0  3 22154234254254252245220172140127114 46 10 10 64221250248169 21  0  0\n",
      "  0  0  0  0  0  7 79187248252254254250233222217203127 52 52133236254253202 32  0  0\n",
      "  0  0  0  0  0  0  4 66138172220245252254254254254246222222246253247232154 20  0  0\n",
      "  0  0  0  0  0  0  0  2  9 21 50115172215217222245250250250245220159 95 22  1  0  0\n",
      "  0  0  0  0  0  0  0  0  0  0  0  4 21 37 37 51114127127127114 50 20  7  0  0  0  0\n",
      "  0  0  0  0  0  0  0  0  0  0  0  0  2  4  4  9 32 37 37 37 32  9  2  0  0  0  0  0\n",
      "  0  0  0  0  0  0  0  0  0  0  0  0  0  0  0  0  0  0  0  0  0  0  0  0  0  0  0  0\n",
      "  0  0  0  0  0  0  0  0  0  0  0  0  0  0  0  0  0  0  0  0  0  0  0  0  0  0  0  0\n",
      "  0  0  0  0  0  0  0  0  0  0  0  0  0  0  0  0  0  0  0  0  0  0  0  0  0  0  0  0\n",
      "\n",
      "\n",
      "\n",
      "  0  0  0  0  0  0  0  0  0  0  0  0  0  0  0  0  0  0  0  0  0  0  0  0  0  0  0  0\n",
      "  0  0  0  0  0  0  0  0  0  0 19 69 39  5  0  0  0  0  0  0  0  0  0  0  0  0  0  0\n",
      "  0  0  0  0  0  0  0  0  0  1175251250131  7  0  0  0  0  0  0  0  0  0  0  0  0  0\n",
      "  0  0  0  0  0  0  0  0  0 37254249218252163  0  0  0  0  0  0  0  0  0  0  0  0  0\n",
      "  0  0  0  0  0  0  0  0  0 37254218 10220250  9  0  0  0  0  0  0  0  0  0  0  0  0\n",
      "  0  0  0  0  0  0  0  0  0  5250245 32 36234159  2  0  0  0  0  0  0  0  0  0  0  0\n",
      "  0  0  0  0  0  0  0  0  0  4250250 37  2159217  4  0  0  0  0  0  0  0  0  0  0  0\n",
      "  0  0  0  0  0  0  0  0  0  4249252 82  0 34233 34  0  0  0  0  0  0  0  0  0  0  0\n",
      "  0  0  0  0  0  0  0  0  0  0217254127  0  4245172  2  0  0  0  0  0  0  0  0  0  0\n",
      "  0  0  0  0  0  0  0  0  0  0203254140  0  0172217  5  0  0  0  0  0  0  0  0  0  0\n",
      "  0  0  0  0  0  0  0  0  0  0127254233  2  0127249 37  0  0  0  0  0  0  0  0  0  0\n",
      "  0  0  0  0  0  0  0  0  0  0 82252250  9  0 82247 39  0  0  0  0  0  0  0  0  0  0\n",
      "  0  0  0  0  0  0  0  0  1 46209254254 39  0 37250125  0  0  0  0  0  0  0  0  0  0\n",
      "  0  0  0  0  0  0  0  0 46242254255254127  0 37250127  0  0  0  0  0  0  0  0  0  0\n",
      "  0  0  0  0  0  0  0  2220254196252254245 32 82252125  0  0  0  0  0  0  0  0  0  0\n",
      "  0  0  0  0  0  0  0  5250234 46216192252 96170234 34  0  0  0  0  0  0  0  0  0  0\n",
      "  0  0  0  0  0  0  0 50254217  0  2 34251253248158  2  0  0  0  0  0  0  0  0  0  0\n",
      "  0  0  0  0  0  0  0125254205  0  0  0222255222 11  0  0  0  0  0  0  0  0  0  0  0\n",
      "  0  0  0  0  0  0  0114254221 10 34115245254234 36  0  0  0  0  0  0  0  0  0  0  0\n",
      "  0  0  0  0  0  0  0 22251254222245250 98132254207 10  0  0  0  0  0  0  0  0  0  0\n",
      "  0  0  0  0  0  0  0  0 46139172 82 21  0  3218254202  0  0  0  0  0  0  0  0  0  0\n",
      "  0  0  0  0  0  0  0  0  0  0  2  0  0  0  0 47244247 33  0  0  0  0  0  0  0  0  0\n",
      "  0  0  0  0  0  0  0  0  0  0  0  0  0  0  0  1 95251175  7  0  0  0  0  0  0  0  0\n",
      "  0  0  0  0  0  0  0  0  0  0  0  0  0  0  0  0  1 91253128  0  0  0  0  0  0  0  0\n",
      "  0  0  0  0  0  0  0  0  0  0  0  0  0  0  0  0  0  3218244  8  0  0  0  0  0  0  0\n",
      "  0  0  0  0  0  0  0  0  0  0  0  0  0  0  0  0  0  0  9163113  0  0  0  0  0  0  0\n",
      "  0  0  0  0  0  0  0  0  0  0  0  0  0  0  0  0  0  0  0  8 62  0  0  0  0  0  0  0\n",
      "  0  0  0  0  0  0  0  0  0  0  0  0  0  0  0  0  0  0  0  0  0  0  0  0  0  0  0  0\n",
      "\n",
      "\n",
      "\n",
      "  0  0  0  0  0  0  0  0  0  0  0  0  0  0  0  0  0  0  0  0  0  0  0  0  0  0  0  0\n",
      "  0  0  0  0  0  0  0  0  0  0  0  0  0  0  0  0  0  0  0  0  0  0  0  0  0  0  0  0\n",
      "  0  0  0  0  0  0  0  0  0  1 16 20 16  4  2  0  0  0  0  0  0  0  0  0  0  0  0  0\n",
      "  0  0  0  0  0  0  0  0  6 35143168160115 82 33  5  0  0  0  0  0  0  0  0  0  0  0\n",
      "  0  0  0  0  0  0  0  1 32 95204229229204172110 22  4  0  0  0  0  0  0  0  0  0  0\n",
      "  0  0  0  0  0  0  8 35162232249254254254252232131 79  7  0  0  0  0  0  0  0  0  0\n",
      "  0  0  0  0  0  3 79159245254254253252254254254242206 47  1  0  0  0  0  0  0  0  0\n",
      "  0  0  0  0  0 22171232254247210184174210232252254247159 20  0  0  0  0  0  0  0  0\n",
      "  0  0  0  0  0 46208246253221129 95 84129171234254253202 34  0  0  0  0  0  0  0  0\n",
      "  0  0  0  0  4114245253234 96 10  3  2 10 31159251254233 84  3  0  0  0  0  0  0  0\n",
      "  0  0  0  0  4127250254218 43  9 21 37 52 96221254254251169 20  2  0  0  0  0  0  0\n",
      "  0  0  0  0  4127250254236146140172215222234253254254250168 20  2  0  0  0  0  0  0\n",
      "  0  0  0  0  4127250254249222222233249250252254254251230122  8  0  0  0  0  0  0  0\n",
      "  0  0  0  0  4127250254254254254254250250250249220175 83 20  0  0  0  0  0  0  0  0\n",
      "  0  0  0  0  4127250254254252232208140127127125 77 34  3  0  0  0  0  0  0  0  0  0\n",
      "  0  0  0  0  4125249254252191 85 46  9  4  4  4  2  0  0  0  0  0  0  0  0  0  0  0\n",
      "  0  0  0  0  4114245254251159 31 10  0  0  0  0  0  0  0  0  0  0  0  0  0  0  0  0\n",
      "  0  0  0  0  0 46208246254220 79 22  0  0  0  0  0  0  0  0  0  1 14  4  0  0  0  0\n",
      "  0  0  0  0  0  9139220254251176100 22  5  4  4  0  0  0  1 22 47126 30  0  0  0  0\n",
      "  0  0  0  0  0  2 82170251254247232173129127114 51 39 37 52159206208 36  0  0  0  0\n",
      "  0  0  0  0  0  0 46126244254254251233217217203140129127141220242201 32  0  0  0  0\n",
      "  0  0  0  0  0  0  7 33163245254254254254254254250250250250246220 91  7  0  0  0  0\n",
      "  0  0  0  0  0  0  0  1 35159232245251253254254254255254254208128 10  0  0  0  0  0\n",
      "  0  0  0  0  0  0  0  0  1 22 82115160184206233249250249230122 45  0  0  0  0  0  0\n",
      "  0  0  0  0  0  0  0  0  0  3 21 34 70 94117172215217215170 67 20  0  0  0  0  0  0\n",
      "  0  0  0  0  0  0  0  0  0  0  0  0  1  3  4 21 37 37 37 21  2  0  0  0  0  0  0  0\n",
      "  0  0  0  0  0  0  0  0  0  0  0  0  0  0  0  0  0  0  0  0  0  0  0  0  0  0  0  0\n",
      "  0  0  0  0  0  0  0  0  0  0  0  0  0  0  0  0  0  0  0  0  0  0  0  0  0  0  0  0\n",
      "\n",
      "\n",
      "\n",
      "  0  0  0  0  0  0  0  0  0  0  0  0  0  0  0  0  0  0  0  0  0  0  0  0  0  0  0  0\n",
      "  0  0  0  0  0  0  0  0  0  0  0  0  2 21 32  5  4  2  0  0  0  0  0  0  0  0  0  0\n",
      "  0  0  0  0  0  0  0  0  0  0  0  7 82172202129125 82 21  0  0  0  0  0  0  0  0  0\n",
      "  0  0  0  0  0  0  0  0  0  0 78175251254250250254252232 90  9  0  0  0  0  0  0  0\n",
      "  0  0  0  0  0  0  0  0  0 11220254246128 51 51125141244245163  7  0  0  0  0  0  0\n",
      "  0  0  0  0  0  0  0  0  0 77247254177 10  0  0  4 11127245244 46  0  0  0  0  0  0\n",
      "  0  0  0  0  0  0  0  0  2172254254125  0  0  0  0  0  1 91220139  0  0  0  0  0  0\n",
      "  0  0  0  0  0  0  0  0  4217254250 51  0  0  0  0  0  0  4115231 21  0  0  0  0  0\n",
      "  0  0  0  0  0  0  0  0  5217255250 37  0  0  0  0  0  0  0 22229 37  0  0  0  0  0\n",
      "  0  0  0  0  0  0  0  0 34234254250 37  0  0  0  0  0  0  0  5212 37  0  0  0  0  0\n",
      "  0  0  0  0  0  0  0  2 80251254233 21  0  0  0  0  0  0  0 11176  8  0  0  0  0  0\n",
      "  0  0  0  0  0  0  0  0  9222254217  4  0  0  0  0  0  0  1 61 75  0  0  0  0  0  0\n",
      "  0  0  0  0  0  0  0  0  4217254217  4  0  0  0  0  0  0  0  6  6  0  0  0  0  0  0\n",
      "  0  0  0  0  0  0  0  0  8217254217  4  0  0  0  0  0  0  0  0  0  0  0  0  0  0  0\n",
      "  0  0  0  0  0  0  7 63191249254236 96 49 37 37 37 37 36  5  0  0  0  0  0  0  0  0\n",
      "  0  0  0  0  0  7163250254255254254253250250250249245201 19  0  0  0  0  0  0  0  0\n",
      "  0  0  0  0  0 27223250250251254254252233217217203139 46  1  0  0  0  0  0  0  0  0\n",
      "  0  0  0  0  0  0 21 37 37 69251254146 21  5  4  4  0  0  0  0  0  0  0  0  0  0  0\n",
      "  0  0  0  0  0  0  0  0  0 33246254127  0  0  0  0  0  0  0  0  0  0  0  0  0  0  0\n",
      "  0  0  0  0  0  0  0  0  0 25238254127  0  0  0  0  0  0  0  0  0  0  0  0  0  0  0\n",
      "  0  0  0  0  0  0  0  0  0  9222254127  0  0  0  0  0  0  0  0  0  0  0  0  0  0  0\n",
      "  0  0  0  0  0  0  0  0  0  4217254140  0  0  0  0  0  0  0  0  0  0  0  0  0  0  0\n",
      "  0  0  0  0  0  0  0  0  0  4215254232 21  0  0  0  0  0  0  0  0  0  0  0  0  0  0\n",
      "  0  0  0  0  0  0  0  0  0  2170251249 37  0  0  0  0  0  0  0  0  0  0  0  0  0  0\n",
      "  0  0  0  0  0  0  0  0  0  0 50220250 37  0  0  0  0  0  0  0  0  0  0  0  0  0  0\n",
      "  0  0  0  0  0  0  0  0  0  0  8110158 18  0  0  0  0  0  0  0  0  0  0  0  0  0  0\n",
      "  0  0  0  0  0  0  0  0  0  0  0 14 16  0  0  0  0  0  0  0  0  0  0  0  0  0  0  0\n",
      "  0  0  0  0  0  0  0  0  0  0  0  0  0  0  0  0  0  0  0  0  0  0  0  0  0  0  0  0\n",
      "\n",
      "\n",
      "\n",
      "  0  0  0  0  0  0  0  0  0  0  0  0  0  0  0  0  0  0  0  0  0  0  0  0  0  0  0  0\n",
      "  0  0  0  0  0  0  0  0  0  0  0  0  3 50125 46  3  0  0  0  0  0  0  0  0  0  0  0\n",
      "  0  0  0  0  0  0  0  0  0  0 22114173250254245154  4  0  0  0  0  0  0  0  0  0  0\n",
      "  0  0  0  0  0  0  0  0  2123251245204 82 37128227223 23  0  0  0  0  0  0  0  0  0\n",
      "  0  0  0  0  0  0  0  0 47245164 34  4  0  0  1 16 50188  3  0  0  0  0  0  0  0  0\n",
      "  0  0  0  0  0  0  0  0215234  3  0  0  0  0  0  0126217  4  0  0  0  0  0  0  0  0\n",
      "  0  0  0  0  0  0  0  0217246 12  0  0  0  0  0 12208203  4  0  0  0  0  0  0  0  0\n",
      "  0  0  0  0  0  0  0  0202254220127 39 37 37127220252 79  0  0  0  0  0  0  0  0  0\n",
      "  0  0  0  0  0  0  0  0  9159251254254254254252254250  4  0  0  0  0  0  0  0  0  0\n",
      "  0  0  0  0  0  0  0  0  0  3 82172217217172 84164251 16  0  0  0  0  0  0  0  0  0\n",
      "  0  0  0  0  0  0  0  0  0  0  0  0  0  0  0  0 37249 38  0  0  0  0  0  0  0  0  0\n",
      "  0  0  0  0  0  0  0  0  0  0  0  0  0  0  0  0  9222127  0  0  0  0  0  0  0  0  0\n",
      "  0  0  0  0  0  0  0  0  0  0  0  0  0  0  0  0  4217217  4  0  0  0  0  0  0  0  0\n",
      "  0  0  0  0  0  0  0  0  0  0  0  0  0  0  0  0  4215217  4  0  0  0  0  0  0  0  0\n",
      "  0  0  0  0  0  0  0  0  0  0  0  0  0  0  0  0  0 84233 21  0  0  0  0  0  0  0  0\n",
      "  0  0  0  0  0  0  0  0  0  0  0  0  0  0  0  0  0 32250 50  0  0  0  0  0  0  0  0\n",
      "  0  0  0  0  0  0  0  0  0  0  0  3  0  0  0  0  0  4250129  0  0  0  0  0  0  0  0\n",
      "  0  0  0  0  0  0  0  0  0  0  3153  4  0  0  0  0  4250204  0  0  0  0  0  0  0  0\n",
      "  0  0  0  0  0  0  0  0  0  0  9212 32  0  0  0  0  2233217  0  0  0  0  0  0  0  0\n",
      "  0  0  0  0  0  0  0  0  0  0 37245 37  0  0  0  0  0174217  0  0  0  0  0  0  0  0\n",
      "  0  0  0  0  0  0  0  0  0  0 39245 37  0  0  0  0  0215217  0  0  0  0  0  0  0  0\n",
      "  0  0  0  0  0  0  0  0  0  0114250 51  0  0  0  0  0217217  0  0  0  0  0  0  0  0\n",
      "  0  0  0  0  0  0  0  0  0  0127254170  0  0  0  0  4245215  0  0  0  0  0  0  0  0\n",
      "  0  0  0  0  0  0  0  0  0  0 51250247 36  4  5 34128251 83  0  0  0  0  0  0  0  0\n",
      "  0  0  0  0  0  0  0  0  0  0 37249255234217217245254195  8  0  0  0  0  0  0  0  0\n",
      "  0  0  0  0  0  0  0  0  0  0  1 59230254254250232126  1  0  0  0  0  0  0  0  0  0\n",
      "  0  0  0  0  0  0  0  0  0  0  0  0 22125127 50 21  0  0  0  0  0  0  0  0  0  0  0\n",
      "  0  0  0  0  0  0  0  0  0  0  0  0  0  0  0  0  0  0  0  0  0  0  0  0  0  0  0  0\n",
      "\n",
      "\n",
      "\n",
      "  0  0  0  0  0  0  0  0  0  0  0  0  0  0  0  0  0  0  0  0  0  0  0  0  0  0  0  0\n",
      "  0  0  0  0  0  0  0  3  0  0  0  0  0  0  0  0  0  0  0  0  1  0  0  0  0  0  0  0\n",
      "  0  0  0  0  0  1 22100 33  1  0  0  0  0  0  0  0  0  1 22 68 22  1  0  0  0  0  0\n",
      "  0  0  0  0  0 20154238158 20  0  0  0  0  0  0  0  0 33158227154 22  0  0  0  0  0\n",
      "  0  0  0  0  0 37215254215 37  0  0  0  0  0  0  0  4113243254232 81  2  0  0  0  0\n",
      "  0  0  0  0  0 37217254217 37  0  0  0  0  0  0  0  3109230253249124  4  0  0  0  0\n",
      "  0  0  0  0  0 37217254217 37  0  0  0  0  0  0  0  0 10111239220 50  0  0  0  0  0\n",
      "  0  0  0  0  0 37217254217 37  0  0  0  0  0  0  0  0 32202253172 21  0  0  0  0  0\n",
      "  0  0  0  0  0 37217254217 37  0  0  0  0  0  0  0  0 50222254129  5  0  0  0  0  0\n",
      "  0  0  0  0  0 37217254217 37  0  0  0  0  0  0  0  4115245254127  4  0  0  0  0  0\n",
      "  0  0  0  0  0 37217254217 37  0  0  0  0  0  0  0 21172252254114  4  0  0  0  0  0\n",
      "  0  0  0  0  2 80233254217 37  0  0  0  1 20 37 39101234254252103 38 21  2  0  0  0\n",
      "  0  0  0  0  2 82233254217 42 21 37 39 71160215217234253255254234216170 65  2  0  0\n",
      "  0  0  0  0  3 85234254236148172215217229248254254254255254252250249239111  3  0  0\n",
      "  0  0  0  0 22171251255254251252254254253250250252254254252189127127113 32  0  0  0\n",
      "  0  0  0  2 82232254254254250233217217204129129191252254233 84  4  4  4  0  0  0  0\n",
      "  0  0  0  4124249254254222139 82 39 37 32  5 14143251254217 39  0  0  0  0  0  0  0\n",
      "  0  0  0  0 51222254232 83  3  0  0  0  0  0 37215254254217 37  0  0  0  0  0  0  0\n",
      "  0  0  0  0 37217254173 22  0  0  0  0  0  0 37217254254217 37  0  0  0  0  0  0  0\n",
      "  0  0  0  0 51222254129  5  0  0  0  0  0  0 37217254254217 37  0  0  0  0  0  0  0\n",
      "  0  0  0  4114245254127  4  0  0  0  0  0  0 37217254254215 37  0  0  0  0  0  0  0\n",
      "  0  0  0  4127250254127  4  0  0  0  0  0  0 32202253250170 21  0  0  0  0  0  0  0\n",
      "  0  0  0  5129250254127  4  0  0  0  0  0  0  1 33111 81 20  0  0  0  0  0  0  0  0\n",
      "  0  0  0 20170252254127  4  0  0  0  0  0  0  0  0  3  2  0  0  0  0  0  0  0  0  0\n",
      "  0  0  0 20168247250125  4  0  0  0  0  0  0  0  0  0  0  0  0  0  0  0  0  0  0  0\n",
      "  0  0  0  2 65125127 63  2  0  0  0  0  0  0  0  0  0  0  0  0  0  0  0  0  0  0  0\n",
      "  0  0  0  0  2  4  4  2  0  0  0  0  0  0  0  0  0  0  0  0  0  0  0  0  0  0  0  0\n",
      "  0  0  0  0  0  0  0  0  0  0  0  0  0  0  0  0  0  0  0  0  0  0  0  0  0  0  0  0\n",
      "\n",
      "\n",
      "\n",
      "  0  0  0  0  0  0  0  0  0  0  0  0  0  0  0  0  0  0  0  0  0  0  0  0  0  0  0  0\n",
      "  0  0  0  0  0  0  0  0  0  0  0  0  0  0  0  0  0  0  0  0  0  0  0  0  0  0  0  0\n",
      "  0  0  0  0  0  0  0  0  0  0  0  0  0  0  0  0  0  0  0  0  1  0  0  0  0  0  0  0\n",
      "  0  0  0  0  0  0  0  0  0  0  0  0  0  0  0  0  0  0  1  8 63 30  7  0  0  0  0  0\n",
      "  0  0  0  0  0  0  0  0  0  0  0  0  0  0  0  0  0  3 36 91203 99 27  0  0  0  0  0\n",
      "  0  0  0  0  0  0  0  0  0  0  0  0  0  0  0  0  7 22 96163209 76 19  0  0  0  0  0\n",
      "  0  0  0  0  0  0  0  0  0  0  0  0  0  0  3 10 91159228224 95  9  1  0  0  0  0  0\n",
      "  0  0  0  0  0  0  0  0  0  0  0  0  0  0 20 47164218230195 47  1  0  0  0  0  0  0\n",
      "  0  0  0  0  0  0  0  0  0  0  0  0  1 10123195246243132 59  5  0  0  0  0  0  0  0\n",
      "  0  0  0  0  0  0  0  0  0  0  0  0  9 36175231245219 80 23  0  0  0  0  0  0  0  0\n",
      "  0  0  0  0  0  0  0  0  0  0  0  2 77158246251177 96  9  1  0  0  0  0  0  0  0  0\n",
      "  0  0  0  0  0  0  0  0  0  0  0  9139221255250127 38  0  0  0  0  0  0  0  0  0  0\n",
      "  0  0  0  0  0  0  0  0  0  0  3 22173234252242113 32  0  0  0  0  0  0  0  0  0  0\n",
      "  0  0  0  0  0  0  0  0  0  0 34 95233250190132 32  7  0  0  0  0  0  0  0  0  0  0\n",
      "  0  0  0  0  0  0  0  0  0  2 78159247250144 64  7  1  0  0  0  0  0  0  0  0  0  0\n",
      "  0  0  0  0  0  0  0  0  1 11140221252232 82 21  0  0  0  0  0  0  0  0  0  0  0  0\n",
      "  0  0  0  0  0  0  0  0  9 36177234244207 46  8  0  0  0  0  0  0  0  0  0  0  0  0\n",
      "  0  0  0  0  0  0  0  3 79159246251177 96  7  0  0  0  0  0  0  0  0  0  0  0  0  0\n",
      "  0  0  0  0  0  0  0 21171232253244115 34  0  0  0  0  0  0  0  0  0  0  0  0  0  0\n",
      "  0  0  0  0  0  0  0 33204245248221 78 20  0  0  0  0  0  0  0  0  0  0  0  0  0  0\n",
      "  0  0  0  0  0  0  0 51222251227153 15  2  0  0  0  0  0  0  0  0  0  0  0  0  0  0\n",
      "  0  0  0  0  0  0  3 84234252228159 16  1  0  0  0  0  0  0  0  0  0  0  0  0  0  0\n",
      "  0  0  0  0  0  2 21171251246163 89  6  0  0  0  0  0  0  0  0  0  0  0  0  0  0  0\n",
      "  0  0  0  0  0  3 32200243219 91 35  1  0  0  0  0  0  0  0  0  0  0  0  0  0  0  0\n",
      "  0  0  0  0  0  2 18108113 77  8  1  0  0  0  0  0  0  0  0  0  0  0  0  0  0  0  0\n",
      "  0  0  0  0  0  0  0  4  4  2  0  0  0  0  0  0  0  0  0  0  0  0  0  0  0  0  0  0\n",
      "  0  0  0  0  0  0  0  0  0  0  0  0  0  0  0  0  0  0  0  0  0  0  0  0  0  0  0  0\n",
      "  0  0  0  0  0  0  0  0  0  0  0  0  0  0  0  0  0  0  0  0  0  0  0  0  0  0  0  0\n",
      "\n",
      "\n",
      "\n",
      "  0  0  0  0  0  0  0  0  0  0  0  0  0  0  0  0  0  0  0  0  0  0  0  0  0  0  0  0\n",
      "  0  0  0  0  0  0  0  0  0  0  0  0  0  0  0  0  0  0  0  0  0  0  0  0  0  0  0  0\n",
      "  0  0  0  0  0  0  0  0  0  0  0  1 20 32 37 32  7  0  0  0  0  0  0  0  0  0  0  0\n",
      "  0  0  0  0  0  0  0  0  0  0  0  7 77113125113 32  0  0  0  0  0  0  0  0  0  0  0\n",
      "  0  0  0  0  0  0  0  0  0  0  0 32201241249241113  4  0  0  0  0  0  0  0  0  0  0\n",
      "  0  0  0  0  0  0  0  0  0  0  0 37217250254250127  4  0  0  0  0  0  0  0  0  0  0\n",
      "  0  0  0  0  0  0  0  0  0  0  0 37217250254249125  4  0  0  0  0  0  0  0  0  0  0\n",
      "  0  0  0  0  0  0  0  0  0  0  0 32204244234207 77  2  0  0  0  0  0  0  0  0  0  0\n",
      "  0  0  0  0  0  0  0  0  0  0  0 21170227187131 32  0  0  0  0  0  0  0  0  0  0  0\n",
      "  0  0  0  0  0  0  0  0  0  0  0  2 65107 65 22  0  0  0  0  0  0  0  0  0  0  0  0\n",
      "  0  0  0  0  0  0  0  0  0  0  0  1 17 19  3  0  0  0  0  0  0  0  0  0  0  0  0  0\n",
      "  0  0  0  0  0  0  0  0  0  0  0  8 63 63  8  1  0  0  0  0  0  0  0  0  0  0  0  0\n",
      "  0  0  0  0  0  0  0  0  0  0  2 77211211 79 22  0  0  0  0  0  0  0  0  0  0  0  0\n",
      "  0  0  0  0  0  0  0  0  0  0  4125249251170 82  2  0  0  0  0  0  0  0  0  0  0  0\n",
      "  0  0  0  0  0  0  0  0  0  0  4127250254204115  4  0  0  0  0  0  0  0  0  0  0  0\n",
      "  0  0  0  0  0  0  0  0  0  0  4127250254233172 21  0  0  0  0  0  0  0  0  0  0  0\n",
      "  0  0  0  0  0  0  0  0  0  0  4114245254250216 38  0  0  0  0  0  0  0  0  0  0  0\n",
      "  0  0  0  0  0  0  0  0  0  0  2 82233252251222 51  0  0  0  0  0  0  0  0  0  0  0\n",
      "  0  0  0  0  0  0  0  0  0  0  0 39218250254245114  4  0  0  0  0  0  0  0  0  0  0\n",
      "  0  0  0  0  0  0  0  0  0  0  0 37217250254250127  4  0  0  0  0  0  0  0  0  0  0\n",
      "  0  0  0  0  0  0  0  0  0  0  0 37217250255250127  4  0  0  0  0  0  0  0  0  0  0\n",
      "  0  0  0  0  0  0  0  0  0  0  0 32204245254250127  4  0  0  0  0  0  0  0  0  0  0\n",
      "  0  0  0  0  0  0  0  0  0  0  0 21172233254250127  4  0  0  0  0  0  0  0  0  0  0\n",
      "  0  0  0  0  0  0  0  0  0  0  0  5126214250246136  8  0  0  0  0  0  0  0  0  0  0\n",
      "  0  0  0  0  0  0  0  0  0  0  0  2 63108127126 95 13  1  0  0  0  0  0  0  0  0  0\n",
      "  0  0  0  0  0  0  0  0  0  0  0  0 18 32 37 37 30  4  0  0  0  0  0  0  0  0  0  0\n",
      "  0  0  0  0  0  0  0  0  0  0  0  0  0  0  0  0  0  0  0  0  0  0  0  0  0  0  0  0\n",
      "  0  0  0  0  0  0  0  0  0  0  0  0  0  0  0  0  0  0  0  0  0  0  0  0  0  0  0  0\n",
      "\n",
      "\n",
      "\n",
      "  0  0  0  0  0  0  0  0  0  0  0  0  0  0  0  0  0  0  0  0  0  0  0  0  0  0  0  0\n",
      "  0  0  0  0  0  0  2  2  0  0  0  0  0  0  0  0  0  0  0  0  0  0  0  0  0  0  0  0\n",
      "  0  0  0  0  0  7 76 63  2  0  0  0  0  0  0  0  0  0  0  0  0  0  0  0  0  0  0  0\n",
      "  0  0  0  0  0 37215177 36  1  0  0  0  0  0  0  0  0  0  0  0  0  0  0  0  0  0  0\n",
      "  0  0  0  0  0 37217246158 20  0  0  0  0  0  0  0  0  0  0  0  0  0  0  0  0  0  0\n",
      "  0  0  0  0  0 32203254215 37  0  0  0  0  0  0  0  0  0  0  0  0  0  0  0  0  0  0\n",
      "  0  0  0  0  0  5127254233 84  0  0  0  0  0  0  1 27  5  0  0  0  0  0  0  0  0  0\n",
      "  0  0  0  0  0  2 77247251170  2  0  0  0  0  0 20174 45  0  0  0  0  0  0  0  0  0\n",
      "  0  0  0  0  0  0 11222254216  5  0  0  0  0  1 52240114  4  0  0  0  0  0  0  0  0\n",
      "  0  0  0  0  0  0  4203254245 32  0  0  0  0 46207249125  4  0  0  0  0  0  0  0  0\n",
      "  0  0  0  0  0  0  0140250250 37  0  0  0 10128246233 82  2  0  0  0  0  0  0  0  0\n",
      "  0  0  0  0  0  0  0127250250 39  0  0  0 79220254217 39  0  0  0  0  0  0  0  0  0\n",
      "  0  0  0  0  0  0  0 82233254115  4  0  4204254254159 20  0  0  0  0  0  0  0  0  0\n",
      "  0  0  0  0  0  0  0 34204254172 21  1 36234254246 47  1  0  0  0  0  0  0  0  0  0\n",
      "  0  0  0  0  0  0  0  9140250216 40 35163253254220  9  0  0  0  0  0  0  0  0  0  0\n",
      "  0  0  0  0  0  0  0  4114245233104161245254246158  2  0  0  0  0  0  0  0  0  0  0\n",
      "  0  0  0  0  0  0  0  0 39217254241250254253191 59 32  9  2  0  0  0  0  0  0  0  0\n",
      "  0  0  0  0  0  0  0  0 37217254254254254254247222203139 82 22  4  0  0  0  0  0  0\n",
      "  0  0  0  0  0  0  0  0 37217255255255255254254254254250232172108 18  0  0  0  0  0\n",
      "  0  0  0  0  0  0  0  0 37215254254247222217217222250254254254217 37  0  0  0  0  0\n",
      "  0  0  0  0  0  0  0  0 21172254253191 58 37 37 51139204233251213 37  0  0  0  0  0\n",
      "  0  0  0  0  0  0  0  0  5129254254205 33  0  0  0  9 34 84157110 18  0  0  0  0  0\n",
      "  0  0  0  0  0  0  0  0  4114254254217 37  0  0  0  0  0  0  1  0  0  0  0  0  0  0\n",
      "  0  0  0  0  0  0  0  0  0 50250254217 37  0  0  0  0  0  0  0  0  0  0  0  0  0  0\n",
      "  0  0  0  0  0  0  0  0  0 21233254217 37  0  0  0  0  0  0  0  0  0  0  0  0  0  0\n",
      "  0  0  0  0  0  0  0  0  0  2108127108 18  0  0  0  0  0  0  0  0  0  0  0  0  0  0\n",
      "  0  0  0  0  0  0  0  0  0  0  3  4  3  0  0  0  0  0  0  0  0  0  0  0  0  0  0  0\n",
      "  0  0  0  0  0  0  0  0  0  0  0  0  0  0  0  0  0  0  0  0  0  0  0  0  0  0  0  0\n",
      "\n",
      "\n",
      "\n",
      "  0  0  0  0  0  0  0  0  0  0  0  0  0  0  0  0  0  0  0  0  0  0  0  0  0  0  0  0\n",
      "  0  0  0  0  0  0  0  0  0  0  0  0  0  0  0  0  0  0  0  0  0  0  0  0  0  0  0  0\n",
      "  0  0  0  0  0  0  0  0  0  0  0  0  0  0  0  0  5 15  8  0  0  0  0  0  0  0  0  0\n",
      "  0  0  0  0  0  0  0  0  0  0  0  0  0  0  0  0 19 64 43  5  0  0  0  0  0  0  0  0\n",
      "  0  0  0  0  0  0  0  0  0  0  0  0  0  0  0  3 84212190 32  4  0  0  0  0  0  0  0\n",
      "  0  0  0  0  0  0  0  0  0  0  0  0  0  0  7 34178246206 33  4  0  0  0  0  0  0  0\n",
      "  0  0  0  0  0  0  0  0  0  0  0  0  0  0 20 78223236175 21  2  0  0  0  0  0  0  0\n",
      "  0  0  0  0  0  0  0  0  0  0  0  0  0  0 37127253219129  5  0  0  0  0  0  0  0  0\n",
      "  0  0  0  0  0  0  0  0  0  0  0  0  0  0 39131253207116  4  0  0  0  0  0  0  0  0\n",
      "  0  0  0  0  0  0  0  0  0  0  0  0  0  3 85175247129 46  0  0  0  0  0  0  0  0  0\n",
      "  0  0  0  0  0  0  0  0  0  0  0  0  7 34178236223 51  9  0  0  0  0  0  0  0  0  0\n",
      "  0  0  0  0  0  0  0  0  0  0  0  0 20 78223249206 34  4  0  0  0  0  0  0  0  0  0\n",
      "  0  0  0  0  0  0  0  0  0  0  0  0 37127251237 97  7  0  0  0  0  0  0  0  0  0  0\n",
      "  0  0  0  0  0  0  0  0  0  0  0  0 51142245207 35  0  0  0  0  0  0  0  0  0  0  0\n",
      "  0  0  0  0  0  0  0  0  0  0  0  2 83175235175 21  0  0  0  0  0  0  0  0  0  0  0\n",
      "  0  0  0  0  0  0  0  0  0  0  0  9141223221131  5  0  0  0  0  0  0  0  0  0  0  0\n",
      "  0  0  0  0  0  0  0  0  0  0  0 46212249219127  4  0  0  0  0  0  0  0  0  0  0  0\n",
      "  0  0  0  0  0  0  0  0  0  0  2 83235255207116  4  0  0  0  0  0  0  0  0  0  0  0\n",
      "  0  0  0  0  0  0  0  0  0  0  5129252249129 46  0  0  0  0  0  0  0  0  0  0  0  0\n",
      "  0  0  0  0  0  0  0  0  0  2 21175251223 51  9  0  0  0  0  0  0  0  0  0  0  0  0\n",
      "  0  0  0  0  0  0  0  0  0  6 36207248207 35  4  0  0  0  0  0  0  0  0  0  0  0  0\n",
      "  0  0  0  0  0  0  0  0  2 67129239225143  9  0  0  0  0  0  0  0  0  0  0  0  0  0\n",
      "  0  0  0  0  0  0  0  0  4110193252221131  5  0  0  0  0  0  0  0  0  0  0  0  0  0\n",
      "  0  0  0  0  0  0  0  0  4115204236188110  4  0  0  0  0  0  0  0  0  0  0  0  0  0\n",
      "  0  0  0  0  0  0  0  0  0 32 76 82 34 19  0  0  0  0  0  0  0  0  0  0  0  0  0  0\n",
      "  0  0  0  0  0  0  0  0  0  7 20 20  4  2  0  0  0  0  0  0  0  0  0  0  0  0  0  0\n",
      "  0  0  0  0  0  0  0  0  0  0  0  0  0  0  0  0  0  0  0  0  0  0  0  0  0  0  0  0\n",
      "  0  0  0  0  0  0  0  0  0  0  0  0  0  0  0  0  0  0  0  0  0  0  0  0  0  0  0  0\n",
      "\n",
      "\n",
      "\n",
      "  0  0  0  0  0  0  0  0  0  0  0  0  0  0  0  0  0  0  0  0  0  0  0  0  0  0  0  0\n",
      "  0  0  0  0  0  0  0  0  0  0  0  0  0  0  0  0  0  0  0  0  0  0  0  0  0  0  0  0\n",
      "  0  0  0  0  0  0  0  0  0  0  0  0  0  0  0  0  0  0  0  0  0  0  0  0  0  0  0  0\n",
      "  0  0  0  0  0  0  0  0  0  0  0  0  0  0  0  0  0  0  0  0  0  0  0  0  0  0  0  0\n",
      "  0  0  0  0  0  0  0  0  0  0  0  0  0  0  0  0  0  0  0  0  0  0  0  0  0  0  0  0\n",
      "  0  0  0  0  0  0  0  0  0  0  0  0  0  0  0  0  0  0  0  0  0  0  0  0  0  0  0  0\n",
      "  0  0  0  0  0  0  0  0  0  0  0  0  0  0  0  0  0  0  0  0  0  0  0  0  0  0  0  0\n",
      "  0  0  0  0  0  0  0  0  0  0  0  0  4 32 37  8  0  0  0  0  0  4 21 37 32  2  0  0\n",
      "  0  0  0  0  0  0 32 99  7  0 22122204242248190 32  0  2  9 95202233250245109  3  0\n",
      "  0  0  0  0  0  8126233 32  9131231233154223217 37  1 66138227221217237253114  4  0\n",
      "  0  0  0  0  0 32203249 46 91243230127 23154217 39 34187245195 64 46196244 46  0  0\n",
      "  0  0  0  0  0 39217252196244163 36  3 83232236160221219 95  9 24159244159  3  0  0\n",
      "  0  0  0  0  0 84233254253232 36  1  3171251254248231 90  9 20127233164 35  0  0  0\n",
      "  0  0  0  0  7175252255234154  3  0 34232254247176 83  7  0 83230243 47  1  0  0  0\n",
      "  0  0  0  0 50250254245 79  4  0 11139254253159 22  0  0 20220243127  1  0  0  0  0\n",
      "  0  0  0 10128254245163  8  0  7 91221253219 35  1  0  0 37242164 33  0  0  0  0  0\n",
      "  0  0  0 79220247164 35  0  0 32202253219 91  1  0  0  0 50218 52  1  0  0  0  0  0\n",
      "  0  0 33221254171 22  0  0  0 32185202 35  1  0  0  0  2 75151 20  0  0  0  0  0  0\n",
      "  0  4113253247 79  3  0  0  0  5 32 32  1  0  0  0  0  0  7 19  1  0  0  0  0  0  0\n",
      "  0  4113244195 10  0  0  0  0  0  0  0  0  0  0  0  0  0  0  0  0  0  0  0  0  0  0\n",
      "  0  0  7 32  8  0  0  0  0  0  0  0  0  0  0  0  0  0  0  0  0  0  0  0  0  0  0  0\n",
      "  0  0  0  0  0  0  0  0  0  0  0  0  0  0  0  0  0  0  0  0  0  0  0  0  0  0  0  0\n",
      "  0  0  0  0  0  0  0  0  0  0  0  0  0  0  0  0  0  0  0  0  0  0  0  0  0  0  0  0\n",
      "  0  0  0  0  0  0  0  0  0  0  0  0  0  0  0  0  0  0  0  0  0  0  0  0  0  0  0  0\n",
      "  0  0  0  0  0  0  0  0  0  0  0  0  0  0  0  0  0  0  0  0  0  0  0  0  0  0  0  0\n",
      "  0  0  0  0  0  0  0  0  0  0  0  0  0  0  0  0  0  0  0  0  0  0  0  0  0  0  0  0\n",
      "  0  0  0  0  0  0  0  0  0  0  0  0  0  0  0  0  0  0  0  0  0  0  0  0  0  0  0  0\n",
      "  0  0  0  0  0  0  0  0  0  0  0  0  0  0  0  0  0  0  0  0  0  0  0  0  0  0  0  0\n",
      "\n",
      "\n",
      "\n",
      "  0  0  0  0  0  0  0  0  0  0  0  0  0  0  0  0  0  0  0  0  0  0  0  0  0  0  0  0\n",
      "  0  0  0  0  0  0  0  0  0  0  0  0  0  0  0  0  0  0  0  0  0  0  0  0  0  0  0  0\n",
      "  0  0  0  0  0  3  3  0  0  0  0  0  0  4  4  4  4  4  4  4  2  0  0  0  0  0  0  0\n",
      "  0  0  0  2 18106106 20  2  0  1 22 46114125127127127127113 77  7  0  0  0  0  0  0\n",
      "  0  0  0  3 32181186 45  8  1  8 79126203215217217217217201153 20  2  0  0  0  0  0\n",
      "  0  0  0  4 37216240114 34 35 91218244254254254254254254250220 52 11  0  0  0  0  0\n",
      "  0  0  0  4 37216245127 46 91163245253254254250250250251251234 96 36  1  0  0  0  0\n",
      "  0  0  0  4 37217245136 73163219253254251246222217217222248246163 91  7  0  0  0  0\n",
      "  0  0  0  4 37217248205196246253247232171127 51 39 41 64209245243202 32  4  0  0  0\n",
      "  0  0  0  4 37217249241240253253221175 83 46  9  5  7 25171232249215 37  4  0  0  0\n",
      "  0  0  0  4 37217250254254252234 96 36  3  0  0  0  0  3 84172248222 51  9  0  0  0\n",
      "  0  0  0  4 37217250255254250222 52 11  0  0  0  0  0  0 51140248233 82 21  0  0  0\n",
      "  0  0  0  9 51222250254254242201 32  4  0  0  0  0  0  0 37127249249127 38  0  0  0\n",
      "  0  0  0 21 82233252254249207154 20  2  0  0  0  0  0  0 37125249250140 50  0  0  0\n",
      "  0  0  0 37125249254250222 64 24  1  0  0  0  0  0  0  0 21 82233251203114  4  0  0\n",
      "  0  0  0 37127250254249216 40  6  0  0  0  0  0  0  0  0  9 51222250213124  4  0  0\n",
      "  0  0  0 37127250254233172 21  2  0  0  0  0  0  0  0  0  4 37217247172 82  2  0  0\n",
      "  0  0  0 37127250254222140  9  0  0  0  0  0  0  0  0  0  4 37217246142 52  0  0  0\n",
      "  0  0  0 50140250253203114  4  0  0  0  0  0  0  0  0  0  4 37217247172 82  2  0  0\n",
      "  0  0  2 80170252251170 82  2  0  0  0  0  0  0  0  0  0  4 37217249203114  4  0  0\n",
      "  0  0  2 80170249233 84 22  0  0  0  0  0  0  0  0  0  0  4 37217249215125  4  0  0\n",
      "  0  0  0 50138242217 50  9  0  0  0  0  0  0  0  0  0  0  4 37217249203114  4  0  0\n",
      "  0  0  0 33110209185 33  4  0  0  0  0  0  0  0  0  0  0  4 37213244170 81  2  0  0\n",
      "  0  0  0  5 18 36 32  5  0  0  0  0  0  0  0  0  0  0  0  2 18120154 77 22  0  0  0\n",
      "  0  0  0  0  2  4  3  0  0  0  0  0  0  0  0  0  0  0  0  0  5 43 67 30  7  0  0  0\n",
      "  0  0  0  0  0  0  0  0  0  0  0  0  0  0  0  0  0  0  0  0  0  0  1  0  0  0  0  0\n",
      "  0  0  0  0  0  0  0  0  0  0  0  0  0  0  0  0  0  0  0  0  0  0  0  0  0  0  0  0\n",
      "  0  0  0  0  0  0  0  0  0  0  0  0  0  0  0  0  0  0  0  0  0  0  0  0  0  0  0  0\n",
      "\n",
      "\n",
      "\n",
      "  0  0  0  0  0  0  0  0  0  0  0  0  0  0  0  0  0  0  0  0  0  0  0  0  0  0  0  0\n",
      "  0  0  0  0  0  0  0  0  0  0  0  0  0  0  0  0  0  0  0  0  0  0  0  0  0  0  0  0\n",
      "  0  0  0  0  0  0  0  0  0  0  0  0  0  0  0  0  0  0  0  0  0  0  0  0  0  0  0  0\n",
      "  0  0  0  0  0  0  0  0  0  0  0  0  0  0  0  0  0  0  0  0  0  0  0  0  0  0  0  0\n",
      "  0  0  0  0  0  0  0  0  0  0  0  0  0  0  0  0  0  0  0  0  0  0  0  0  0  0  0  0\n",
      "  0  0  0  0  0  0  0  0  0  0  0  0  0  0  0  0  0  0  1  6 16  8  2  0  0  0  0  0\n",
      "  0  0  0  0  0  0  0  0  0  0  0  0  2  4  4  4  4  5 11 32 68 43 20  0  0  0  0  0\n",
      "  0  0  0  0  0  0  0  0  0  0  2  9 21 32 37 37 37 39 52 94155120 67  4  0  0  0  0\n",
      "  0  0  0  0  0  0  0  0  3  8 21 50 82114127127127129141176223194127 22  5  0  0  0\n",
      "  0  0  0  0  0  7 20 34 84127170218229240245246247250250252254249232109 32  3  0  0\n",
      "  0  0  0  0  1 33 77115172208229229219217217222234253254254254254248125 37  4  0  0\n",
      "  0  0  0  1  8 90158202230237229172140129129141177247254254254254250127 37  4  0  0\n",
      "  0  0  2 20 77218245250187132 84 22  9  5  5 12 48208246254255254250127 37  4  0  0\n",
      "  0  0  4 32113243251244131 60 24  3  0  0  0  3 22172233252254254250127 37  4  0  0\n",
      "  0  0  4 37125248247220 80 23  4  0  0  0  0  0  9139220250254254250127 37  4  0  0\n",
      "  0  0  4 37127247234179 36  8  0  0  0  0  0  0  4115204245254254250127 37  4  0  0\n",
      "  0  0  4 32113241235191 80 34  8  0  0  0  0  0  0 52142222254254250127 37  4  0  0\n",
      "  0  0  2 20 77218240232159 91 36  3  0  0  0  0  1 52142222252251247127 37  4  0  0\n",
      "  0  0  0  7 33163218240216163 95 22  9  5  4  4  7 84172232234226230126 37  4  0  0\n",
      "  0  0  0  0  1 33 77115171201209168138128127126126168199200 97 67 93 93 30  3  0  0\n",
      "  0  0  0  0  0  7 20 34 84126167199200208211207195153133114 35 17 32 49 17  2  0  0\n",
      "  0  0  0  0  0  0  2  4 22 46 81136168199210199166 81 49 34  7  2  6 13  4  0  0  0\n",
      "  0  0  0  0  0  0  0  0  3  8 21 50 82114125113 81 22  9  4  0  0  0  1  0  0  0  0\n",
      "  0  0  0  0  0  0  0  0  0  0  0  0  2  4  4  4  2  0  0  0  0  0  0  0  0  0  0  0\n",
      "  0  0  0  0  0  0  0  0  0  0  0  0  0  0  0  0  0  0  0  0  0  0  0  0  0  0  0  0\n",
      "  0  0  0  0  0  0  0  0  0  0  0  0  0  0  0  0  0  0  0  0  0  0  0  0  0  0  0  0\n",
      "  0  0  0  0  0  0  0  0  0  0  0  0  0  0  0  0  0  0  0  0  0  0  0  0  0  0  0  0\n",
      "  0  0  0  0  0  0  0  0  0  0  0  0  0  0  0  0  0  0  0  0  0  0  0  0  0  0  0  0\n",
      "\n",
      "\n",
      "\n",
      "  0  0  0  0  0  0  0  0  0  0  0  0  0  0  0  0  0  0  0  0  0  0  0  0  0  0  0  0\n",
      "  0  0  0  0  0  0  0  0  0  0  0  0  0  0  0  0  0  0  0  0  0  0  0  0  0  0  0  0\n",
      "  0  0  0  0  0  0  0  0  0  0  4  5 21 32  9  4  4  4  4  4  4  4  2  0  0  0  0  0\n",
      "  0  0  0  0  0  0  0  0  0 32113129172202140127127127127127127125 81 22  1  0  0  0\n",
      "  0  0  0  0  0  0  0  0  0111237249252253248245245245245245245247231159 35  1  0  0\n",
      "  0  0  0  0  0  0  0  0  0 63143236254247177129127127127127129177245245163 33  0  0\n",
      "  0  0  0  0  0  0  0  0  0  2 41218254222 53  5  4  4  4  4  5 36177252243113  4  0\n",
      "  0  0  0  0  0  0  0  0  0  0 51222254215 37  0  0  0  0  0  0  5129250250127  4  0\n",
      "  0  0  0  0  0  0  0  0  0  8127246251170 21  0  0  0  0  0  0  4127250250127  4  0\n",
      "  0  0  0  0  0  0  0  0  0 46208253220 79  3  0  0  0  0  0  0 11141250250127  4  0\n",
      "  0  0  0  0  0  0  0  0  2116245250139 11  0  0  0  0  0  0  3 79220254243113  4  0\n",
      "  0  0  0  0  0  0  0  2 63191252232 82  2  0  0  0  0  0  0 22171251251175 34  0  0\n",
      "  0  0  0  0  0  0  0  9138252252172 23  0  0  0  0  0  0 22100232254232 83  3  0  0\n",
      "  0  0  0  0  0  0  0 34204254246124 37 32  9  5 21 37 51171232253245159 22  0  0  0\n",
      "  0  0  0  0  0  0 12128246254249225240242221217233249250252243175 79  8  0  0  0  0\n",
      "  0  0  0  0  1 33127222254251220141129172215217217217217172115 34  3  0  0  0  0  0\n",
      "  0  0  0  1 35163244254254189 80 11  5 21 37 37 37 37 37 21  4  0  0  0  0  0  0  0\n",
      "  0  0  0 20158245254254254129  7  0  0  0  0  0  0  0  0  0  0  0  0  0  0  0  0  0\n",
      "  0  0  0 50220254254255254127  4  0  0  0  0  0  0  0  0  0  0  0  0  0  0  0  0  0\n",
      "  0  0 10128246254255255254114  4  0  0  0  0  0  0  0  0  0  0  0  0  0  0  0  0  0\n",
      "  0  2 77220254254254254250 51  0  0  0  0  0  0  0  0  0  0  0  0  0  0  0  0  0  0\n",
      "  0  4125249254248239253250 37  0  0  0  0  0  0  0  0  0  0  0  0  0  0  0  0  0  0\n",
      "  0  4127250252179112218240 32  0  0  0  0  0  0  0  0  0  0  0  0  0  0  0  0  0  0\n",
      "  0  4125249250129 14 77111  7  0  0  0  0  0  0  0  0  0  0  0  0  0  0  0  0  0  0\n",
      "  0  2 77213217108  4  2  3  0  0  0  0  0  0  0  0  0  0  0  0  0  0  0  0  0  0  0\n",
      "  0  0  8 64 48 18  0  0  0  0  0  0  0  0  0  0  0  0  0  0  0  0  0  0  0  0  0  0\n",
      "  0  0  0  1  0  0  0  0  0  0  0  0  0  0  0  0  0  0  0  0  0  0  0  0  0  0  0  0\n",
      "  0  0  0  0  0  0  0  0  0  0  0  0  0  0  0  0  0  0  0  0  0  0  0  0  0  0  0  0\n",
      "\n",
      "\n",
      "\n",
      "  0  0  0  0  0  0  0  0  0  0  0  0  0  0  0  0  0  0  0  0  0  0  0  0  0  0  0  0\n",
      "  0  0  0  0  0  0  0  0  0  2  3  0  0  0  0  0  0  0  0  0  0  0  0  0  0  0  0  0\n",
      "  0  0  0  0  0  0  0  0  4 65111 34  7  0  0  0  0  0  0  0  0  0  0  0  0  0  0  0\n",
      "  0  0  0  0  0  0  0  0 97227253243177140124 30  0  0  0  0  0  0  0  0  0  0  0  0\n",
      "  0  0  0  0  0  0  0  0 94237254254252250226 70  1  0  0  0  0  0  0  0  0  0  0  0\n",
      "  0  0  0  0  0  0  0  0 84234254254254254246132 22  0  0  0  0  0  0  0  0  0  0  0\n",
      "  0  0  0  0  0  0  0  0 92237254236234251254232123  3  0  0  0  0  0  0  0  0  0  0\n",
      "  0  0  0  0  0  0  0  5112238247129 87175253254222 67  2  0  0  0  0  0  0  0  0  0\n",
      "  0  0  0  0  0  0  2 82236200 94  3  0 22218252254208 48  3  0  0  0  0  0  0  0  0\n",
      "  0  0  0  0  0  0 21143229143 21  0  0  5 87199252247171 53  0  0  0  0  0  0  0  0\n",
      "  0  0  0  0  0  2136220 70  4  0  0  0  0  5 62219254246129  1  0  0  0  0  0  0  0\n",
      "  0  0  0  0  0  3182232 54  1  0  0  0  0  0 19140253254216 16  0  0  0  0  0  0  0\n",
      "  0  0  0  0  0 23222231 32  0  0  0  0  0  0  4 99248254238 37  0  0  0  0  0  0  0\n",
      "  0  0  0  1 35163230122  0  0  0  0  0  0  0  0  5184253252 80  2  0  0  0  0  0  0\n",
      "  0  0  0 15140232113 21  0  5 29  8  0  0  0  0  1159251250 51  0  0  0  0  0  0  0\n",
      "  0  0  0 21142239 92  2 16104199207 91 10  0  0  0 84234252 80  2  0  0  0  0  0  0\n",
      "  0  0  0 80229251 70  1 56190250253221128 34  7  0 92237251 72  1  0  0  0  0  0  0\n",
      "  0  0  0 94238245 34  0 29124208253254246202 90  9 94238251 70  1  0  0  0  0  0  0\n",
      "  0  0  0 92237235 55  1  0  0 10159232250254246177189252246 34  0  0  0  0  0  0  0\n",
      "  0  0  0 84234252 93  3  0  0  0 22 82144248254252252254234 21  0  0  0  0  0  0  0\n",
      "  0  0  0 68199253191115 11  4  0  0  0  5 52176252255254248139 66  0  0  0  0  0  0\n",
      "  0  0  0 18159251252243141114 50  9  4  9 40116239254254254248187 34  3  0  0  0  0\n",
      "  0  0  0  3 78202247254250245220140127140215224249245222234254251175 83 20  0  0  0\n",
      "  0  0  0  0  0  6 78141244250254252250249220173147 36 10 34187250254250170  2  0  0\n",
      "  0  0  0  0  0  0  4 42115140203172129125 50 21 16  0  0  0 67170247253212  4  0  0\n",
      "  0  0  0  0  0  0  0  0  0  0  4  2  0  0  0  0  0  0  0  0  0  3 77112 45  0  0  0\n",
      "  0  0  0  0  0  0  0  0  0  0  0  0  0  0  0  0  0  0  0  0  0  0  2  3  0  0  0  0\n",
      "  0  0  0  0  0  0  0  0  0  0  0  0  0  0  0  0  0  0  0  0  0  0  0  0  0  0  0  0\n",
      "\n",
      "\n",
      "\n",
      "  0  0  0  0  0  0  0  0  0  0  0  0  0  0  0  0  0  0  0  0  0  0  0  0  0  0  0  0\n",
      "  0  0  0  0  0  0  0  0  0  0  0  0  0  0  0  0  0  0  0  0  0  0  0  0  0  0  0  0\n",
      "  0  0  0  0  0  0  0  0  0  0  0  0  0  0  0  0  0  0  0  0  0  0  0  0  0  0  0  0\n",
      "  0  0  0  0  0  0  0  0  0  0  0  0  0  0  0  0  0  0  8 21 36 32 21  2  0  0  0  0\n",
      "  0  0  0  0  0  2  3  2  0  0  0  0  0  0  0  0  4  9 46 82124114 81 20  5  0  0  0\n",
      "  0  0  0  0  3 20 27 19  1  0  0  0  0  0  3  8 34 50127170213203170 65 18  0  0  0\n",
      "  0  0  0 32 78168188156 33  7  0  0  8 22 83127204219242248253253247125 37  0  0  0\n",
      "  0  0  2 77154231238217 77 20  0  5 45 83171208242241222223249254250127 37  0  0  0\n",
      "  0  0  4125215253249236131 48 24 59195230248243175128 55 71222250250140 51  0  0  0\n",
      "  0  0  4127217252237202132 72 81131231247231207 95 47 14 41216249252172 82  2  0  0\n",
      "  0  0  4127217250219143109144220238208171 83 46  7  1  2 20154206231199111  3  0  0\n",
      "  0  0  4127217250224162166209244232132 84 22  8  0  0  0  7 78126168151 76  2  0  0\n",
      "  0  0  4127217252237205223244243207 60 24  3  0  0  0  0  1 22 45 80 75 32  0  0  0\n",
      "  0  0  4127217254254253253247164 91  7  0  0  0  0  0  0  0  0  0  2  2  0  0  0  0\n",
      "  0  0  4127217254255254252234 96 36  1  0  0  0  0  0  0  0  0  0  0  0  0  0  0  0\n",
      "  0  0  4114204254254254245204 34  4  0  0  0  0  0  0  0  0  0  0  0  0  0  0  0  0\n",
      "  0  0  2 82172252254254233172 21  2  0  0  0  0  0  0  0  0  0  0  0  0  0  0  0  0\n",
      "  0  0  0 39129250254254216127  5  0  0  0  0  0  0  0  0  0  0  0  0  0  0  0  0  0\n",
      "  0  0  0 37127250254254204114  4  0  0  0  0  0  0  0  0  0  0  0  0  0  0  0  0  0\n",
      "  0  0  0 37127250254252172 82  2  0  0  0  0  0  0  0  0  0  0  0  0  0  0  0  0  0\n",
      "  0  0  0 37127250254250129 39  0  0  0  0  0  0  0  0  0  0  0  0  0  0  0  0  0  0\n",
      "  0  0  0 37127250254249125 37  0  0  0  0  0  0  0  0  0  0  0  0  0  0  0  0  0  0\n",
      "  0  0  0 32112224219202 77 20  0  0  0  0  0  0  0  0  0  0  0  0  0  0  0  0  0  0\n",
      "  0  0  0 20 75156137115 32  7  0  0  0  0  0  0  0  0  0  0  0  0  0  0  0  0  0  0\n",
      "  0  0  0  1  6 16  8  4  0  0  0  0  0  0  0  0  0  0  0  0  0  0  0  0  0  0  0  0\n",
      "  0  0  0  0  0  1  0  0  0  0  0  0  0  0  0  0  0  0  0  0  0  0  0  0  0  0  0  0\n",
      "  0  0  0  0  0  0  0  0  0  0  0  0  0  0  0  0  0  0  0  0  0  0  0  0  0  0  0  0\n",
      "  0  0  0  0  0  0  0  0  0  0  0  0  0  0  0  0  0  0  0  0  0  0  0  0  0  0  0  0\n",
      "\n",
      "\n",
      "\n",
      "  0  0  0  0  0  0  0  0  0  0  0  0  0  0  0  0  0  0  0  0  0  0  0  0  0  0  0  0\n",
      "  0  0  0  0  0  0  0  0  0  0  0  0  0  0  0  0  0  0  0  2  4  4  0  0  0  0  0  0\n",
      "  0  0  0  0  0  0  0  0  0  0  0  0  0  0  0  0  0  2 11 77127114 45  5  0  0  0  0\n",
      "  0  0  0  0  0  0  0  0  0  0  0  0  0  0  0  3 79170220247250244186 31  0  0  0  0\n",
      "  0  0  0  0  0  0  0  0  0  0  0  0  0  0  6 67220251251232140114 45  5  0  0  0  0\n",
      "  0  0  0  0  0  0  0  0  0  0  0  0  7 46116189253244175 83  9  4  0  0  0  0  0  0\n",
      "  0  0  0  0  0  0  0  0  0  0  0  9 95207245252220127 34  3  0  0  0  0  0  0  0  0\n",
      "  0  0  0  0  0  0  0  0  0 22122208251247220159 22  1  0  0  0  0  0  0  0  0  0  0\n",
      "  0  0  0  0  0  0  0  0 32131232253232159 52 20  0  0  0  0  0  0  0  0  0  0  0  0\n",
      "  0  0  0  0  0  0  0  1127242252221 83 22  1  0  0  0  0  0  0  0  0  0  0  0  0  0\n",
      "  0  0  0  0  0  0  2 77246236132 33  0  0  0  0  0  0  0  0  0  0  0  0  0  0  0  0\n",
      "  0  0  0  0  0  0  4125254218 41  1  0  0  0  0  0  0  0  0  0  0  0  0  0  0  0  0\n",
      "  0  0  0  0  0  0  4125254223 69 37 37 21  5  4  0  0  0  0  0  0  0  0  0  0  0  0\n",
      "  0  0  0  0  0  0  2 77246249223217215172129125 51 37 21  4  0  0  0  0  0  0  0  0\n",
      "  0  0  0  0  0  0  0  1 79170215217233249250252250249233204 83 22  1  0  0  0  0  0\n",
      "  0  0  0  0  0  0  0  0  3 21 37 37 82125129172217222245251232154 20  0  0  0  0  0\n",
      "  0  0  0  0  0  0  0  0  0  0  0  0  2  4  5 21 37 51116177253221 63  5  0  0  0  0\n",
      "  0  0  0  0  0  0  0  0  0  0  0  0  0  0  0  0  0  0  0  9177251214 38  0  0  0  0\n",
      "  0  0  0  0  0  0  0  0  0  0  0  0  0  0  0  0  0  0  0  0129250233 82  0  0  0  0\n",
      "  0  0  0  0  0  0  0  0  0  0  0  0  0  0  0  0  0  0  0  3141251244112  0  0  0  0\n",
      "  0  0  0  0  0  0  0  0  0  0  0  0  0  0  0  0  0  0  3 67222252207 46  0  0  0  0\n",
      "  0  0  0  0  0  8 32 37 37 32 13 16  0  0  0  0 20 50128222252206 47  1  0  0  0  0\n",
      "  0  0  0  0 32126204217217204152157 34  5  5 22159220246251187 79  7  0  0  0  0  0\n",
      "  0  0  0  0111241254254255254251251177129129173247247220172 66  4  0  0  0  0  0  0\n",
      "  0  0  0  0 32126204217234249250250250250249233170 79 11  2  0  0  0  0  0  0  0  0\n",
      "  0  0  0  0  0  8 32 37 82125127127127127125 82 21  3  0  0  0  0  0  0  0  0  0  0\n",
      "  0  0  0  0  0  0  0  0  2  4  4  4  4  4  4  2  0  0  0  0  0  0  0  0  0  0  0  0\n",
      "  0  0  0  0  0  0  0  0  0  0  0  0  0  0  0  0  0  0  0  0  0  0  0  0  0  0  0  0\n",
      "\n",
      "\n",
      "\n",
      "  0  0  0  0  0  0  0  0  0  0  0  0  0  0  0  0  0  0  0  0  0  0  0  0  0  0  0  0\n",
      "  0  0  0  0  0  0  0  0  0  0  0  0  0  0  0  0  0  0  0  0  0  0  0  0  0  0  0  0\n",
      "  0  0  0  0  0  0  0  0  0  0  0  0  0  0  0  5 18 36 32 20  1  0  0  0  0  0  0  0\n",
      "  0  0  0  0  0  0  0  0  0  0  0  0  0  0  0 33110213202158 33  0  0  0  0  0  0  0\n",
      "  0  0  0  0  0  0  0  0  0  0  0  0  0  0  1 51139246243217 75  2  0  0  0  0  0  0\n",
      "  0  0  0  0  0  0  0  0  0  0  0  0  0  0 22159220254251231 80  2  0  0  0  0  0  0\n",
      "  0  0  0  0  0  2  3  2  0  0  0  0  0  3 83232251254239191 54  7  1  0  0  0  0  0\n",
      "  0  0  0  0  0 18 31 21  5  4  4  4  4  9127246254254241204120 33  8  0  0  0  0  0\n",
      "  0  0  0  0  3108183172129127127125114 78209254254254254252243163 91  8  0  0  0  0\n",
      "  0  0  0  0  4127216252250250250249245227249254254255255254254245218 77  2  0  0  0\n",
      "  0  0  0  0  4113201249250250252254254254254254254254250250250252247124  4  0  0  0\n",
      "  0  0  0  0  2 77153215217217234253254254254252250245222217221232229112  4  0  0  0\n",
      "  0  0  0  0  0  7 20 37 37 39103235252254234173140114 51 39 49 80 80 30  0  0  0  0\n",
      "  0  0  0  0  0  0  0  0  0  3 86234252244131 24  9  4  0  0  0  2  2  0  0  0  0  0\n",
      "  0  0  0  0  0  0  0  0  1 10128246253220 79  4  0  0  0  0  0  0  0  0  0  0  0  0\n",
      "  0  0  0  0  0  0  0  0 20 77220253246128 10  0  0  0  0  0  0  0  0  0  0  0  0  0\n",
      "  0  0  0  0  0  0  0  0 38127249250220 50  0  0  0  0  0  0  0  0  0  0  0  0  0  0\n",
      "  0  0  0  0  0  0  0  0 51140250245204 34  0  0  0  0  0  0  0  0  0  0  0  0  0  0\n",
      "  0  0  0  0  0  0  0  8127208253208127  8  0  0  0  0  0  0  0  0  0  0  0  0  0  0\n",
      "  0  0  0  0  0  0  0 34204245246127 46  0  0  0  0  0  0  0  0  0  0  0  0  0  0  0\n",
      "  0  0  0  0  0  0  2 82233252222 51  9  0  0  0  0  0  0  0  0  0  0  0  0  0  0  0\n",
      "  0  0  0  0  0  0  4115245253217 39  5  0  0  0  0  0  0  0  0  0  0  0  0  0  0  0\n",
      "  0  0  0  0  0  4 21170252253203 32  4  0  0  0  0  0  0  0  0  1  0  0  0  0  0  0\n",
      "  0  0  0  0 15 45 36164236241138  9  0  0  0  0  0  0  0  0 15 48 31 16  0  0  0  0\n",
      "  0  0  0  0 15 43 18 53 93113 63  2  0  0  0  0  0  0  0  0 15 56 59 43  1  0  0  0\n",
      "  0  0  0  0  4 13  5 14 25 32 18  0  0  0  0  0  0  0  0  0  4 18 20 15  0  0  0  0\n",
      "  0  0  0  0  0  0  0  0  0  0  0  0  0  0  0  0  0  0  0  0  0  0  0  0  0  0  0  0\n",
      "  0  0  0  0  0  0  0  0  0  0  0  0  0  0  0  0  0  0  0  0  0  0  0  0  0  0  0  0\n",
      "\n",
      "\n",
      "\n",
      "  0  0  0  0  0  0  0  0  0  0  0  0  0  0  0  0  0  0  0  0  0  0  0  0  0  0  0  0\n",
      "  0  0  0  0  0  0  0  0  0  0  0  0  0  0  0  0  0  0  0  0  0  0  0  0  0  0  0  0\n",
      "  0  0  0  0  0  0  0  0  0  0  0  0  0  0  0  0  0  0  0  0  0  0  3  2  0  0  0  0\n",
      "  0  0  0  0  0  0  0  0  0  0  0  0  0  0  0  0  0  0  0  0  8 32 94 62  2  0  0  0\n",
      "  0  0  0  0  0  0  0  0  0  0  0  0  0  0  0  0  0  0  1  6 36 83169106  3  0  0  0\n",
      "  0  0  0  0  0  0  0  2 21 32 20  7  1  0  0  0  0 20 46 93175200214127  4  0  0  0\n",
      "  0  0  0  0  0  0  5 20 81112 77 33  8  0  0  0  2 65122174232239214125  4  0  0  0\n",
      "  0  0  0  0  0  0 20 67170202156 87 31  0  0  0  3109190230251252203114  4  0  0  0\n",
      "  0  0  0  0  0  3 83170250251182112 52  1  0  0  5127216249254251152 62  1  0  0  0\n",
      "  0  0  0  0  0  8127208253250143 61 21  0  0  1 10129210246254251160 70  1  0  0  0\n",
      "  0  0  0  0  8 46208246251232 82 21  2  0  0 33 89189216242254250137 48  0  0  0  0\n",
      "  0  0  0  3 22 83232251246208 46  8  0  0  2 77157234241250253243115 34  0  0  0  0\n",
      "  0  0  0 21 82170251254222140  9  0  0  1 11139220254254254232175 34  7  0  0  0  0\n",
      "  0  0  0 32114203254254217129  5  0  0  7 34177234254254253207127 10  1  0  0  0  0\n",
      "  0  0  0 37127217254254217127  4  0  0 46126244253254252234 95 34  0  0  0  0  0  0\n",
      "  0  0  0 37127217254254217127  4  0  2 82170251254254250222 52 11  0  0  0  0  0  0\n",
      "  0  0  0 37125215254254217127  4  1 11139220254255254249215 37  4  0  0  0  0  0  0\n",
      "  0  0  0 32114204254254217127  6  9 36177234254255253243202 32  4  0  0  0  0  0  0\n",
      "  0  0  0  9 50140250254217129 29 80159246253254254232175 95  7  0  0  0  0  0  0  0\n",
      "  0  0  0  5 38127249254222146 68132207253254254254208128 47  1  0  0  0  0  0  0  0\n",
      "  0  0  0  2 20 77218245249236223236249254254253244126 46  8  0  0  0  0  0  0  0  0\n",
      "  0  0  0  0  7 33163218251251251252254254254245218 79 22  3  0  0  0  0  0  0  0  0\n",
      "  0  0  0  0  1  8 90159232247253252251253251218163 33  7  0  0  0  0  0  0  0  0  0\n",
      "  0  0  0  0  0  0  7 22 95159202173153190169 79 33  1  0  0  0  0  0  0  0  0  0  0\n",
      "  0  0  0  0  0  0  0  3 34 77112 84 64100 80 22  7  0  0  0  0  0  0  0  0  0  0  0\n",
      "  0  0  0  0  0  0  0  0  0  2  3  2  1  3  2  0  0  0  0  0  0  0  0  0  0  0  0  0\n",
      "  0  0  0  0  0  0  0  0  0  0  0  0  0  0  0  0  0  0  0  0  0  0  0  0  0  0  0  0\n",
      "  0  0  0  0  0  0  0  0  0  0  0  0  0  0  0  0  0  0  0  0  0  0  0  0  0  0  0  0\n",
      "\n",
      "\n",
      "\n",
      "  0  0  0  0  0  0  0  0  0  0  0  0  0  0  0  0  0  0  0  0  0  0  0  0  0  0  0  0\n",
      "  0  0  0  0  0  0  0  0  0  0  0  0  0  0  0  0  0  0  0  0  0  0  0  0  0  0  0  0\n",
      "  0  0  0  0  0  0  0  0  0  0  0  0  0  0  0  0  0  4 15  8  0  0  0  0  0  0  0  0\n",
      "  0  0  0  0  0  0  0  0  0  0  0  0  0  0  0  0  0 30138122 33  1  0  0  0  0  0  0\n",
      "  0  0  0  0  0  0  0  0  0  0  0  0  0  0  0  0  0 36195202 90  7  0  0  0  0  0  0\n",
      "  0  0  0  0  0  0  0  0  0  0  0  0  0  0  0  0  0 37217248202 32  4  0  0  0  0  0\n",
      "  0  0  0  0  0  1  7 32 32 18  0  0  0  0  0  0  0 37217250222 51  9  0  0  0  0  0\n",
      "  0  0  0  0  0  7 32113108 63  2  0  0  0  0  0  0 37217250233 82 21  0  0  0  0  0\n",
      "  0  0  0  0  0 32111240218139 11  0  0  0  0  0  0 37215249249127 38  0  0  0  0  0\n",
      "  0  0  0  0  0 21 82233247220 77  2  0  0  0  0  0 21172233252172 82  2  0  0  0  0\n",
      "  0  0  0  0  0 10 52222254249125  4  0  0  0  0  0  5129218254215125  4  0  0  0  0\n",
      "  0  0  0  0  0 21 82233254250127  4  0  0  0  0  0  4127217254217127  4  0  0  0  0\n",
      "  0  0  0  0  0 32112244254250127  4  0  0  0  0  0  4127217254217127  4  0  0  0  0\n",
      "  0  0  0  0  0  9 51222254250127  4  0  0  0  0  0  4127217254217127  4  0  0  0  0\n",
      "  0  0  0  0  0  5 38216254250129  5  0  0  0  0  0  4127217254217127  4  0  0  0  0\n",
      "  0  0  0  0  0  2 20159247251173 22  3  0  0  0  0  4127217254217127  4  0  0  0  0\n",
      "  0  0  0  0  0  0  1 52222250232 82 21  0  0  0  0  4127217254205115  4  0  0  0  0\n",
      "  0  0  0  0  0  0  0 39217250245115 34  0  0  0  0  5129218253184 94  3  0  0  0  0\n",
      "  0  0  0  0  0  0  0 32202243252177 96  9  0  0  0 22173234252160 71  1  0  0  0  0\n",
      "  0  0  0  0  0  0  0  7 91164247246219 91 11  5 11 96232252249127 38  0  0  0  0  0\n",
      "  0  0  0  0  0  0  0  0 11 52219254253221141129141221253254220 77 20  0  0  0  0  0\n",
      "  0  0  0  0  0  0  0  0  4 33190247253247222218222247254252177 34  7  0  0  0  0  0\n",
      "  0  0  0  0  0  0  0  0  0  5 47159207247254254254255247230111  4  0  0  0  0  0  0\n",
      "  0  0  0  0  0  0  0  0  0  0  1 22 47159232249250243164 95 20  0  0  0  0  0  0  0\n",
      "  0  0  0  0  0  0  0  0  0  0  0  0  1 22 82125127113 33  8  0  0  0  0  0  0  0  0\n",
      "  0  0  0  0  0  0  0  0  0  0  0  0  0  3 21 37 37 32  7  1  0  0  0  0  0  0  0  0\n",
      "  0  0  0  0  0  0  0  0  0  0  0  0  0  0  0  0  0  0  0  0  0  0  0  0  0  0  0  0\n",
      "  0  0  0  0  0  0  0  0  0  0  0  0  0  0  0  0  0  0  0  0  0  0  0  0  0  0  0  0\n",
      "\n",
      "\n",
      "\n",
      "  0  0  0  0  0  0  0  0  0  0  0  0  0  0  0  0  0  0  0  0  0  0  0  0  0  0  0  0\n",
      "  0  0  0  0  0  0  0  0  0  0  0  0  0  0  0  0  0  0  0  0  0  0  0  0  0  0  0  0\n",
      "  0  0  0  0  0  0  0  0  0  0  0  0  0  0  0  0  0  0  0  0  0  0  0  0  0  0  0  0\n",
      "  0  0  0  0  0  0  0  0  0  0  0  0  0  0  0  0  0  0  0  0  0  0  0  0  0  0  0  0\n",
      "  0  0  0  0  0  0  0  0  0  0  0  0  0  0  0  0  0  0  0  0  0  0  0  5 81 77  1  0\n",
      "  0  0  0  0  0  0  0  0  0  0  0  0  0  0  0  0  0  0  0  0  0  0  0 84250227 16  0\n",
      "  0  0  0  0  0  0  0  0  0  0  0  0  0  0  0  0  0  0  0  0  0  0 33232254204  4  0\n",
      "  0  0  0  0  0  0  0  0  0  0  0  0  0  0  0  0  0  0  0  0  0  7163254254140  0  0\n",
      "  0  0  0  0  0  0  0  3  4  0  0  0  0  0  0  0  0  0  0  0  0 38249254254139  0  0\n",
      "  0  0  0  0  0  0  1 76106 57  1  0  0  0  0  0  0  0  0  0  0114254247204 65  0  0\n",
      "  0  0  0  0  0  0  0  1127241 32  0  0  0  0  0  0  0  0  0  7177253127  4  0  0  0\n",
      "  0  0  0  0  0  0  0 47232233 21  0  0 33113  7  0  0  0  0 52250208 10  0  0  0  0\n",
      "  0  0  0  0  0  0 22230254159  2  0 10207232 20  0  0  0 22218247 79  0  0  0  0  0\n",
      "  0  0  0  0  0  2159254249 38  0  3159253170  2  0  0  3159254202  4  0  0  0  0  0\n",
      "  0  0  0  0  0 22233254163  7  0 91247251 34  0  0  0 47246246 47  0  0  0  0  0  0\n",
      "  0  0  0  0  7163253207 22  0 36232253163  0  0  0 22218253159  3  0  0  0  0  0  0\n",
      "  0  0  0  0 95251243 36  0 23218254164  9  0  0  7163254218 11  0  0  0  0  0  0  0\n",
      "  0  0  0 22232252 96  1 12195254218 22  0  0  1 95251232 47  0  0  0  0  0  0  0  0\n",
      "  0  0  3159254218 20 12195253244 47  0  0  0 34243234 79  0  0  0  0  0  0  0  0  0\n",
      "  0  0 34245250 52 35207253252 96  1  0  0 34176245 90  0  0  0  0  0  0  0  0  0  0\n",
      "  0  2159254180 55219254255234 22  0  1 47232244 91  1  0  0  0  0  0  0  0  0  0  0\n",
      "  0  5217254236246251222249247141127141244218 47  1  0  0  0  0  0  0  0  0  0  0  0\n",
      "  0 27240254254244 95 11159251254253245202 22  0  0  0  0  0  0  0  0  0  0  0  0  0\n",
      "  0  3154217170 46  1  0  7 81127114 34  4  0  0  0  0  0  0  0  0  0  0  0  0  0  0\n",
      "  0  0  2  4  2  0  0  0  0  0  0  0  0  0  0  0  0  0  0  0  0  0  0  0  0  0  0  0\n",
      "  0  0  0  0  0  0  0  0  0  0  0  0  0  0  0  0  0  0  0  0  0  0  0  0  0  0  0  0\n",
      "  0  0  0  0  0  0  0  0  0  0  0  0  0  0  0  0  0  0  0  0  0  0  0  0  0  0  0  0\n",
      "  0  0  0  0  0  0  0  0  0  0  0  0  0  0  0  0  0  0  0  0  0  0  0  0  0  0  0  0\n",
      "\n",
      "\n",
      "\n",
      "  0  0  0  0  0  0  0  0  0  0  0  0  0  0  0  0  0  0  0  0  0  0  0  0  0  0  0  0\n",
      "  0  0  0  0  0  0  0  0  0  0  0  0  0  0  0  0  0  0  0  0  0  0  0  0  0  0  0  0\n",
      "  0  0  0  0  0  0  0  0  0  0  0  0  0  0  0  0  0  0  0  7 32 36 20  1  0  0  0  0\n",
      "  0  0  0  0  0  0  0  0  0  0  1  0  0  0  0  0  0  0 20 95202213158 33  0  0  0  0\n",
      "  0  0  0  0  0  0  0  0  0  6 16  8  0  0  0  0  0  3 67175243248218 77  2  0  0  0\n",
      "  0  0  0  0  0  0  0  0  2 75155125 33  1  0  0  8 36175250254253229107  3  0  0  0\n",
      "  0  0  0  0  0  0  0  0  4125246244163 35  9  3 79159246254252234100 20  0  0  0  0\n",
      "  0  0  0  0  0  0  0  0  4125249254245163 92 43175232254253230190 33  0  0  0  0  0\n",
      "  0  0  0  0  0  0  0  0  4114245254253219165111221247254246175122 19  0  0  0  0  0\n",
      "  0  0  0  0  0  0  0  0  0 50220250254253248239253254246163 36 10  0  0  0  0  0  0\n",
      "  0  0  0  0  0  0  0  0  0 21172233254254254254254251175 36  1  0  0  0  0  0  0  0\n",
      "  0  0  0  0  0  0  0  0  0  4117206254255255254234207 78  3  0  0  0  0  0  0  0  0\n",
      "  0  0  0  0  0  0  0  0  0  3 96185253255255252189132 32  0  0  0  0  0  0  0  0  0\n",
      "  0  0  0  0  0  0  0  0  0 10129210254255255250129 41  0  0  0  0  0  0  0  0  0  0\n",
      "  0  0  0  0  0  0  0  0  9 91221247254255255250129 39  0  0  0  0  0  0  0  0  0  0\n",
      "  0  0  0  0  0  0  0  7 90219253254254255255252172 84  3  0  0  0  0  0  0  0  0  0\n",
      "  0  0  0  0  0  0  3 22159245254254254254254254208127  8  0  0  0  0  0  0  0  0  0\n",
      "  0  0  0  0  0  0 21 82232254254252246240249254246208 46  0  0  0  0  0  0  0  0  0\n",
      "  0  0  0  0  0  5 63144250254234189119146211254254245115  4  0  0  0  0  0  0  0  0\n",
      "  0  0  0  0  0 33191232254251171 84  7 46127244254252177 36  1  0  0  0  0  0  0  0\n",
      "  0  0  0  0  0 50218248254244126 46  1 22 79218253254221 91  7  0  0  0  0  0  0  0\n",
      "  0  0  0  1 10128246254251175 34  7  0  1  8 91221247253202 34  4  0  0  0  0  0  0\n",
      "  0  0  0 20 77220253253230 83  3  0  0  0  0 11139220254233 82 21  0  0  0  0  0  0\n",
      "  0  0  0 31106212215203122 20  0  0  0  0  0  2 77154232244123 36  0  0  0  0  0  0\n",
      "  0  0  0 18 63125125114 45  5  0  0  0  0  0  0 32 78170211108 32  0  0  0  0  0  0\n",
      "  0  0  0  0  2  4  4  4  0  0  0  0  0  0  0  0  0  3 21 36 18  5  0  0  0  0  0  0\n",
      "  0  0  0  0  0  0  0  0  0  0  0  0  0  0  0  0  0  0  0  0  0  0  0  0  0  0  0  0\n",
      "  0  0  0  0  0  0  0  0  0  0  0  0  0  0  0  0  0  0  0  0  0  0  0  0  0  0  0  0\n",
      "\n",
      "\n",
      "\n",
      "  0  0  0  0  0  0  0  0  0  0  0  0  0  0  0  0  0  0  0  0  0  0  0  0  0  0  0  0\n",
      "  0  0  0  0  0  0  0  0  0  0  0  0  0  0  0  0  0  0  0  0  0  0  0  3 16  3  0  0\n",
      "  0  0  0  0  0  0  0  0  0  0  0  0  0  0  0  0  0  0  0  0  0  0  1 79157 78  0  0\n",
      "  0  0  0  0  0  0  0  0  0  0  0  0  0  3 77124 32  0  0  0  0  0 79245254213  4  0\n",
      "  0  0  0  0  0  0  0  0  0  0  0  0 10123247253111  0  0  0  0 33221254247 91  0  0\n",
      "  0  0  0  0  0  0  0  0  0  0  0  0 91221254232 34  0  0  0  4113253254208 10  0  0\n",
      "  0  0  0  0  0  0  0  0  0  0  0 36232254219 90  0  0  0  0 22173254188 67  0  0  0\n",
      "  0  0  0  0  0  0  0  0  0  0  8207254244 47  1  0  0  0  3159247247 77  2  0  0  0\n",
      "  0  0  0  0  0  0  0  0  0  1 47246251175  7  0  0  0  4 48232254209 10  0  0  0  0\n",
      "  0  0  0  0  0  0  0  0  0 34203254164 33  0  0  8 63191246254254127  0  0  0  0  0\n",
      "  0  0  0  0  0  0  0  0  0114245251 71 26 38 84208247233237255246 46  0  0  0  0  0\n",
      "  0  0  0  0  0  0  0  0  0127250254221185216233246171 86191254208  8  0  0  0  0  0\n",
      "  0  0  0  0  0  0  0  0  0 81229252254250232172 77  3  5217250129  0  0  0  0  0  0\n",
      "  0  0  0  0  0  0  0  0  0  5 32 82114 50 21  3  0  0 46246245114  0  0  0  0  0  0\n",
      "  0  0  0  0  0  0  0  0  0  0  0  2  4  0  0  0  0  8127254207 46  0  0  0  0  0  0\n",
      "  0  0  0  0  0  0  0  0  0  0  0  0  0  0  0  0  0 37215251 52  1  0  0  0  0  0  0\n",
      "  0  0  0  0  0  0  0  0  0  0  0  0  0  0  0  0  0 95234233 21  0  0  0  0  0  0  0\n",
      "  0  0  0  0  0  0  0  0  0  0  0  0  0  0  0  0  8207253204  4  0  0  0  0  0  0  0\n",
      "  0  0  0  0  0  0  0  0  0  0  0  0  0  0  0  0 38249252 84  0  0  0  0  0  0  0  0\n",
      "  0  0  0  0  0  0  0  0  0  0  0  0  0  0  0  1128253232 21  0  0  0  0  0  0  0  0\n",
      "  0  0  0  0  0  0  0  0  0  0  0  0  0  0  0 22220247159  3  0  0  0  0  0  0  0  0\n",
      "  0  0  0  0  0  0  0  0  0  0  0  0  0  0 33164254204 34  0  0  0  0  0  0  0  0  0\n",
      "  0  0 20 37 21  4  0  0  0  0  0  0  3 22176251247 79  3  0  0  0  0  0  0  0  0  0\n",
      "  0  2151215172114 39 37 37 21 25 37 84171247254206 10  0  0  0  0  0  0  0  0  0  0\n",
      "  0  0 90244254254250250249234238250252253232159 22  0  0  0  0  0  0  0  0  0  0  0\n",
      "  0  0  1 46114172217217217217217217172115 22  3  0  0  0  0  0  0  0  0  0  0  0  0\n",
      "  0  0  0  0  4 21 37 37 37 37 37 37 21  4  0  0  0  0  0  0  0  0  0  0  0  0  0  0\n",
      "  0  0  0  0  0  0  0  0  0  0  0  0  0  0  0  0  0  0  0  0  0  0  0  0  0  0  0  0\n",
      "\n",
      "\n",
      "\n",
      "  0  0  0  0  0  0  0  0  0  0  0  0  0  0  0  0  0  0  0  0  0  0  0  0  0  0  0  0\n",
      "  0  0  0  0  0  0  0  0  0  0  0  0  0  0  0  0  0  0  0  0  0  0  0  0  0  0  0  0\n",
      "  0  0  0  0  0  0  0  0  0  0  0  0  0  0  0  0  0  0  0  0  0  0  0  0  0  0  0  0\n",
      "  0  0  0  0  0  0  0  0  0  0  0  0  4  4  4  2  0  0  0  0  0  0  0  0  0  0  0  0\n",
      "  0  0  0  0  0  0  8 37 37 37 37 39114127127 77  0  0  0  0  0  0  0  0  0  0  0  0\n",
      "  0  0  0 21 38127209249250250248246252252255215  4  0  0  0  0  0  0  0  0  0  0  0\n",
      "  0  0 45170216245249222217215172141191181248217  4  0  0  0  0  0  0  0  0  0  0  0\n",
      "  0  4205173129114 50  9  4  4  2  0  4129246204  4  0  0  0  0  0  0  0  0  0  0  0\n",
      "  0  2 95 22  5  4  0  0  0  0  0  0  4204254140  0  0  0  0  0  0  0  0  0  0  0  0\n",
      "  0  0  0  0  0  0  0  0  0  0  0  0 34245247 77  0  0  0  0  0  0  0  0  0  0  0  0\n",
      "  0  0  0  0  0  0  0  0  0  0  0  0127252173  3  0  0  0  0  0  0  0  0  0  0  0  0\n",
      "  0  0  0  0  0  0  0  0  0  0  0  4204250127  0  0  0  0  0  0  0  0  0  0  0  0  0\n",
      "  0  0  0  0  0  0  0  0  0  0  1 36234209 46  0  0  0  0  0  0  0  0  0  0  0  0  0\n",
      "  0  0  0  0  0  0  0  0  0  0 20158253127  9  0  0  0  0  0  0  0  0  0  0  0  0  0\n",
      "  0  0  0  0  0  0  0  0  0  0 51222244 34  0  0  0  0  0  0  0  0  0  0  0  0  0  0\n",
      "  0  0  0  0  0  0  0  0  0  0127246177  7  0  0  0  0  0  0  0  0  0  0  0  0  0  0\n",
      "  0  0  0  0  0  0  0  0  0  5216252 82  0  0  0  0  0  0  0  0  0  0  0  0  0  0  0\n",
      "  0  0  0  0  0  0  0  0  0 32245250 37  0  0  0  0  0  0  0  0  0  0  0  0  0  0  0\n",
      "  0  0  0  0  0  0  0  0  0 37250250 39  0  0  0  0  0  0  0  0  0  0  0  0  0  0  0\n",
      "  0  0  0  0  0  0  0  0  0 32245254132  9  4  0  0  0  0  0  0  0  0  0  0  0  0  0\n",
      "  0  0  0  0  0  0  0  0  0  8195249234140114 39 37 32  5  4  4  2  0  0  0  0  0  0\n",
      "  0  0  0  0  0  0  0  0  0  0 23155245254254250250245218217217172129127126 45  0  0\n",
      "  0  0  0  0  0  0  0  0  0  0  1 22115204222250250250250250250250249246245174  3  0\n",
      "  0  0  0  0  0  0  0  0  0  0  0  0  0  4  9 37 37 37 37 37 39 82102 39 37 20  0  0\n",
      "  0  0  0  0  0  0  0  0  0  0  0  0  0  0  0  0  0  0  0  0  0  2  3  0  0  0  0  0\n",
      "  0  0  0  0  0  0  0  0  0  0  0  0  0  0  0  0  0  0  0  0  0  0  0  0  0  0  0  0\n",
      "  0  0  0  0  0  0  0  0  0  0  0  0  0  0  0  0  0  0  0  0  0  0  0  0  0  0  0  0\n",
      "  0  0  0  0  0  0  0  0  0  0  0  0  0  0  0  0  0  0  0  0  0  0  0  0  0  0  0  0\n",
      "\n",
      "\n",
      "\n"
     ]
    },
    {
     "ename": "IndexError",
     "evalue": "list index out of range",
     "output_type": "error",
     "traceback": [
      "\u001b[0;31m---------------------------------------------------------------------------\u001b[0m",
      "\u001b[0;31mIndexError\u001b[0m                                Traceback (most recent call last)",
      "\u001b[0;32m<ipython-input-23-f0ae9a5baf11>\u001b[0m in \u001b[0;36m<module>\u001b[0;34m\u001b[0m\n\u001b[1;32m      1\u001b[0m \u001b[0;32mfor\u001b[0m \u001b[0mi\u001b[0m \u001b[0;32min\u001b[0m \u001b[0mrange\u001b[0m\u001b[0;34m(\u001b[0m\u001b[0;36m0\u001b[0m\u001b[0;34m,\u001b[0m \u001b[0;36m21600\u001b[0m\u001b[0;34m,\u001b[0m \u001b[0;36m800\u001b[0m\u001b[0;34m)\u001b[0m\u001b[0;34m:\u001b[0m\u001b[0;34m\u001b[0m\u001b[0;34m\u001b[0m\u001b[0m\n\u001b[0;32m----> 2\u001b[0;31m     \u001b[0mprint_data\u001b[0m\u001b[0;34m(\u001b[0m\u001b[0mnp\u001b[0m\u001b[0;34m.\u001b[0m\u001b[0mreshape\u001b[0m\u001b[0;34m(\u001b[0m\u001b[0mimages\u001b[0m\u001b[0;34m[\u001b[0m\u001b[0mi\u001b[0m\u001b[0;34m]\u001b[0m\u001b[0;34m,\u001b[0m \u001b[0;34m(\u001b[0m\u001b[0;36m28\u001b[0m\u001b[0;34m,\u001b[0m \u001b[0;36m28\u001b[0m\u001b[0;34m)\u001b[0m\u001b[0;34m)\u001b[0m\u001b[0;34m)\u001b[0m\u001b[0;34m\u001b[0m\u001b[0;34m\u001b[0m\u001b[0m\n\u001b[0m\u001b[1;32m      3\u001b[0m     \u001b[0mprint\u001b[0m\u001b[0;34m(\u001b[0m\u001b[0;34m\"\\n\\n\"\u001b[0m\u001b[0;34m)\u001b[0m\u001b[0;34m\u001b[0m\u001b[0;34m\u001b[0m\u001b[0m\n",
      "\u001b[0;31mIndexError\u001b[0m: list index out of range"
     ]
    }
   ],
   "source": [
    "for i in range(0, 21600, 800):\n",
    "    print_data(np.reshape(images[i], (28, 28)))\n",
    "    print(\"\\n\\n\")"
   ]
  },
  {
   "cell_type": "code",
   "execution_count": 24,
   "metadata": {
    "ExecuteTime": {
     "end_time": "2021-06-01T23:37:11.520443Z",
     "start_time": "2021-06-01T23:37:11.192576Z"
    },
    "execution": {
     "iopub.execute_input": "2021-11-04T03:32:16.413263Z",
     "iopub.status.busy": "2021-11-04T03:32:16.412948Z",
     "iopub.status.idle": "2021-11-04T03:32:16.455617Z",
     "shell.execute_reply": "2021-11-04T03:32:16.454719Z",
     "shell.execute_reply.started": "2021-11-04T03:32:16.413231Z"
    },
    "tags": []
   },
   "outputs": [
    {
     "data": {
      "text/plain": [
       "L    0.038462\n",
       "G    0.038462\n",
       "S    0.038462\n",
       "X    0.038462\n",
       "Z    0.038462\n",
       "U    0.038462\n",
       "H    0.038462\n",
       "C    0.038462\n",
       "J    0.038462\n",
       "A    0.038462\n",
       "T    0.038462\n",
       "I    0.038462\n",
       "P    0.038462\n",
       "B    0.038462\n",
       "N    0.038462\n",
       "Y    0.038462\n",
       "K    0.038462\n",
       "V    0.038462\n",
       "O    0.038462\n",
       "R    0.038462\n",
       "M    0.038462\n",
       "Q    0.038462\n",
       "D    0.038462\n",
       "F    0.038462\n",
       "E    0.038462\n",
       "W    0.038462\n",
       "Name: letter, dtype: float64"
      ]
     },
     "execution_count": 24,
     "metadata": {},
     "output_type": "execute_result"
    }
   ],
   "source": [
    "train[\"letter\"].value_counts(True)"
   ]
  },
  {
   "cell_type": "markdown",
   "metadata": {},
   "source": [
    "### Separación de set"
   ]
  },
  {
   "cell_type": "code",
   "execution_count": 25,
   "metadata": {
    "ExecuteTime": {
     "end_time": "2021-06-01T23:37:25.604280Z",
     "start_time": "2021-06-01T23:37:25.495582Z"
    },
    "execution": {
     "iopub.execute_input": "2021-11-04T03:32:27.542231Z",
     "iopub.status.busy": "2021-11-04T03:32:27.541931Z",
     "iopub.status.idle": "2021-11-04T03:32:27.609772Z",
     "shell.execute_reply": "2021-11-04T03:32:27.608865Z",
     "shell.execute_reply.started": "2021-11-04T03:32:27.542197Z"
    }
   },
   "outputs": [],
   "source": [
    "xo_train = train[train[\"letter\"].isin([\"O\", \"X\"])]"
   ]
  },
  {
   "cell_type": "code",
   "execution_count": 26,
   "metadata": {
    "ExecuteTime": {
     "end_time": "2021-06-01T23:37:27.220243Z",
     "start_time": "2021-06-01T23:37:26.437056Z"
    },
    "execution": {
     "iopub.execute_input": "2021-11-04T03:32:33.367796Z",
     "iopub.status.busy": "2021-11-04T03:32:33.367421Z",
     "iopub.status.idle": "2021-11-04T03:32:34.301997Z",
     "shell.execute_reply": "2021-11-04T03:32:34.301405Z",
     "shell.execute_reply.started": "2021-11-04T03:32:33.367755Z"
    }
   },
   "outputs": [],
   "source": [
    "xo_train.to_csv(\"xo_train.csv\", index = False)"
   ]
  },
  {
   "cell_type": "code",
   "execution_count": 27,
   "metadata": {
    "ExecuteTime": {
     "end_time": "2021-06-01T23:37:27.380888Z",
     "start_time": "2021-06-01T23:37:27.221731Z"
    },
    "execution": {
     "iopub.execute_input": "2021-11-04T03:32:45.299818Z",
     "iopub.status.busy": "2021-11-04T03:32:45.299558Z",
     "iopub.status.idle": "2021-11-04T03:32:45.495029Z",
     "shell.execute_reply": "2021-11-04T03:32:45.494395Z",
     "shell.execute_reply.started": "2021-11-04T03:32:45.299788Z"
    }
   },
   "outputs": [],
   "source": [
    "xo_val = val[val[\"letter\"].isin([\"O\", \"X\"])]\n",
    "xo_val.to_csv(\"xo_val.csv\", index = False)"
   ]
  },
  {
   "cell_type": "code",
   "execution_count": 28,
   "metadata": {
    "ExecuteTime": {
     "end_time": "2021-06-01T23:37:27.673620Z",
     "start_time": "2021-06-01T23:37:27.382383Z"
    },
    "execution": {
     "iopub.execute_input": "2021-11-04T03:32:52.874904Z",
     "iopub.status.busy": "2021-11-04T03:32:52.873526Z",
     "iopub.status.idle": "2021-11-04T03:32:52.917871Z",
     "shell.execute_reply": "2021-11-04T03:32:52.916453Z",
     "shell.execute_reply.started": "2021-11-04T03:32:52.874756Z"
    }
   },
   "outputs": [],
   "source": [
    "X = xo_train[[x for x in xo_train.columns if x != \"letter\"]]\n",
    "y = xo_train[\"letter\"]"
   ]
  },
  {
   "cell_type": "code",
   "execution_count": 29,
   "metadata": {
    "ExecuteTime": {
     "end_time": "2021-06-01T23:37:27.763748Z",
     "start_time": "2021-06-01T23:37:27.675569Z"
    },
    "execution": {
     "iopub.execute_input": "2021-11-04T03:32:57.035389Z",
     "iopub.status.busy": "2021-11-04T03:32:57.035034Z",
     "iopub.status.idle": "2021-11-04T03:32:57.081418Z",
     "shell.execute_reply": "2021-11-04T03:32:57.080672Z",
     "shell.execute_reply.started": "2021-11-04T03:32:57.035348Z"
    }
   },
   "outputs": [],
   "source": [
    "X_train, X_test, y_train, y_test = train_test_split(X, y, train_size = 0.7)\n",
    "X_val = xo_val[[x for x in xo_val.columns if x != \"letter\"]]\n",
    "y_val = xo_val[\"letter\"]"
   ]
  },
  {
   "cell_type": "code",
   "execution_count": 31,
   "metadata": {
    "execution": {
     "iopub.execute_input": "2021-11-04T03:33:06.592756Z",
     "iopub.status.busy": "2021-11-04T03:33:06.591699Z",
     "iopub.status.idle": "2021-11-04T03:33:06.610208Z",
     "shell.execute_reply": "2021-11-04T03:33:06.608381Z",
     "shell.execute_reply.started": "2021-11-04T03:33:06.592620Z"
    },
    "tags": []
   },
   "outputs": [
    {
     "data": {
      "text/plain": [
       "36397     X\n",
       "123740    X\n",
       "5956      O\n",
       "54089     O\n",
       "60883     O\n",
       "         ..\n",
       "120568    X\n",
       "23535     O\n",
       "31102     X\n",
       "65496     O\n",
       "40813     O\n",
       "Name: letter, Length: 6720, dtype: object"
      ]
     },
     "execution_count": 31,
     "metadata": {},
     "output_type": "execute_result"
    }
   ],
   "source": [
    "y_train"
   ]
  },
  {
   "cell_type": "markdown",
   "metadata": {},
   "source": [
    "## Modelado"
   ]
  },
  {
   "cell_type": "markdown",
   "metadata": {},
   "source": [
    "### Cross validation"
   ]
  },
  {
   "cell_type": "code",
   "execution_count": 32,
   "metadata": {
    "ExecuteTime": {
     "end_time": "2021-06-01T23:37:30.029933Z",
     "start_time": "2021-06-01T23:37:30.025237Z"
    },
    "execution": {
     "iopub.execute_input": "2021-11-04T03:33:23.312093Z",
     "iopub.status.busy": "2021-11-04T03:33:23.311836Z",
     "iopub.status.idle": "2021-11-04T03:33:23.315364Z",
     "shell.execute_reply": "2021-11-04T03:33:23.314659Z",
     "shell.execute_reply.started": "2021-11-04T03:33:23.312064Z"
    }
   },
   "outputs": [],
   "source": [
    "mlp = MLPClassifier(max_iter=100)"
   ]
  },
  {
   "cell_type": "code",
   "execution_count": 33,
   "metadata": {
    "ExecuteTime": {
     "end_time": "2021-06-01T23:37:36.158392Z",
     "start_time": "2021-06-01T23:37:31.012490Z"
    },
    "execution": {
     "iopub.execute_input": "2021-11-04T03:33:31.590320Z",
     "iopub.status.busy": "2021-11-04T03:33:31.590064Z",
     "iopub.status.idle": "2021-11-04T03:33:43.557789Z",
     "shell.execute_reply": "2021-11-04T03:33:43.556855Z",
     "shell.execute_reply.started": "2021-11-04T03:33:31.590292Z"
    }
   },
   "outputs": [
    {
     "data": {
      "text/plain": [
       "MLPClassifier(max_iter=100)"
      ]
     },
     "execution_count": 33,
     "metadata": {},
     "output_type": "execute_result"
    }
   ],
   "source": [
    "mlp.fit(X_train, y_train)"
   ]
  },
  {
   "cell_type": "code",
   "execution_count": 34,
   "metadata": {
    "ExecuteTime": {
     "end_time": "2021-06-01T23:37:47.864073Z",
     "start_time": "2021-06-01T23:37:39.069963Z"
    },
    "execution": {
     "iopub.execute_input": "2021-11-04T03:33:48.024319Z",
     "iopub.status.busy": "2021-11-04T03:33:48.023310Z",
     "iopub.status.idle": "2021-11-04T03:33:58.105720Z",
     "shell.execute_reply": "2021-11-04T03:33:58.100854Z",
     "shell.execute_reply.started": "2021-11-04T03:33:48.024226Z"
    }
   },
   "outputs": [
    {
     "name": "stdout",
     "output_type": "stream",
     "text": [
      "ROC media: 1.00, desviación estándar: 0.0008883956621907968\n"
     ]
    }
   ],
   "source": [
    "classification_metrics(X=X_train, y=y_train, estimator=mlp)"
   ]
  },
  {
   "cell_type": "code",
   "execution_count": 35,
   "metadata": {
    "ExecuteTime": {
     "end_time": "2021-06-01T23:37:54.009900Z",
     "start_time": "2021-06-01T23:37:53.954966Z"
    },
    "execution": {
     "iopub.execute_input": "2021-11-04T03:34:09.301035Z",
     "iopub.status.busy": "2021-11-04T03:34:09.300747Z",
     "iopub.status.idle": "2021-11-04T03:34:09.367760Z",
     "shell.execute_reply": "2021-11-04T03:34:09.366838Z",
     "shell.execute_reply.started": "2021-11-04T03:34:09.301003Z"
    }
   },
   "outputs": [
    {
     "data": {
      "text/plain": [
       "0.9954861111111111"
      ]
     },
     "execution_count": 35,
     "metadata": {},
     "output_type": "execute_result"
    }
   ],
   "source": [
    "mlp.score(X_test, y_test)"
   ]
  },
  {
   "cell_type": "code",
   "execution_count": 36,
   "metadata": {
    "ExecuteTime": {
     "end_time": "2021-06-01T23:37:58.146280Z",
     "start_time": "2021-06-01T23:37:58.115628Z"
    },
    "execution": {
     "iopub.execute_input": "2021-11-04T03:34:19.149725Z",
     "iopub.status.busy": "2021-11-04T03:34:19.149499Z",
     "iopub.status.idle": "2021-11-04T03:34:19.198786Z",
     "shell.execute_reply": "2021-11-04T03:34:19.197678Z",
     "shell.execute_reply.started": "2021-11-04T03:34:19.149700Z"
    }
   },
   "outputs": [
    {
     "data": {
      "text/plain": [
       "0.993125"
      ]
     },
     "execution_count": 36,
     "metadata": {},
     "output_type": "execute_result"
    }
   ],
   "source": [
    "mlp.score(X_val, y_val)"
   ]
  },
  {
   "cell_type": "markdown",
   "metadata": {},
   "source": [
    "### Hyperparametrización"
   ]
  },
  {
   "cell_type": "code",
   "execution_count": 37,
   "metadata": {
    "ExecuteTime": {
     "end_time": "2021-06-02T01:36:37.496808Z",
     "start_time": "2021-06-02T01:36:37.492920Z"
    },
    "execution": {
     "iopub.execute_input": "2021-11-04T03:34:27.816742Z",
     "iopub.status.busy": "2021-11-04T03:34:27.815936Z",
     "iopub.status.idle": "2021-11-04T03:34:27.829922Z",
     "shell.execute_reply": "2021-11-04T03:34:27.828282Z",
     "shell.execute_reply.started": "2021-11-04T03:34:27.816653Z"
    }
   },
   "outputs": [],
   "source": [
    "param_grid = {\n",
    "    'hidden_layer_sizes': [(50,50,50), (50,100,50), (100,)],\n",
    "    'activation': ['tanh', 'relu'],\n",
    "    'solver': ['sgd', 'adam'],\n",
    "    'alpha': [0.0001, 0.05],\n",
    "    'learning_rate': ['constant','adaptive'],\n",
    "}"
   ]
  },
  {
   "cell_type": "code",
   "execution_count": 38,
   "metadata": {
    "ExecuteTime": {
     "end_time": "2021-06-02T01:36:32.136308Z",
     "start_time": "2021-06-02T01:36:32.129605Z"
    },
    "execution": {
     "iopub.execute_input": "2021-11-04T03:34:28.161182Z",
     "iopub.status.busy": "2021-11-04T03:34:28.160815Z",
     "iopub.status.idle": "2021-11-04T03:34:28.167182Z",
     "shell.execute_reply": "2021-11-04T03:34:28.166354Z",
     "shell.execute_reply.started": "2021-11-04T03:34:28.161148Z"
    }
   },
   "outputs": [
    {
     "data": {
      "text/plain": [
       "{'hidden_layer_sizes': [(50, 50, 50), (50, 100, 50), (100,)],\n",
       " 'activation': ['tanh', 'relu'],\n",
       " 'solver': ['sgd', 'adam'],\n",
       " 'alpha': [0.0001, 0.05],\n",
       " 'learning_rate': ['constant', 'adaptive']}"
      ]
     },
     "execution_count": 38,
     "metadata": {},
     "output_type": "execute_result"
    }
   ],
   "source": [
    "param_grid"
   ]
  },
  {
   "cell_type": "code",
   "execution_count": 39,
   "metadata": {
    "ExecuteTime": {
     "end_time": "2021-06-01T23:38:05.008241Z",
     "start_time": "2021-06-01T23:38:05.004872Z"
    },
    "execution": {
     "iopub.execute_input": "2021-11-04T03:34:28.546407Z",
     "iopub.status.busy": "2021-11-04T03:34:28.546007Z",
     "iopub.status.idle": "2021-11-04T03:34:28.552743Z",
     "shell.execute_reply": "2021-11-04T03:34:28.551619Z",
     "shell.execute_reply.started": "2021-11-04T03:34:28.546360Z"
    }
   },
   "outputs": [],
   "source": [
    "search = RandomizedSearchCV(param_distributions=param_grid, cv=4, n_jobs=-1, scoring=\"roc_auc\", estimator=mlp, n_iter=10, verbose=5)"
   ]
  },
  {
   "cell_type": "code",
   "execution_count": 40,
   "metadata": {
    "ExecuteTime": {
     "end_time": "2021-06-01T23:41:40.192927Z",
     "start_time": "2021-06-01T23:38:05.524991Z"
    },
    "execution": {
     "iopub.execute_input": "2021-11-04T03:34:29.090122Z",
     "iopub.status.busy": "2021-11-04T03:34:29.089888Z",
     "iopub.status.idle": "2021-11-04T03:37:48.666166Z",
     "shell.execute_reply": "2021-11-04T03:37:48.665165Z",
     "shell.execute_reply.started": "2021-11-04T03:34:29.090098Z"
    }
   },
   "outputs": [
    {
     "name": "stdout",
     "output_type": "stream",
     "text": [
      "Fitting 4 folds for each of 10 candidates, totalling 40 fits\n"
     ]
    },
    {
     "data": {
      "text/plain": [
       "RandomizedSearchCV(cv=4, estimator=MLPClassifier(max_iter=100), n_jobs=-1,\n",
       "                   param_distributions={'activation': ['tanh', 'relu'],\n",
       "                                        'alpha': [0.0001, 0.05],\n",
       "                                        'hidden_layer_sizes': [(50, 50, 50),\n",
       "                                                               (50, 100, 50),\n",
       "                                                               (100,)],\n",
       "                                        'learning_rate': ['constant',\n",
       "                                                          'adaptive'],\n",
       "                                        'solver': ['sgd', 'adam']},\n",
       "                   scoring='roc_auc', verbose=5)"
      ]
     },
     "execution_count": 40,
     "metadata": {},
     "output_type": "execute_result"
    }
   ],
   "source": [
    "search.fit(X=xo_train[[x for x in xo_train if x != \"letter\"]], y=xo_train[\"letter\"])"
   ]
  },
  {
   "cell_type": "code",
   "execution_count": 41,
   "metadata": {
    "ExecuteTime": {
     "end_time": "2021-06-01T23:41:44.656873Z",
     "start_time": "2021-06-01T23:41:44.652163Z"
    },
    "execution": {
     "iopub.execute_input": "2021-11-04T03:37:48.668657Z",
     "iopub.status.busy": "2021-11-04T03:37:48.668253Z",
     "iopub.status.idle": "2021-11-04T03:37:48.682344Z",
     "shell.execute_reply": "2021-11-04T03:37:48.681274Z",
     "shell.execute_reply.started": "2021-11-04T03:37:48.668603Z"
    }
   },
   "outputs": [
    {
     "data": {
      "text/plain": [
       "MLPClassifier(hidden_layer_sizes=(50, 100, 50), learning_rate='adaptive',\n",
       "              max_iter=100)"
      ]
     },
     "execution_count": 41,
     "metadata": {},
     "output_type": "execute_result"
    }
   ],
   "source": [
    "search.best_estimator_"
   ]
  },
  {
   "cell_type": "code",
   "execution_count": 42,
   "metadata": {
    "ExecuteTime": {
     "end_time": "2021-06-01T23:41:45.609359Z",
     "start_time": "2021-06-01T23:41:45.604152Z"
    },
    "execution": {
     "iopub.execute_input": "2021-11-04T03:37:48.685358Z",
     "iopub.status.busy": "2021-11-04T03:37:48.684847Z",
     "iopub.status.idle": "2021-11-04T03:37:48.755552Z",
     "shell.execute_reply": "2021-11-04T03:37:48.754439Z",
     "shell.execute_reply.started": "2021-11-04T03:37:48.685302Z"
    }
   },
   "outputs": [
    {
     "data": {
      "text/plain": [
       "0.9997560763888889"
      ]
     },
     "execution_count": 42,
     "metadata": {},
     "output_type": "execute_result"
    }
   ],
   "source": [
    "search.best_score_"
   ]
  },
  {
   "cell_type": "code",
   "execution_count": 43,
   "metadata": {
    "ExecuteTime": {
     "end_time": "2021-06-01T23:41:51.588053Z",
     "start_time": "2021-06-01T23:41:51.467389Z"
    },
    "execution": {
     "iopub.execute_input": "2021-11-04T03:37:48.757566Z",
     "iopub.status.busy": "2021-11-04T03:37:48.757222Z",
     "iopub.status.idle": "2021-11-04T03:37:48.906146Z",
     "shell.execute_reply": "2021-11-04T03:37:48.905169Z",
     "shell.execute_reply.started": "2021-11-04T03:37:48.757514Z"
    }
   },
   "outputs": [
    {
     "data": {
      "text/plain": [
       "1.0"
      ]
     },
     "execution_count": 43,
     "metadata": {},
     "output_type": "execute_result"
    }
   ],
   "source": [
    "search.score(X_test, y_test)"
   ]
  },
  {
   "cell_type": "code",
   "execution_count": 44,
   "metadata": {
    "ExecuteTime": {
     "end_time": "2021-06-01T23:41:53.433720Z",
     "start_time": "2021-06-01T23:41:53.376474Z"
    },
    "execution": {
     "iopub.execute_input": "2021-11-04T03:37:48.910289Z",
     "iopub.status.busy": "2021-11-04T03:37:48.909607Z",
     "iopub.status.idle": "2021-11-04T03:37:49.015454Z",
     "shell.execute_reply": "2021-11-04T03:37:49.014429Z",
     "shell.execute_reply.started": "2021-11-04T03:37:48.910242Z"
    }
   },
   "outputs": [
    {
     "data": {
      "text/plain": [
       "0.99920390625"
      ]
     },
     "execution_count": 44,
     "metadata": {},
     "output_type": "execute_result"
    }
   ],
   "source": [
    "search.score(X_val, y_val)"
   ]
  },
  {
   "cell_type": "markdown",
   "metadata": {},
   "source": [
    "### Preservación de modelo ganador"
   ]
  },
  {
   "cell_type": "code",
   "execution_count": 45,
   "metadata": {
    "ExecuteTime": {
     "end_time": "2021-06-01T23:36:04.095372Z",
     "start_time": "2021-06-01T23:34:49.261Z"
    },
    "execution": {
     "iopub.execute_input": "2021-11-04T03:37:49.017682Z",
     "iopub.status.busy": "2021-11-04T03:37:49.017077Z",
     "iopub.status.idle": "2021-11-04T03:37:49.049087Z",
     "shell.execute_reply": "2021-11-04T03:37:49.047882Z",
     "shell.execute_reply.started": "2021-11-04T03:37:49.017637Z"
    }
   },
   "outputs": [],
   "source": [
    "pd.to_pickle(search.best_estimator_, \"/home/oscar/Documentos/Oscar/Diplomado/Generación 3/Módulo 2/tic_tac_toe/home/rnn_tictactoe.pickle\")"
   ]
  },
  {
   "cell_type": "code",
   "execution_count": null,
   "metadata": {},
   "outputs": [],
   "source": []
  }
 ],
 "metadata": {
  "kernelspec": {
   "display_name": "Python 3 (ipykernel)",
   "language": "python",
   "name": "python3"
  },
  "language_info": {
   "codemirror_mode": {
    "name": "ipython",
    "version": 3
   },
   "file_extension": ".py",
   "mimetype": "text/x-python",
   "name": "python",
   "nbconvert_exporter": "python",
   "pygments_lexer": "ipython3",
   "version": "3.8.10"
  }
 },
 "nbformat": 4,
 "nbformat_minor": 4
}
