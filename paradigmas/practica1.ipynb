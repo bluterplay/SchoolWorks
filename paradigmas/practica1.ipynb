{
 "cells": [
  {
   "cell_type": "markdown",
   "id": "75ccd3dd",
   "metadata": {},
   "source": [
    "###  Problema 1"
   ]
  },
  {
   "cell_type": "code",
   "execution_count": 11,
   "id": "a4b3ba5c",
   "metadata": {},
   "outputs": [
    {
     "name": "stdout",
     "output_type": "stream",
     "text": [
      "ingrese la calificación del periodo 1: 5\n",
      "ingrese la calificación del periodo 2: 3\n",
      "ingrese la calificación del periodo 3: 7\n",
      "El alumno no paso la materia\n"
     ]
    }
   ],
   "source": [
    "suma=0\n",
    "for i in range(3):\n",
    "    calificacion= float (input(f'ingrese la calificación del periodo {i+1}: '))\n",
    "    suma += calificacion \n",
    "promedio = suma /3    \n",
    "if(promedio >= 6): \n",
    "    print(\"El alumno paso la materia\")\n",
    "else: \n",
    "    print(\"El alumno no paso la materia\")     "
   ]
  },
  {
   "cell_type": "markdown",
   "id": "2755295d",
   "metadata": {},
   "source": [
    "### Problema 2"
   ]
  },
  {
   "cell_type": "code",
   "execution_count": 27,
   "id": "541e5950",
   "metadata": {},
   "outputs": [
    {
     "name": "stdout",
     "output_type": "stream",
     "text": [
      "Ingrese su día de nacimiento:24\n",
      "Ingrese su mes de nacimiento:12\n",
      "Ingrese su año de nacimiento:2000\n"
     ]
    }
   ],
   "source": [
    "from datetime import date\n",
    "\n",
    "dia=int(input(\"Ingrese su día de nacimiento:\"))\n",
    "mes=int(input(\"Ingrese su mes de nacimiento:\"))\n",
    "año= int(input(\"Ingrese su año de nacimiento:\"))\n"
   ]
  },
  {
   "cell_type": "code",
   "execution_count": 28,
   "id": "9d8badc2",
   "metadata": {},
   "outputs": [
    {
     "name": "stdout",
     "output_type": "stream",
     "text": [
      "20\n"
     ]
    }
   ],
   "source": [
    "hoy = date.today()\n",
    "edad= hoy.year- año-1\n",
    "if(mes<= hoy.month):\n",
    "    if(dia<= hoy.day):\n",
    "        edad+=1\n",
    "print(edad)\n",
    "   \n",
    "        "
   ]
  },
  {
   "cell_type": "markdown",
   "id": "24241273",
   "metadata": {},
   "source": [
    "### Problema 3"
   ]
  },
  {
   "cell_type": "code",
   "execution_count": 40,
   "id": "142315ce",
   "metadata": {},
   "outputs": [
    {
     "name": "stdout",
     "output_type": "stream",
     "text": [
      "ingrese el primer valor: 0\n",
      "ingrese el segundo valor:2\n"
     ]
    }
   ],
   "source": [
    "a = int(input(\"ingrese el primer valor: \"))\n",
    "b = int(input(\"ingrese el segundo valor:\"))"
   ]
  },
  {
   "cell_type": "code",
   "execution_count": 41,
   "id": "ef4c1315",
   "metadata": {},
   "outputs": [
    {
     "name": "stdout",
     "output_type": "stream",
     "text": [
      "0 es divisible por 2\n"
     ]
    }
   ],
   "source": [
    "if(a%b ==0):\n",
    "    print(f'{a} es divisible por {b}')\n",
    "elif(b%a==0):\n",
    "    print(f'{b} es divisible por {a}')\n",
    "else:\n",
    "    print(\"Los números no son divisibles\")"
   ]
  },
  {
   "cell_type": "markdown",
   "id": "ded736ce",
   "metadata": {},
   "source": [
    "### Problema 4"
   ]
  },
  {
   "cell_type": "code",
   "execution_count": 44,
   "id": "b495cb30",
   "metadata": {},
   "outputs": [
    {
     "name": "stdout",
     "output_type": "stream",
     "text": [
      "ingrese el número al que desea sacar su factorial: 5\n"
     ]
    }
   ],
   "source": [
    "a=int(input(\"ingrese el número al que desea sacar su factorial: \"))"
   ]
  },
  {
   "cell_type": "code",
   "execution_count": 45,
   "id": "c1cba7d7",
   "metadata": {},
   "outputs": [
    {
     "name": "stdout",
     "output_type": "stream",
     "text": [
      "120\n"
     ]
    }
   ],
   "source": [
    "if(a<0):\n",
    "    print(\"No se calculan factoriales de numeros negativos\")\n",
    "elif(a==0):\n",
    "    print(1)\n",
    "else:\n",
    "    factorial=1\n",
    "    for i in range(a,0,-1):\n",
    "        factorial = factorial*i\n",
    "    print(factorial)"
   ]
  },
  {
   "cell_type": "markdown",
   "id": "a9221990",
   "metadata": {},
   "source": [
    "### Problema 5"
   ]
  },
  {
   "cell_type": "code",
   "execution_count": 50,
   "id": "671b28f8",
   "metadata": {},
   "outputs": [
    {
     "name": "stdout",
     "output_type": "stream",
     "text": [
      "ingrese la potencia a la que desea elevar la constante de euler: 3\n",
      "ingrese el numero de operaciones que desea efectuar: 15\n"
     ]
    }
   ],
   "source": [
    "from math import factorial\n",
    "x= float(input(\"ingrese la potencia a la que desea elevar la constante de euler: \"))\n",
    "n= int(input(\"ingrese el numero de operaciones que desea efectuar: \"))"
   ]
  },
  {
   "cell_type": "code",
   "execution_count": 51,
   "id": "bb2d493c",
   "metadata": {},
   "outputs": [
    {
     "name": "stdout",
     "output_type": "stream",
     "text": [
      "20.08552345812669\n"
     ]
    }
   ],
   "source": [
    "e=0\n",
    "for i in range(n):\n",
    "    e += (x**i)/factorial(i) \n",
    "print(e)"
   ]
  }
 ],
 "metadata": {
  "kernelspec": {
   "display_name": "Python 3 (ipykernel)",
   "language": "python",
   "name": "python3"
  },
  "language_info": {
   "codemirror_mode": {
    "name": "ipython",
    "version": 3
   },
   "file_extension": ".py",
   "mimetype": "text/x-python",
   "name": "python",
   "nbconvert_exporter": "python",
   "pygments_lexer": "ipython3",
   "version": "3.8.10"
  }
 },
 "nbformat": 4,
 "nbformat_minor": 5
}
