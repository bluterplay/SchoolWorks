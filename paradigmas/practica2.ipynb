{
 "cells": [
  {
   "cell_type": "markdown",
   "id": "d4394a5a-097b-46ac-becf-532943d7948a",
   "metadata": {},
   "source": [
    "# Problema 1"
   ]
  },
  {
   "cell_type": "code",
   "execution_count": 7,
   "id": "b11ef7a0-164c-43f0-8745-c8d005e1503f",
   "metadata": {},
   "outputs": [],
   "source": [
    "def sumaDigitos(numero):\n",
    "    total=0\n",
    "    for i in range(0, len(numero)):\n",
    "        total += int(numero[i])\n",
    "    return total"
   ]
  },
  {
   "cell_type": "code",
   "execution_count": 92,
   "id": "a358072e-e434-4583-be75-c382e87f0d92",
   "metadata": {},
   "outputs": [
    {
     "name": "stdin",
     "output_type": "stream",
     "text": [
      "Ingrese el número que digitos quiere sumar 125\n"
     ]
    }
   ],
   "source": [
    "numero = str(input(\"Ingrese el número que digitos quiere sumar\"))"
   ]
  },
  {
   "cell_type": "code",
   "execution_count": 93,
   "id": "f653b4b2-4bb7-4423-b0ac-976aab0ff5c3",
   "metadata": {},
   "outputs": [
    {
     "name": "stdout",
     "output_type": "stream",
     "text": [
      "8\n"
     ]
    }
   ],
   "source": [
    "print(sumaDigitos(numero))\n"
   ]
  },
  {
   "cell_type": "markdown",
   "id": "9b292246-7c18-45c3-aca0-9a5ec7b6d61c",
   "metadata": {},
   "source": [
    "# Problema 2"
   ]
  },
  {
   "cell_type": "code",
   "execution_count": 48,
   "id": "745cdd77-9e77-4f64-a0f4-0d3662e3ee34",
   "metadata": {},
   "outputs": [],
   "source": [
    "def promo(A):\n",
    "    mayor = 0\n",
    "    for i in range(len(A)):\n",
    "        if(A[i] >= mayor):\n",
    "            mayor= A[i]\n",
    "            j= i\n",
    "    A.pop(j)\n",
    "    total = sum(A)\n",
    "    return total"
   ]
  },
  {
   "cell_type": "code",
   "execution_count": 49,
   "id": "2a9fa3ad-f86e-4adb-95d1-a463f987290a",
   "metadata": {
    "tags": []
   },
   "outputs": [
    {
     "name": "stdin",
     "output_type": "stream",
     "text": [
      "Ingrese el costo de la pelicula 1:  120\n",
      "Ingrese el costo de la pelicula 2:  130\n",
      "Ingrese el costo de la pelicula 3:  125\n"
     ]
    }
   ],
   "source": [
    "A = []\n",
    "for i in range(3):\n",
    "    A.append(int(input(f'Ingrese el costo de la pelicula {i+1}: ')))"
   ]
  },
  {
   "cell_type": "code",
   "execution_count": 50,
   "id": "ff29e680-5a59-4a14-bdf4-35d321f54290",
   "metadata": {},
   "outputs": [
    {
     "name": "stdout",
     "output_type": "stream",
     "text": [
      "245\n"
     ]
    }
   ],
   "source": [
    "print(promo(A))"
   ]
  },
  {
   "cell_type": "markdown",
   "id": "9927fd66-34d2-4f01-b0f9-47bfb621c95d",
   "metadata": {},
   "source": [
    "# Problema 3\n"
   ]
  },
  {
   "cell_type": "code",
   "execution_count": 79,
   "id": "94846f1a-3494-4850-b169-3d10cf60c7e2",
   "metadata": {},
   "outputs": [],
   "source": [
    "def numeroMagico(n):\n",
    "    \n",
    "    A= []\n",
    "    while(len(A)== 0):\n",
    "        divisores = []\n",
    "        for i in range(1,(n//2)+1):\n",
    "            if(n%i==0):\n",
    "                divisores.append(i)\n",
    "        if(sum(divisores)==n):\n",
    "            A.append(n)\n",
    "        else:\n",
    "            n+=1\n",
    "    a=A.pop()        \n",
    "    return a"
   ]
  },
  {
   "cell_type": "code",
   "execution_count": 80,
   "id": "b9a78191-16e1-4af8-9b14-52ff8ecf01f3",
   "metadata": {},
   "outputs": [],
   "source": [
    "import numpy as np\n",
    "def nNumerosMagicos(n):\n",
    "    lista = np.zeros(n)\n",
    "    lista[0] = 1\n",
    "    for i in range(1,n):\n",
    "        lista[i] = numeroMagico(int(lista[i-1]+1))\n",
    "    return lista\n",
    "         "
   ]
  },
  {
   "cell_type": "code",
   "execution_count": 87,
   "id": "784c83bb-4fab-48f6-b2f3-0a21d187c436",
   "metadata": {},
   "outputs": [
    {
     "name": "stdout",
     "output_type": "stream",
     "text": [
      "[1.000e+00 6.000e+00 2.800e+01 4.960e+02 8.128e+03]\n"
     ]
    }
   ],
   "source": [
    "print(nNumerosMagicos(5))\n",
    "## Parece que lo hizo mal pero la notación si da, a partir de 5 ya le empieza a costar, tampoco se cual sea el sexto :c"
   ]
  },
  {
   "cell_type": "markdown",
   "id": "1356cc86-03e4-4bb7-8607-834f522ba22f",
   "metadata": {},
   "source": [
    "# Problema 6"
   ]
  },
  {
   "cell_type": "code",
   "execution_count": 91,
   "id": "d5ab17ca-ec22-4e65-8490-037244783833",
   "metadata": {},
   "outputs": [
    {
     "name": "stdin",
     "output_type": "stream",
     "text": [
      "Ingrese el número que digitos quiere sumar 125\n"
     ]
    },
    {
     "name": "stdout",
     "output_type": "stream",
     "text": [
      "8\n"
     ]
    },
    {
     "name": "stdin",
     "output_type": "stream",
     "text": [
      "Ingrese el número que digitos quiere sumar 456\n"
     ]
    },
    {
     "name": "stdout",
     "output_type": "stream",
     "text": [
      "15\n"
     ]
    },
    {
     "name": "stdin",
     "output_type": "stream",
     "text": [
      "Ingrese el número que digitos quiere sumar 584\n"
     ]
    },
    {
     "name": "stdout",
     "output_type": "stream",
     "text": [
      "17\n"
     ]
    },
    {
     "name": "stdin",
     "output_type": "stream",
     "text": [
      "Ingrese el número que digitos quiere sumar 222\n"
     ]
    },
    {
     "name": "stdout",
     "output_type": "stream",
     "text": [
      "6\n"
     ]
    },
    {
     "name": "stdin",
     "output_type": "stream",
     "text": [
      "Ingrese el número que digitos quiere sumar 1478956\n"
     ]
    },
    {
     "name": "stdout",
     "output_type": "stream",
     "text": [
      "40\n"
     ]
    },
    {
     "name": "stdin",
     "output_type": "stream",
     "text": [
      "Ingrese el número que digitos quiere sumar 0\n"
     ]
    },
    {
     "name": "stdout",
     "output_type": "stream",
     "text": [
      "0\n",
      "Gracias\n"
     ]
    }
   ],
   "source": [
    "numero = '1'\n",
    "while (numero != '0'):\n",
    "    numero = str(input(\"Ingrese el número que digitos quiere sumar\"))\n",
    "    print(sumaDigitos(numero))\n",
    "print(\"Gracias\")"
   ]
  },
  {
   "cell_type": "markdown",
   "id": "f5257085-9593-43c1-8bc4-799c156a1fae",
   "metadata": {},
   "source": [
    "# Problema 9"
   ]
  },
  {
   "cell_type": "code",
   "execution_count": 51,
   "id": "d25054b1-1403-479c-9632-79880c454c7f",
   "metadata": {},
   "outputs": [],
   "source": [
    "class Rectangulo:\n",
    "    base = float()\n",
    "    altura = float()\n",
    "    \n",
    "    def __init__(self,base,altura):\n",
    "        self.base = base\n",
    "        self.altura= altura\n",
    "    \n",
    "    def area(self):\n",
    "        return self.altura*self.base "
   ]
  },
  {
   "cell_type": "code",
   "execution_count": 52,
   "id": "2355bb2d-c6ce-4d05-9697-4f411215aad2",
   "metadata": {},
   "outputs": [],
   "source": [
    "rectangulito = Rectangulo(12,6.5)"
   ]
  },
  {
   "cell_type": "code",
   "execution_count": 53,
   "id": "aed688cf-4c1b-4cfd-a5c7-ea333fe90ad9",
   "metadata": {},
   "outputs": [
    {
     "name": "stdout",
     "output_type": "stream",
     "text": [
      "78.0\n"
     ]
    }
   ],
   "source": [
    "print(rectangulito.area())"
   ]
  }
 ],
 "metadata": {
  "kernelspec": {
   "display_name": "Python 3 (ipykernel)",
   "language": "python",
   "name": "python3"
  },
  "language_info": {
   "codemirror_mode": {
    "name": "ipython",
    "version": 3
   },
   "file_extension": ".py",
   "mimetype": "text/x-python",
   "name": "python",
   "nbconvert_exporter": "python",
   "pygments_lexer": "ipython3",
   "version": "3.8.10"
  }
 },
 "nbformat": 4,
 "nbformat_minor": 5
}
