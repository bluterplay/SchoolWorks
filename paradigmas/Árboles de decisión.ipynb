{
 "cells": [
  {
   "cell_type": "markdown",
   "metadata": {},
   "source": [
    "# Árboles de decisión"
   ]
  },
  {
   "cell_type": "markdown",
   "metadata": {},
   "source": [
    "## Preparación de ambiente"
   ]
  },
  {
   "cell_type": "markdown",
   "metadata": {},
   "source": [
    "### Carga de módulos"
   ]
  },
  {
   "cell_type": "code",
   "execution_count": 2,
   "metadata": {
    "ExecuteTime": {
     "end_time": "2020-11-14T15:39:04.184138Z",
     "start_time": "2020-11-14T15:39:00.694855Z"
    },
    "execution": {
     "iopub.execute_input": "2021-11-04T03:11:49.296737Z",
     "iopub.status.busy": "2021-11-04T03:11:49.296504Z",
     "iopub.status.idle": "2021-11-04T03:11:49.301621Z",
     "shell.execute_reply": "2021-11-04T03:11:49.300802Z",
     "shell.execute_reply.started": "2021-11-04T03:11:49.296712Z"
    },
    "tags": []
   },
   "outputs": [],
   "source": [
    "import pydotplus\n",
    "import numpy as np\n",
    "import pandas as pd\n",
    "from sklearn.tree import _tree\n",
    "from IPython.display import Image \n",
    "from sklearn.pipeline import Pipeline\n",
    "from six import StringIO \n",
    "from sklearn.preprocessing import OneHotEncoder\n",
    "from sklearn.tree import DecisionTreeClassifier, export_graphviz\n",
    "from sklearn.model_selection import RandomizedSearchCV, GridSearchCV\n",
    "from sklearn.model_selection import cross_val_score, train_test_split"
   ]
  },
  {
   "cell_type": "markdown",
   "metadata": {},
   "source": [
    "### Funciones relevantes"
   ]
  },
  {
   "cell_type": "code",
   "execution_count": 3,
   "metadata": {
    "ExecuteTime": {
     "end_time": "2020-11-14T15:40:53.598535Z",
     "start_time": "2020-11-14T15:40:53.573104Z"
    },
    "execution": {
     "iopub.execute_input": "2021-11-04T03:12:11.686041Z",
     "iopub.status.busy": "2021-11-04T03:12:11.685745Z",
     "iopub.status.idle": "2021-11-04T03:12:11.694904Z",
     "shell.execute_reply": "2021-11-04T03:12:11.693876Z",
     "shell.execute_reply.started": "2021-11-04T03:12:11.686008Z"
    }
   },
   "outputs": [],
   "source": [
    "def tree_to_code(tree, feature_names):\n",
    "    tree_ = tree.tree_\n",
    "    feature_name = [\n",
    "        feature_names[i] if i != _tree.TREE_UNDEFINED else \"undefined!\"\n",
    "        for i in tree_.feature\n",
    "    ]\n",
    "    features = ','.join(feature_names)\n",
    "    print(f\"def tree({features}):\")\n",
    "\n",
    "    def recurse(node, depth):\n",
    "        indent = \"  \" * depth\n",
    "        if tree_.feature[node] != _tree.TREE_UNDEFINED:\n",
    "            name = feature_name[node]\n",
    "            threshold = tree_.threshold[node]\n",
    "            print(f\"{indent}if {name} <= {threshold}:\")\n",
    "            recurse(tree_.children_left[node], depth + 1)\n",
    "            print(f\"{indent}else:  # if {name} > {threshold}\")\n",
    "            recurse(tree_.children_right[node], depth + 1)\n",
    "        else:\n",
    "            print(f\"{indent}return {tree_.value[node]}\".format(indent, tree_.value[node]))\n",
    "\n",
    "    recurse(0, 1)"
   ]
  },
  {
   "cell_type": "code",
   "execution_count": 4,
   "metadata": {
    "ExecuteTime": {
     "end_time": "2020-11-14T15:40:59.881767Z",
     "start_time": "2020-11-14T15:40:59.876636Z"
    },
    "execution": {
     "iopub.execute_input": "2021-11-04T03:12:34.844602Z",
     "iopub.status.busy": "2021-11-04T03:12:34.844007Z",
     "iopub.status.idle": "2021-11-04T03:12:34.853797Z",
     "shell.execute_reply": "2021-11-04T03:12:34.852457Z",
     "shell.execute_reply.started": "2021-11-04T03:12:34.844530Z"
    }
   },
   "outputs": [],
   "source": [
    "def classification_metrics(X, y, estimator):\n",
    "    ls_scores_roc = cross_val_score(estimator=estimator, X=X, y=y, scoring=\"roc_auc\", n_jobs=-1, cv=4)\n",
    "    print(f\"ROC media: {np.mean(ls_scores_roc):,.2f}, desviación estándar: {np.std(ls_scores_roc)}\")"
   ]
  },
  {
   "cell_type": "markdown",
   "metadata": {},
   "source": [
    "## Carga de datos"
   ]
  },
  {
   "cell_type": "markdown",
   "metadata": {},
   "source": [
    "### Lectura de datos"
   ]
  },
  {
   "cell_type": "code",
   "execution_count": 5,
   "metadata": {
    "ExecuteTime": {
     "end_time": "2020-11-14T15:41:05.321281Z",
     "start_time": "2020-11-14T15:41:05.283657Z"
    },
    "execution": {
     "iopub.execute_input": "2021-11-04T03:12:48.257456Z",
     "iopub.status.busy": "2021-11-04T03:12:48.256441Z",
     "iopub.status.idle": "2021-11-04T03:12:48.500946Z",
     "shell.execute_reply": "2021-11-04T03:12:48.495972Z",
     "shell.execute_reply.started": "2021-11-04T03:12:48.257326Z"
    }
   },
   "outputs": [],
   "source": [
    "df = pd.read_csv(\"tictactoe.csv\")"
   ]
  },
  {
   "cell_type": "code",
   "execution_count": 6,
   "metadata": {
    "ExecuteTime": {
     "end_time": "2020-11-14T15:41:08.436375Z",
     "start_time": "2020-11-14T15:41:08.316479Z"
    },
    "execution": {
     "iopub.execute_input": "2021-11-04T03:12:50.508431Z",
     "iopub.status.busy": "2021-11-04T03:12:50.507916Z",
     "iopub.status.idle": "2021-11-04T03:12:51.013114Z",
     "shell.execute_reply": "2021-11-04T03:12:51.012426Z",
     "shell.execute_reply.started": "2021-11-04T03:12:50.508372Z"
    }
   },
   "outputs": [
    {
     "data": {
      "text/html": [
       "<div>\n",
       "<style scoped>\n",
       "    .dataframe tbody tr th:only-of-type {\n",
       "        vertical-align: middle;\n",
       "    }\n",
       "\n",
       "    .dataframe tbody tr th {\n",
       "        vertical-align: top;\n",
       "    }\n",
       "\n",
       "    .dataframe thead th {\n",
       "        text-align: right;\n",
       "    }\n",
       "</style>\n",
       "<table border=\"1\" class=\"dataframe\">\n",
       "  <thead>\n",
       "    <tr style=\"text-align: right;\">\n",
       "      <th></th>\n",
       "      <th>V1</th>\n",
       "      <th>V2</th>\n",
       "      <th>V3</th>\n",
       "      <th>V4</th>\n",
       "      <th>V5</th>\n",
       "      <th>V6</th>\n",
       "      <th>V7</th>\n",
       "      <th>V8</th>\n",
       "      <th>V9</th>\n",
       "      <th>V10</th>\n",
       "    </tr>\n",
       "  </thead>\n",
       "  <tbody>\n",
       "    <tr>\n",
       "      <th>0</th>\n",
       "      <td>x</td>\n",
       "      <td>x</td>\n",
       "      <td>x</td>\n",
       "      <td>x</td>\n",
       "      <td>o</td>\n",
       "      <td>o</td>\n",
       "      <td>x</td>\n",
       "      <td>o</td>\n",
       "      <td>o</td>\n",
       "      <td>positive</td>\n",
       "    </tr>\n",
       "    <tr>\n",
       "      <th>1</th>\n",
       "      <td>x</td>\n",
       "      <td>x</td>\n",
       "      <td>x</td>\n",
       "      <td>x</td>\n",
       "      <td>o</td>\n",
       "      <td>o</td>\n",
       "      <td>o</td>\n",
       "      <td>x</td>\n",
       "      <td>o</td>\n",
       "      <td>positive</td>\n",
       "    </tr>\n",
       "    <tr>\n",
       "      <th>2</th>\n",
       "      <td>x</td>\n",
       "      <td>x</td>\n",
       "      <td>x</td>\n",
       "      <td>x</td>\n",
       "      <td>o</td>\n",
       "      <td>o</td>\n",
       "      <td>o</td>\n",
       "      <td>o</td>\n",
       "      <td>x</td>\n",
       "      <td>positive</td>\n",
       "    </tr>\n",
       "    <tr>\n",
       "      <th>3</th>\n",
       "      <td>x</td>\n",
       "      <td>x</td>\n",
       "      <td>x</td>\n",
       "      <td>x</td>\n",
       "      <td>o</td>\n",
       "      <td>o</td>\n",
       "      <td>o</td>\n",
       "      <td>b</td>\n",
       "      <td>b</td>\n",
       "      <td>positive</td>\n",
       "    </tr>\n",
       "    <tr>\n",
       "      <th>4</th>\n",
       "      <td>x</td>\n",
       "      <td>x</td>\n",
       "      <td>x</td>\n",
       "      <td>x</td>\n",
       "      <td>o</td>\n",
       "      <td>o</td>\n",
       "      <td>b</td>\n",
       "      <td>o</td>\n",
       "      <td>b</td>\n",
       "      <td>positive</td>\n",
       "    </tr>\n",
       "    <tr>\n",
       "      <th>...</th>\n",
       "      <td>...</td>\n",
       "      <td>...</td>\n",
       "      <td>...</td>\n",
       "      <td>...</td>\n",
       "      <td>...</td>\n",
       "      <td>...</td>\n",
       "      <td>...</td>\n",
       "      <td>...</td>\n",
       "      <td>...</td>\n",
       "      <td>...</td>\n",
       "    </tr>\n",
       "    <tr>\n",
       "      <th>953</th>\n",
       "      <td>o</td>\n",
       "      <td>x</td>\n",
       "      <td>x</td>\n",
       "      <td>x</td>\n",
       "      <td>o</td>\n",
       "      <td>o</td>\n",
       "      <td>o</td>\n",
       "      <td>x</td>\n",
       "      <td>x</td>\n",
       "      <td>negative</td>\n",
       "    </tr>\n",
       "    <tr>\n",
       "      <th>954</th>\n",
       "      <td>o</td>\n",
       "      <td>x</td>\n",
       "      <td>o</td>\n",
       "      <td>x</td>\n",
       "      <td>x</td>\n",
       "      <td>o</td>\n",
       "      <td>x</td>\n",
       "      <td>o</td>\n",
       "      <td>x</td>\n",
       "      <td>negative</td>\n",
       "    </tr>\n",
       "    <tr>\n",
       "      <th>955</th>\n",
       "      <td>o</td>\n",
       "      <td>x</td>\n",
       "      <td>o</td>\n",
       "      <td>x</td>\n",
       "      <td>o</td>\n",
       "      <td>x</td>\n",
       "      <td>x</td>\n",
       "      <td>o</td>\n",
       "      <td>x</td>\n",
       "      <td>negative</td>\n",
       "    </tr>\n",
       "    <tr>\n",
       "      <th>956</th>\n",
       "      <td>o</td>\n",
       "      <td>x</td>\n",
       "      <td>o</td>\n",
       "      <td>o</td>\n",
       "      <td>x</td>\n",
       "      <td>x</td>\n",
       "      <td>x</td>\n",
       "      <td>o</td>\n",
       "      <td>x</td>\n",
       "      <td>negative</td>\n",
       "    </tr>\n",
       "    <tr>\n",
       "      <th>957</th>\n",
       "      <td>o</td>\n",
       "      <td>o</td>\n",
       "      <td>x</td>\n",
       "      <td>x</td>\n",
       "      <td>x</td>\n",
       "      <td>o</td>\n",
       "      <td>o</td>\n",
       "      <td>x</td>\n",
       "      <td>x</td>\n",
       "      <td>negative</td>\n",
       "    </tr>\n",
       "  </tbody>\n",
       "</table>\n",
       "<p>958 rows × 10 columns</p>\n",
       "</div>"
      ],
      "text/plain": [
       "    V1 V2 V3 V4 V5 V6 V7 V8 V9       V10\n",
       "0    x  x  x  x  o  o  x  o  o  positive\n",
       "1    x  x  x  x  o  o  o  x  o  positive\n",
       "2    x  x  x  x  o  o  o  o  x  positive\n",
       "3    x  x  x  x  o  o  o  b  b  positive\n",
       "4    x  x  x  x  o  o  b  o  b  positive\n",
       "..  .. .. .. .. .. .. .. .. ..       ...\n",
       "953  o  x  x  x  o  o  o  x  x  negative\n",
       "954  o  x  o  x  x  o  x  o  x  negative\n",
       "955  o  x  o  x  o  x  x  o  x  negative\n",
       "956  o  x  o  o  x  x  x  o  x  negative\n",
       "957  o  o  x  x  x  o  o  x  x  negative\n",
       "\n",
       "[958 rows x 10 columns]"
      ]
     },
     "execution_count": 6,
     "metadata": {},
     "output_type": "execute_result"
    }
   ],
   "source": [
    "df"
   ]
  },
  {
   "cell_type": "markdown",
   "metadata": {},
   "source": [
    "### EDA"
   ]
  },
  {
   "cell_type": "code",
   "execution_count": 7,
   "metadata": {
    "ExecuteTime": {
     "end_time": "2020-11-14T15:42:07.541564Z",
     "start_time": "2020-11-14T15:42:07.502544Z"
    },
    "execution": {
     "iopub.execute_input": "2021-11-04T03:13:44.780821Z",
     "iopub.status.busy": "2021-11-04T03:13:44.779810Z",
     "iopub.status.idle": "2021-11-04T03:13:45.828470Z",
     "shell.execute_reply": "2021-11-04T03:13:45.825978Z",
     "shell.execute_reply.started": "2021-11-04T03:13:44.780724Z"
    }
   },
   "outputs": [
    {
     "data": {
      "text/html": [
       "<div>\n",
       "<style scoped>\n",
       "    .dataframe tbody tr th:only-of-type {\n",
       "        vertical-align: middle;\n",
       "    }\n",
       "\n",
       "    .dataframe tbody tr th {\n",
       "        vertical-align: top;\n",
       "    }\n",
       "\n",
       "    .dataframe thead th {\n",
       "        text-align: right;\n",
       "    }\n",
       "</style>\n",
       "<table border=\"1\" class=\"dataframe\">\n",
       "  <thead>\n",
       "    <tr style=\"text-align: right;\">\n",
       "      <th></th>\n",
       "      <th>V1</th>\n",
       "      <th>V2</th>\n",
       "      <th>V3</th>\n",
       "      <th>V4</th>\n",
       "      <th>V5</th>\n",
       "      <th>V6</th>\n",
       "      <th>V7</th>\n",
       "      <th>V8</th>\n",
       "      <th>V9</th>\n",
       "      <th>V10</th>\n",
       "    </tr>\n",
       "  </thead>\n",
       "  <tbody>\n",
       "    <tr>\n",
       "      <th>52</th>\n",
       "      <td>x</td>\n",
       "      <td>x</td>\n",
       "      <td>x</td>\n",
       "      <td>b</td>\n",
       "      <td>x</td>\n",
       "      <td>o</td>\n",
       "      <td>b</td>\n",
       "      <td>o</td>\n",
       "      <td>o</td>\n",
       "      <td>positive</td>\n",
       "    </tr>\n",
       "    <tr>\n",
       "      <th>249</th>\n",
       "      <td>x</td>\n",
       "      <td>b</td>\n",
       "      <td>o</td>\n",
       "      <td>x</td>\n",
       "      <td>o</td>\n",
       "      <td>o</td>\n",
       "      <td>x</td>\n",
       "      <td>x</td>\n",
       "      <td>b</td>\n",
       "      <td>positive</td>\n",
       "    </tr>\n",
       "    <tr>\n",
       "      <th>299</th>\n",
       "      <td>o</td>\n",
       "      <td>x</td>\n",
       "      <td>x</td>\n",
       "      <td>o</td>\n",
       "      <td>x</td>\n",
       "      <td>o</td>\n",
       "      <td>x</td>\n",
       "      <td>x</td>\n",
       "      <td>o</td>\n",
       "      <td>positive</td>\n",
       "    </tr>\n",
       "    <tr>\n",
       "      <th>691</th>\n",
       "      <td>x</td>\n",
       "      <td>o</td>\n",
       "      <td>o</td>\n",
       "      <td>x</td>\n",
       "      <td>o</td>\n",
       "      <td>x</td>\n",
       "      <td>o</td>\n",
       "      <td>x</td>\n",
       "      <td>b</td>\n",
       "      <td>negative</td>\n",
       "    </tr>\n",
       "    <tr>\n",
       "      <th>221</th>\n",
       "      <td>x</td>\n",
       "      <td>o</td>\n",
       "      <td>b</td>\n",
       "      <td>b</td>\n",
       "      <td>x</td>\n",
       "      <td>b</td>\n",
       "      <td>b</td>\n",
       "      <td>o</td>\n",
       "      <td>x</td>\n",
       "      <td>positive</td>\n",
       "    </tr>\n",
       "  </tbody>\n",
       "</table>\n",
       "</div>"
      ],
      "text/plain": [
       "    V1 V2 V3 V4 V5 V6 V7 V8 V9       V10\n",
       "52   x  x  x  b  x  o  b  o  o  positive\n",
       "249  x  b  o  x  o  o  x  x  b  positive\n",
       "299  o  x  x  o  x  o  x  x  o  positive\n",
       "691  x  o  o  x  o  x  o  x  b  negative\n",
       "221  x  o  b  b  x  b  b  o  x  positive"
      ]
     },
     "execution_count": 7,
     "metadata": {},
     "output_type": "execute_result"
    }
   ],
   "source": [
    "df.sample(5)"
   ]
  },
  {
   "cell_type": "code",
   "execution_count": 8,
   "metadata": {
    "ExecuteTime": {
     "end_time": "2020-11-14T15:42:17.260573Z",
     "start_time": "2020-11-14T15:42:17.255790Z"
    },
    "execution": {
     "iopub.execute_input": "2021-11-04T03:13:52.596550Z",
     "iopub.status.busy": "2021-11-04T03:13:52.595806Z",
     "iopub.status.idle": "2021-11-04T03:13:52.610122Z",
     "shell.execute_reply": "2021-11-04T03:13:52.608046Z",
     "shell.execute_reply.started": "2021-11-04T03:13:52.596465Z"
    }
   },
   "outputs": [
    {
     "data": {
      "text/plain": [
       "(958, 10)"
      ]
     },
     "execution_count": 8,
     "metadata": {},
     "output_type": "execute_result"
    }
   ],
   "source": [
    "df.shape"
   ]
  },
  {
   "cell_type": "markdown",
   "metadata": {},
   "source": [
    "### Separación de sets"
   ]
  },
  {
   "cell_type": "code",
   "execution_count": 9,
   "metadata": {
    "ExecuteTime": {
     "end_time": "2020-11-14T15:42:34.827032Z",
     "start_time": "2020-11-14T15:42:34.810627Z"
    },
    "execution": {
     "iopub.execute_input": "2021-11-04T03:14:19.038706Z",
     "iopub.status.busy": "2021-11-04T03:14:19.037419Z",
     "iopub.status.idle": "2021-11-04T03:14:19.055541Z",
     "shell.execute_reply": "2021-11-04T03:14:19.054319Z",
     "shell.execute_reply.started": "2021-11-04T03:14:19.038502Z"
    }
   },
   "outputs": [],
   "source": [
    "X = df[[f\"V{x}\" for x in range(1, 10)]]\n",
    "y = df[\"V10\"]"
   ]
  },
  {
   "cell_type": "code",
   "execution_count": 10,
   "metadata": {
    "ExecuteTime": {
     "end_time": "2020-11-14T15:42:36.782214Z",
     "start_time": "2020-11-14T15:42:36.774000Z"
    },
    "execution": {
     "iopub.execute_input": "2021-11-04T03:14:19.939585Z",
     "iopub.status.busy": "2021-11-04T03:14:19.939340Z",
     "iopub.status.idle": "2021-11-04T03:14:19.945461Z",
     "shell.execute_reply": "2021-11-04T03:14:19.944262Z",
     "shell.execute_reply.started": "2021-11-04T03:14:19.939558Z"
    }
   },
   "outputs": [],
   "source": [
    "X_train, X_test, y_train, y_test = train_test_split(X, y, train_size=0.7)"
   ]
  },
  {
   "cell_type": "markdown",
   "metadata": {},
   "source": [
    "## Modelado"
   ]
  },
  {
   "cell_type": "markdown",
   "metadata": {},
   "source": [
    "### Generación de pipeline"
   ]
  },
  {
   "cell_type": "code",
   "execution_count": 11,
   "metadata": {
    "ExecuteTime": {
     "end_time": "2020-11-14T15:42:47.734797Z",
     "start_time": "2020-11-14T15:42:47.732225Z"
    },
    "execution": {
     "iopub.execute_input": "2021-11-04T03:14:27.502911Z",
     "iopub.status.busy": "2021-11-04T03:14:27.502098Z",
     "iopub.status.idle": "2021-11-04T03:14:27.513387Z",
     "shell.execute_reply": "2021-11-04T03:14:27.510424Z",
     "shell.execute_reply.started": "2021-11-04T03:14:27.502816Z"
    }
   },
   "outputs": [],
   "source": [
    "ohe = OneHotEncoder(sparse=False)"
   ]
  },
  {
   "cell_type": "code",
   "execution_count": 12,
   "metadata": {
    "ExecuteTime": {
     "end_time": "2020-11-14T15:42:51.605315Z",
     "start_time": "2020-11-14T15:42:51.588498Z"
    },
    "execution": {
     "iopub.execute_input": "2021-11-04T03:14:36.545313Z",
     "iopub.status.busy": "2021-11-04T03:14:36.545076Z",
     "iopub.status.idle": "2021-11-04T03:14:36.557995Z",
     "shell.execute_reply": "2021-11-04T03:14:36.557089Z",
     "shell.execute_reply.started": "2021-11-04T03:14:36.545288Z"
    }
   },
   "outputs": [
    {
     "data": {
      "text/plain": [
       "array([[0., 0., 1., ..., 0., 1., 0.],\n",
       "       [0., 0., 1., ..., 0., 1., 0.],\n",
       "       [0., 0., 1., ..., 0., 0., 1.],\n",
       "       ...,\n",
       "       [0., 1., 0., ..., 0., 0., 1.],\n",
       "       [0., 1., 0., ..., 0., 0., 1.],\n",
       "       [0., 1., 0., ..., 0., 0., 1.]])"
      ]
     },
     "execution_count": 12,
     "metadata": {},
     "output_type": "execute_result"
    }
   ],
   "source": [
    "ohe.fit_transform(df[[f\"V{x}\" for x in range(1, 10)]])"
   ]
  },
  {
   "cell_type": "code",
   "execution_count": 13,
   "metadata": {
    "ExecuteTime": {
     "end_time": "2020-11-14T15:43:01.102052Z",
     "start_time": "2020-11-14T15:43:00.978967Z"
    },
    "execution": {
     "iopub.execute_input": "2021-11-04T03:14:42.960813Z",
     "iopub.status.busy": "2021-11-04T03:14:42.960321Z",
     "iopub.status.idle": "2021-11-04T03:14:43.046848Z",
     "shell.execute_reply": "2021-11-04T03:14:43.045060Z",
     "shell.execute_reply.started": "2021-11-04T03:14:42.960756Z"
    }
   },
   "outputs": [
    {
     "data": {
      "text/plain": [
       "\u001b[0;31mSignature:\u001b[0m \u001b[0mohe\u001b[0m\u001b[0;34m.\u001b[0m\u001b[0mget_feature_names\u001b[0m\u001b[0;34m(\u001b[0m\u001b[0minput_features\u001b[0m\u001b[0;34m=\u001b[0m\u001b[0;32mNone\u001b[0m\u001b[0;34m)\u001b[0m\u001b[0;34m\u001b[0m\u001b[0;34m\u001b[0m\u001b[0m\n",
       "\u001b[0;31mDocstring:\u001b[0m\n",
       "Return feature names for output features.\n",
       "\n",
       "Parameters\n",
       "----------\n",
       "input_features : list of str of shape (n_features,)\n",
       "    String names for input features if available. By default,\n",
       "    \"x0\", \"x1\", ... \"xn_features\" is used.\n",
       "\n",
       "Returns\n",
       "-------\n",
       "output_feature_names : ndarray of shape (n_output_features,)\n",
       "    Array of feature names.\n",
       "\u001b[0;31mFile:\u001b[0m      ~/VirtualEnvs/Python 3/lib/python3.7/site-packages/sklearn/preprocessing/_encoders.py\n",
       "\u001b[0;31mType:\u001b[0m      method\n"
      ]
     },
     "metadata": {},
     "output_type": "display_data"
    }
   ],
   "source": [
    "ohe.get_feature_names?"
   ]
  },
  {
   "cell_type": "code",
   "execution_count": 14,
   "metadata": {
    "ExecuteTime": {
     "end_time": "2020-11-14T15:43:23.255896Z",
     "start_time": "2020-11-14T15:43:23.251151Z"
    },
    "execution": {
     "iopub.execute_input": "2021-11-04T03:15:00.333693Z",
     "iopub.status.busy": "2021-11-04T03:15:00.333132Z",
     "iopub.status.idle": "2021-11-04T03:15:00.341848Z",
     "shell.execute_reply": "2021-11-04T03:15:00.340712Z",
     "shell.execute_reply.started": "2021-11-04T03:15:00.333619Z"
    }
   },
   "outputs": [
    {
     "data": {
      "text/plain": [
       "array(['V1_b', 'V1_o', 'V1_x', 'V2_b', 'V2_o', 'V2_x', 'V3_b', 'V3_o',\n",
       "       'V3_x', 'V4_b', 'V4_o', 'V4_x', 'V5_b', 'V5_o', 'V5_x', 'V6_b',\n",
       "       'V6_o', 'V6_x', 'V7_b', 'V7_o', 'V7_x', 'V8_b', 'V8_o', 'V8_x',\n",
       "       'V9_b', 'V9_o', 'V9_x'], dtype=object)"
      ]
     },
     "execution_count": 14,
     "metadata": {},
     "output_type": "execute_result"
    }
   ],
   "source": [
    "ohe.get_feature_names(X.columns)"
   ]
  },
  {
   "cell_type": "code",
   "execution_count": 15,
   "metadata": {
    "ExecuteTime": {
     "end_time": "2020-11-14T15:43:43.368613Z",
     "start_time": "2020-11-14T15:43:43.361841Z"
    },
    "execution": {
     "iopub.execute_input": "2021-11-04T03:15:14.433240Z",
     "iopub.status.busy": "2021-11-04T03:15:14.432828Z",
     "iopub.status.idle": "2021-11-04T03:15:14.443119Z",
     "shell.execute_reply": "2021-11-04T03:15:14.441606Z",
     "shell.execute_reply.started": "2021-11-04T03:15:14.433197Z"
    },
    "scrolled": true,
    "tags": []
   },
   "outputs": [
    {
     "data": {
      "text/plain": [
       "\u001b[0;31mInit signature:\u001b[0m\n",
       "\u001b[0mDecisionTreeClassifier\u001b[0m\u001b[0;34m(\u001b[0m\u001b[0;34m\u001b[0m\n",
       "\u001b[0;34m\u001b[0m    \u001b[0;34m*\u001b[0m\u001b[0;34m,\u001b[0m\u001b[0;34m\u001b[0m\n",
       "\u001b[0;34m\u001b[0m    \u001b[0mcriterion\u001b[0m\u001b[0;34m=\u001b[0m\u001b[0;34m'gini'\u001b[0m\u001b[0;34m,\u001b[0m\u001b[0;34m\u001b[0m\n",
       "\u001b[0;34m\u001b[0m    \u001b[0msplitter\u001b[0m\u001b[0;34m=\u001b[0m\u001b[0;34m'best'\u001b[0m\u001b[0;34m,\u001b[0m\u001b[0;34m\u001b[0m\n",
       "\u001b[0;34m\u001b[0m    \u001b[0mmax_depth\u001b[0m\u001b[0;34m=\u001b[0m\u001b[0;32mNone\u001b[0m\u001b[0;34m,\u001b[0m\u001b[0;34m\u001b[0m\n",
       "\u001b[0;34m\u001b[0m    \u001b[0mmin_samples_split\u001b[0m\u001b[0;34m=\u001b[0m\u001b[0;36m2\u001b[0m\u001b[0;34m,\u001b[0m\u001b[0;34m\u001b[0m\n",
       "\u001b[0;34m\u001b[0m    \u001b[0mmin_samples_leaf\u001b[0m\u001b[0;34m=\u001b[0m\u001b[0;36m1\u001b[0m\u001b[0;34m,\u001b[0m\u001b[0;34m\u001b[0m\n",
       "\u001b[0;34m\u001b[0m    \u001b[0mmin_weight_fraction_leaf\u001b[0m\u001b[0;34m=\u001b[0m\u001b[0;36m0.0\u001b[0m\u001b[0;34m,\u001b[0m\u001b[0;34m\u001b[0m\n",
       "\u001b[0;34m\u001b[0m    \u001b[0mmax_features\u001b[0m\u001b[0;34m=\u001b[0m\u001b[0;32mNone\u001b[0m\u001b[0;34m,\u001b[0m\u001b[0;34m\u001b[0m\n",
       "\u001b[0;34m\u001b[0m    \u001b[0mrandom_state\u001b[0m\u001b[0;34m=\u001b[0m\u001b[0;32mNone\u001b[0m\u001b[0;34m,\u001b[0m\u001b[0;34m\u001b[0m\n",
       "\u001b[0;34m\u001b[0m    \u001b[0mmax_leaf_nodes\u001b[0m\u001b[0;34m=\u001b[0m\u001b[0;32mNone\u001b[0m\u001b[0;34m,\u001b[0m\u001b[0;34m\u001b[0m\n",
       "\u001b[0;34m\u001b[0m    \u001b[0mmin_impurity_decrease\u001b[0m\u001b[0;34m=\u001b[0m\u001b[0;36m0.0\u001b[0m\u001b[0;34m,\u001b[0m\u001b[0;34m\u001b[0m\n",
       "\u001b[0;34m\u001b[0m    \u001b[0mmin_impurity_split\u001b[0m\u001b[0;34m=\u001b[0m\u001b[0;32mNone\u001b[0m\u001b[0;34m,\u001b[0m\u001b[0;34m\u001b[0m\n",
       "\u001b[0;34m\u001b[0m    \u001b[0mclass_weight\u001b[0m\u001b[0;34m=\u001b[0m\u001b[0;32mNone\u001b[0m\u001b[0;34m,\u001b[0m\u001b[0;34m\u001b[0m\n",
       "\u001b[0;34m\u001b[0m    \u001b[0mccp_alpha\u001b[0m\u001b[0;34m=\u001b[0m\u001b[0;36m0.0\u001b[0m\u001b[0;34m,\u001b[0m\u001b[0;34m\u001b[0m\n",
       "\u001b[0;34m\u001b[0m\u001b[0;34m)\u001b[0m\u001b[0;34m\u001b[0m\u001b[0;34m\u001b[0m\u001b[0m\n",
       "\u001b[0;31mDocstring:\u001b[0m     \n",
       "A decision tree classifier.\n",
       "\n",
       "Read more in the :ref:`User Guide <tree>`.\n",
       "\n",
       "Parameters\n",
       "----------\n",
       "criterion : {\"gini\", \"entropy\"}, default=\"gini\"\n",
       "    The function to measure the quality of a split. Supported criteria are\n",
       "    \"gini\" for the Gini impurity and \"entropy\" for the information gain.\n",
       "\n",
       "splitter : {\"best\", \"random\"}, default=\"best\"\n",
       "    The strategy used to choose the split at each node. Supported\n",
       "    strategies are \"best\" to choose the best split and \"random\" to choose\n",
       "    the best random split.\n",
       "\n",
       "max_depth : int, default=None\n",
       "    The maximum depth of the tree. If None, then nodes are expanded until\n",
       "    all leaves are pure or until all leaves contain less than\n",
       "    min_samples_split samples.\n",
       "\n",
       "min_samples_split : int or float, default=2\n",
       "    The minimum number of samples required to split an internal node:\n",
       "\n",
       "    - If int, then consider `min_samples_split` as the minimum number.\n",
       "    - If float, then `min_samples_split` is a fraction and\n",
       "      `ceil(min_samples_split * n_samples)` are the minimum\n",
       "      number of samples for each split.\n",
       "\n",
       "    .. versionchanged:: 0.18\n",
       "       Added float values for fractions.\n",
       "\n",
       "min_samples_leaf : int or float, default=1\n",
       "    The minimum number of samples required to be at a leaf node.\n",
       "    A split point at any depth will only be considered if it leaves at\n",
       "    least ``min_samples_leaf`` training samples in each of the left and\n",
       "    right branches.  This may have the effect of smoothing the model,\n",
       "    especially in regression.\n",
       "\n",
       "    - If int, then consider `min_samples_leaf` as the minimum number.\n",
       "    - If float, then `min_samples_leaf` is a fraction and\n",
       "      `ceil(min_samples_leaf * n_samples)` are the minimum\n",
       "      number of samples for each node.\n",
       "\n",
       "    .. versionchanged:: 0.18\n",
       "       Added float values for fractions.\n",
       "\n",
       "min_weight_fraction_leaf : float, default=0.0\n",
       "    The minimum weighted fraction of the sum total of weights (of all\n",
       "    the input samples) required to be at a leaf node. Samples have\n",
       "    equal weight when sample_weight is not provided.\n",
       "\n",
       "max_features : int, float or {\"auto\", \"sqrt\", \"log2\"}, default=None\n",
       "    The number of features to consider when looking for the best split:\n",
       "\n",
       "        - If int, then consider `max_features` features at each split.\n",
       "        - If float, then `max_features` is a fraction and\n",
       "          `int(max_features * n_features)` features are considered at each\n",
       "          split.\n",
       "        - If \"auto\", then `max_features=sqrt(n_features)`.\n",
       "        - If \"sqrt\", then `max_features=sqrt(n_features)`.\n",
       "        - If \"log2\", then `max_features=log2(n_features)`.\n",
       "        - If None, then `max_features=n_features`.\n",
       "\n",
       "    Note: the search for a split does not stop until at least one\n",
       "    valid partition of the node samples is found, even if it requires to\n",
       "    effectively inspect more than ``max_features`` features.\n",
       "\n",
       "random_state : int, RandomState instance or None, default=None\n",
       "    Controls the randomness of the estimator. The features are always\n",
       "    randomly permuted at each split, even if ``splitter`` is set to\n",
       "    ``\"best\"``. When ``max_features < n_features``, the algorithm will\n",
       "    select ``max_features`` at random at each split before finding the best\n",
       "    split among them. But the best found split may vary across different\n",
       "    runs, even if ``max_features=n_features``. That is the case, if the\n",
       "    improvement of the criterion is identical for several splits and one\n",
       "    split has to be selected at random. To obtain a deterministic behaviour\n",
       "    during fitting, ``random_state`` has to be fixed to an integer.\n",
       "    See :term:`Glossary <random_state>` for details.\n",
       "\n",
       "max_leaf_nodes : int, default=None\n",
       "    Grow a tree with ``max_leaf_nodes`` in best-first fashion.\n",
       "    Best nodes are defined as relative reduction in impurity.\n",
       "    If None then unlimited number of leaf nodes.\n",
       "\n",
       "min_impurity_decrease : float, default=0.0\n",
       "    A node will be split if this split induces a decrease of the impurity\n",
       "    greater than or equal to this value.\n",
       "\n",
       "    The weighted impurity decrease equation is the following::\n",
       "\n",
       "        N_t / N * (impurity - N_t_R / N_t * right_impurity\n",
       "                            - N_t_L / N_t * left_impurity)\n",
       "\n",
       "    where ``N`` is the total number of samples, ``N_t`` is the number of\n",
       "    samples at the current node, ``N_t_L`` is the number of samples in the\n",
       "    left child, and ``N_t_R`` is the number of samples in the right child.\n",
       "\n",
       "    ``N``, ``N_t``, ``N_t_R`` and ``N_t_L`` all refer to the weighted sum,\n",
       "    if ``sample_weight`` is passed.\n",
       "\n",
       "    .. versionadded:: 0.19\n",
       "\n",
       "min_impurity_split : float, default=0\n",
       "    Threshold for early stopping in tree growth. A node will split\n",
       "    if its impurity is above the threshold, otherwise it is a leaf.\n",
       "\n",
       "    .. deprecated:: 0.19\n",
       "       ``min_impurity_split`` has been deprecated in favor of\n",
       "       ``min_impurity_decrease`` in 0.19. The default value of\n",
       "       ``min_impurity_split`` has changed from 1e-7 to 0 in 0.23 and it\n",
       "       will be removed in 1.0 (renaming of 0.25).\n",
       "       Use ``min_impurity_decrease`` instead.\n",
       "\n",
       "class_weight : dict, list of dict or \"balanced\", default=None\n",
       "    Weights associated with classes in the form ``{class_label: weight}``.\n",
       "    If None, all classes are supposed to have weight one. For\n",
       "    multi-output problems, a list of dicts can be provided in the same\n",
       "    order as the columns of y.\n",
       "\n",
       "    Note that for multioutput (including multilabel) weights should be\n",
       "    defined for each class of every column in its own dict. For example,\n",
       "    for four-class multilabel classification weights should be\n",
       "    [{0: 1, 1: 1}, {0: 1, 1: 5}, {0: 1, 1: 1}, {0: 1, 1: 1}] instead of\n",
       "    [{1:1}, {2:5}, {3:1}, {4:1}].\n",
       "\n",
       "    The \"balanced\" mode uses the values of y to automatically adjust\n",
       "    weights inversely proportional to class frequencies in the input data\n",
       "    as ``n_samples / (n_classes * np.bincount(y))``\n",
       "\n",
       "    For multi-output, the weights of each column of y will be multiplied.\n",
       "\n",
       "    Note that these weights will be multiplied with sample_weight (passed\n",
       "    through the fit method) if sample_weight is specified.\n",
       "\n",
       "ccp_alpha : non-negative float, default=0.0\n",
       "    Complexity parameter used for Minimal Cost-Complexity Pruning. The\n",
       "    subtree with the largest cost complexity that is smaller than\n",
       "    ``ccp_alpha`` will be chosen. By default, no pruning is performed. See\n",
       "    :ref:`minimal_cost_complexity_pruning` for details.\n",
       "\n",
       "    .. versionadded:: 0.22\n",
       "\n",
       "Attributes\n",
       "----------\n",
       "classes_ : ndarray of shape (n_classes,) or list of ndarray\n",
       "    The classes labels (single output problem),\n",
       "    or a list of arrays of class labels (multi-output problem).\n",
       "\n",
       "feature_importances_ : ndarray of shape (n_features,)\n",
       "    The impurity-based feature importances.\n",
       "    The higher, the more important the feature.\n",
       "    The importance of a feature is computed as the (normalized)\n",
       "    total reduction of the criterion brought by that feature.  It is also\n",
       "    known as the Gini importance [4]_.\n",
       "\n",
       "    Warning: impurity-based feature importances can be misleading for\n",
       "    high cardinality features (many unique values). See\n",
       "    :func:`sklearn.inspection.permutation_importance` as an alternative.\n",
       "\n",
       "max_features_ : int\n",
       "    The inferred value of max_features.\n",
       "\n",
       "n_classes_ : int or list of int\n",
       "    The number of classes (for single output problems),\n",
       "    or a list containing the number of classes for each\n",
       "    output (for multi-output problems).\n",
       "\n",
       "n_features_ : int\n",
       "    The number of features when ``fit`` is performed.\n",
       "\n",
       "n_outputs_ : int\n",
       "    The number of outputs when ``fit`` is performed.\n",
       "\n",
       "tree_ : Tree instance\n",
       "    The underlying Tree object. Please refer to\n",
       "    ``help(sklearn.tree._tree.Tree)`` for attributes of Tree object and\n",
       "    :ref:`sphx_glr_auto_examples_tree_plot_unveil_tree_structure.py`\n",
       "    for basic usage of these attributes.\n",
       "\n",
       "See Also\n",
       "--------\n",
       "DecisionTreeRegressor : A decision tree regressor.\n",
       "\n",
       "Notes\n",
       "-----\n",
       "The default values for the parameters controlling the size of the trees\n",
       "(e.g. ``max_depth``, ``min_samples_leaf``, etc.) lead to fully grown and\n",
       "unpruned trees which can potentially be very large on some data sets. To\n",
       "reduce memory consumption, the complexity and size of the trees should be\n",
       "controlled by setting those parameter values.\n",
       "\n",
       "The :meth:`predict` method operates using the :func:`numpy.argmax`\n",
       "function on the outputs of :meth:`predict_proba`. This means that in\n",
       "case the highest predicted probabilities are tied, the classifier will\n",
       "predict the tied class with the lowest index in :term:`classes_`.\n",
       "\n",
       "References\n",
       "----------\n",
       "\n",
       ".. [1] https://en.wikipedia.org/wiki/Decision_tree_learning\n",
       "\n",
       ".. [2] L. Breiman, J. Friedman, R. Olshen, and C. Stone, \"Classification\n",
       "       and Regression Trees\", Wadsworth, Belmont, CA, 1984.\n",
       "\n",
       ".. [3] T. Hastie, R. Tibshirani and J. Friedman. \"Elements of Statistical\n",
       "       Learning\", Springer, 2009.\n",
       "\n",
       ".. [4] L. Breiman, and A. Cutler, \"Random Forests\",\n",
       "       https://www.stat.berkeley.edu/~breiman/RandomForests/cc_home.htm\n",
       "\n",
       "Examples\n",
       "--------\n",
       ">>> from sklearn.datasets import load_iris\n",
       ">>> from sklearn.model_selection import cross_val_score\n",
       ">>> from sklearn.tree import DecisionTreeClassifier\n",
       ">>> clf = DecisionTreeClassifier(random_state=0)\n",
       ">>> iris = load_iris()\n",
       ">>> cross_val_score(clf, iris.data, iris.target, cv=10)\n",
       "...                             # doctest: +SKIP\n",
       "...\n",
       "array([ 1.     ,  0.93...,  0.86...,  0.93...,  0.93...,\n",
       "        0.93...,  0.93...,  1.     ,  0.93...,  1.      ])\n",
       "\u001b[0;31mFile:\u001b[0m           ~/VirtualEnvs/Python 3/lib/python3.7/site-packages/sklearn/tree/_classes.py\n",
       "\u001b[0;31mType:\u001b[0m           ABCMeta\n",
       "\u001b[0;31mSubclasses:\u001b[0m     ExtraTreeClassifier\n"
      ]
     },
     "metadata": {},
     "output_type": "display_data"
    }
   ],
   "source": [
    "DecisionTreeClassifier?"
   ]
  },
  {
   "cell_type": "code",
   "execution_count": 16,
   "metadata": {
    "ExecuteTime": {
     "end_time": "2020-11-14T15:44:49.643267Z",
     "start_time": "2020-11-14T15:44:49.639999Z"
    },
    "execution": {
     "iopub.execute_input": "2021-11-04T03:17:07.688746Z",
     "iopub.status.busy": "2021-11-04T03:17:07.688367Z",
     "iopub.status.idle": "2021-11-04T03:17:07.693097Z",
     "shell.execute_reply": "2021-11-04T03:17:07.692117Z",
     "shell.execute_reply.started": "2021-11-04T03:17:07.688699Z"
    }
   },
   "outputs": [],
   "source": [
    "tree = DecisionTreeClassifier(max_depth=3)"
   ]
  },
  {
   "cell_type": "code",
   "execution_count": 17,
   "metadata": {
    "ExecuteTime": {
     "end_time": "2020-11-14T15:45:58.462046Z",
     "start_time": "2020-11-14T15:45:58.458536Z"
    },
    "execution": {
     "iopub.execute_input": "2021-11-04T03:17:16.692544Z",
     "iopub.status.busy": "2021-11-04T03:17:16.692157Z",
     "iopub.status.idle": "2021-11-04T03:17:16.697494Z",
     "shell.execute_reply": "2021-11-04T03:17:16.696471Z",
     "shell.execute_reply.started": "2021-11-04T03:17:16.692497Z"
    }
   },
   "outputs": [],
   "source": [
    "pipe = Pipeline([(\"encoder\", ohe), (\"tree\", tree)])"
   ]
  },
  {
   "cell_type": "markdown",
   "metadata": {},
   "source": [
    "### Entrenamiento"
   ]
  },
  {
   "cell_type": "code",
   "execution_count": 18,
   "metadata": {
    "ExecuteTime": {
     "end_time": "2020-11-14T15:46:11.416993Z",
     "start_time": "2020-11-14T15:46:11.363388Z"
    },
    "execution": {
     "iopub.execute_input": "2021-11-04T03:17:18.915758Z",
     "iopub.status.busy": "2021-11-04T03:17:18.915264Z",
     "iopub.status.idle": "2021-11-04T03:17:19.158817Z",
     "shell.execute_reply": "2021-11-04T03:17:19.156020Z",
     "shell.execute_reply.started": "2021-11-04T03:17:18.915700Z"
    }
   },
   "outputs": [
    {
     "data": {
      "text/plain": [
       "Pipeline(steps=[('encoder', OneHotEncoder(sparse=False)),\n",
       "                ('tree', DecisionTreeClassifier(max_depth=3))])"
      ]
     },
     "execution_count": 18,
     "metadata": {},
     "output_type": "execute_result"
    }
   ],
   "source": [
    "pipe.fit(X_train, y_train)"
   ]
  },
  {
   "cell_type": "code",
   "execution_count": 19,
   "metadata": {
    "ExecuteTime": {
     "end_time": "2020-11-14T15:46:40.874454Z",
     "start_time": "2020-11-14T15:46:40.863691Z"
    },
    "execution": {
     "iopub.execute_input": "2021-11-04T03:17:33.496742Z",
     "iopub.status.busy": "2021-11-04T03:17:33.496439Z",
     "iopub.status.idle": "2021-11-04T03:17:33.507854Z",
     "shell.execute_reply": "2021-11-04T03:17:33.507280Z",
     "shell.execute_reply.started": "2021-11-04T03:17:33.496707Z"
    }
   },
   "outputs": [
    {
     "data": {
      "text/plain": [
       "0.7716417910447761"
      ]
     },
     "execution_count": 19,
     "metadata": {},
     "output_type": "execute_result"
    }
   ],
   "source": [
    "pipe.score(X_train, y_train)"
   ]
  },
  {
   "cell_type": "code",
   "execution_count": 21,
   "metadata": {
    "execution": {
     "iopub.execute_input": "2021-11-04T03:17:47.009299Z",
     "iopub.status.busy": "2021-11-04T03:17:47.008246Z",
     "iopub.status.idle": "2021-11-04T03:17:47.277273Z",
     "shell.execute_reply": "2021-11-04T03:17:47.272366Z",
     "shell.execute_reply.started": "2021-11-04T03:17:47.009167Z"
    },
    "tags": []
   },
   "outputs": [
    {
     "data": {
      "text/plain": [
       "positive    0.674627\n",
       "negative    0.325373\n",
       "Name: V10, dtype: float64"
      ]
     },
     "execution_count": 21,
     "metadata": {},
     "output_type": "execute_result"
    }
   ],
   "source": [
    "y_train.value_counts(True)"
   ]
  },
  {
   "cell_type": "code",
   "execution_count": 22,
   "metadata": {
    "ExecuteTime": {
     "end_time": "2020-11-14T15:46:47.379793Z",
     "start_time": "2020-11-14T15:46:47.369952Z"
    },
    "execution": {
     "iopub.execute_input": "2021-11-04T03:17:55.283310Z",
     "iopub.status.busy": "2021-11-04T03:17:55.282908Z",
     "iopub.status.idle": "2021-11-04T03:17:55.296167Z",
     "shell.execute_reply": "2021-11-04T03:17:55.295345Z",
     "shell.execute_reply.started": "2021-11-04T03:17:55.283264Z"
    }
   },
   "outputs": [
    {
     "data": {
      "text/plain": [
       "0.6944444444444444"
      ]
     },
     "execution_count": 22,
     "metadata": {},
     "output_type": "execute_result"
    }
   ],
   "source": [
    "pipe.score(X_test, y_test)"
   ]
  },
  {
   "cell_type": "code",
   "execution_count": 23,
   "metadata": {
    "ExecuteTime": {
     "end_time": "2020-11-14T15:47:27.902532Z",
     "start_time": "2020-11-14T15:47:27.049746Z"
    },
    "execution": {
     "iopub.execute_input": "2021-11-04T03:18:05.166690Z",
     "iopub.status.busy": "2021-11-04T03:18:05.166308Z",
     "iopub.status.idle": "2021-11-04T03:18:05.654745Z",
     "shell.execute_reply": "2021-11-04T03:18:05.653898Z",
     "shell.execute_reply.started": "2021-11-04T03:18:05.166647Z"
    }
   },
   "outputs": [
    {
     "data": {
      "image/png": "[encoded data removed]",
      "text/plain": [
       "<IPython.core.display.Image object>"
      ]
     },
     "execution_count": 23,
     "metadata": {},
     "output_type": "execute_result"
    }
   ],
   "source": [
    "dot_data = StringIO()\n",
    "export_graphviz(pipe[\"tree\"], out_file=dot_data, feature_names=ohe.get_feature_names(),\n",
    "                filled=True, rounded=True,\n",
    "                special_characters=True)\n",
    "graph = pydotplus.graph_from_dot_data(dot_data.getvalue())  \n",
    "Image(graph.create_png())"
   ]
  },
  {
   "cell_type": "code",
   "execution_count": 24,
   "metadata": {
    "ExecuteTime": {
     "end_time": "2020-11-14T15:48:27.549662Z",
     "start_time": "2020-11-14T15:48:27.543026Z"
    },
    "execution": {
     "iopub.execute_input": "2021-11-04T03:19:50.569581Z",
     "iopub.status.busy": "2021-11-04T03:19:50.569243Z",
     "iopub.status.idle": "2021-11-04T03:19:50.576052Z",
     "shell.execute_reply": "2021-11-04T03:19:50.574752Z",
     "shell.execute_reply.started": "2021-11-04T03:19:50.569540Z"
    }
   },
   "outputs": [
    {
     "data": {
      "text/plain": [
       "array(['negative', 'positive'], dtype=object)"
      ]
     },
     "execution_count": 24,
     "metadata": {},
     "output_type": "execute_result"
    }
   ],
   "source": [
    "tree.classes_"
   ]
  },
  {
   "cell_type": "code",
   "execution_count": 25,
   "metadata": {
    "ExecuteTime": {
     "end_time": "2020-11-14T15:49:07.309440Z",
     "start_time": "2020-11-14T15:49:07.299155Z"
    },
    "execution": {
     "iopub.execute_input": "2021-11-04T03:20:28.838622Z",
     "iopub.status.busy": "2021-11-04T03:20:28.838356Z",
     "iopub.status.idle": "2021-11-04T03:20:28.848285Z",
     "shell.execute_reply": "2021-11-04T03:20:28.847066Z",
     "shell.execute_reply.started": "2021-11-04T03:20:28.838592Z"
    }
   },
   "outputs": [
    {
     "name": "stdout",
     "output_type": "stream",
     "text": [
      "def tree(x0_b,x0_o,x0_x,x1_b,x1_o,x1_x,x2_b,x2_o,x2_x,x3_b,x3_o,x3_x,x4_b,x4_o,x4_x,x5_b,x5_o,x5_x,x6_b,x6_o,x6_x,x7_b,x7_o,x7_x,x8_b,x8_o,x8_x):\n",
      "  if x4_o <= 0.5:\n",
      "    if x0_o <= 0.5:\n",
      "      if x8_o <= 0.5:\n",
      "        return [[  0. 163.]]\n",
      "      else:  # if x8_o > 0.5\n",
      "        return [[39. 86.]]\n",
      "    else:  # if x0_o > 0.5\n",
      "      if x6_o <= 0.5:\n",
      "        return [[19. 85.]]\n",
      "      else:  # if x6_o > 0.5\n",
      "        return [[26. 20.]]\n",
      "  else:  # if x4_o > 0.5\n",
      "    if x0_o <= 0.5:\n",
      "      if x6_x <= 0.5:\n",
      "        return [[54. 35.]]\n",
      "      else:  # if x6_x > 0.5\n",
      "        return [[30. 50.]]\n",
      "    else:  # if x0_o > 0.5\n",
      "      if x8_x <= 0.5:\n",
      "        return [[40.  0.]]\n",
      "      else:  # if x8_x > 0.5\n",
      "        return [[10. 13.]]\n",
      "None\n"
     ]
    }
   ],
   "source": [
    "print(tree_to_code(feature_names=ohe.get_feature_names(), tree=tree))"
   ]
  },
  {
   "cell_type": "markdown",
   "metadata": {},
   "source": [
    "### Cross validation"
   ]
  },
  {
   "cell_type": "code",
   "execution_count": 26,
   "metadata": {
    "ExecuteTime": {
     "end_time": "2020-11-14T15:49:52.196677Z",
     "start_time": "2020-11-14T15:49:50.640723Z"
    },
    "execution": {
     "iopub.execute_input": "2021-11-04T03:20:41.610318Z",
     "iopub.status.busy": "2021-11-04T03:20:41.609550Z",
     "iopub.status.idle": "2021-11-04T03:20:42.966782Z",
     "shell.execute_reply": "2021-11-04T03:20:42.965375Z",
     "shell.execute_reply.started": "2021-11-04T03:20:41.610227Z"
    }
   },
   "outputs": [
    {
     "name": "stdout",
     "output_type": "stream",
     "text": [
      "ROC media: 0.80, desviación estándar: 0.028438721201831677\n"
     ]
    }
   ],
   "source": [
    "classification_metrics(X=X_train, y=y_train, estimator=pipe)"
   ]
  },
  {
   "cell_type": "code",
   "execution_count": 27,
   "metadata": {
    "ExecuteTime": {
     "end_time": "2020-11-14T15:49:57.651221Z",
     "start_time": "2020-11-14T15:49:57.640763Z"
    },
    "execution": {
     "iopub.execute_input": "2021-11-04T03:20:42.969548Z",
     "iopub.status.busy": "2021-11-04T03:20:42.969101Z",
     "iopub.status.idle": "2021-11-04T03:20:42.986419Z",
     "shell.execute_reply": "2021-11-04T03:20:42.985394Z",
     "shell.execute_reply.started": "2021-11-04T03:20:42.969494Z"
    }
   },
   "outputs": [
    {
     "data": {
      "text/plain": [
       "0.6944444444444444"
      ]
     },
     "execution_count": 27,
     "metadata": {},
     "output_type": "execute_result"
    }
   ],
   "source": [
    "pipe.score(X_test, y_test)"
   ]
  },
  {
   "cell_type": "markdown",
   "metadata": {},
   "source": [
    "### Hyperparametrización"
   ]
  },
  {
   "cell_type": "code",
   "execution_count": 28,
   "metadata": {
    "ExecuteTime": {
     "end_time": "2020-11-14T15:50:06.161515Z",
     "start_time": "2020-11-14T15:50:06.156910Z"
    },
    "execution": {
     "iopub.execute_input": "2021-11-04T03:20:44.077517Z",
     "iopub.status.busy": "2021-11-04T03:20:44.077140Z",
     "iopub.status.idle": "2021-11-04T03:20:44.086271Z",
     "shell.execute_reply": "2021-11-04T03:20:44.085282Z",
     "shell.execute_reply.started": "2021-11-04T03:20:44.077472Z"
    }
   },
   "outputs": [
    {
     "data": {
      "text/plain": [
       "{'ccp_alpha': 0.0,\n",
       " 'class_weight': None,\n",
       " 'criterion': 'gini',\n",
       " 'max_depth': 3,\n",
       " 'max_features': None,\n",
       " 'max_leaf_nodes': None,\n",
       " 'min_impurity_decrease': 0.0,\n",
       " 'min_impurity_split': None,\n",
       " 'min_samples_leaf': 1,\n",
       " 'min_samples_split': 2,\n",
       " 'min_weight_fraction_leaf': 0.0,\n",
       " 'random_state': None,\n",
       " 'splitter': 'best'}"
      ]
     },
     "execution_count": 28,
     "metadata": {},
     "output_type": "execute_result"
    }
   ],
   "source": [
    "tree.get_params()"
   ]
  },
  {
   "cell_type": "code",
   "execution_count": 29,
   "metadata": {
    "ExecuteTime": {
     "end_time": "2020-11-14T15:50:06.359102Z",
     "start_time": "2020-11-14T15:50:06.353378Z"
    },
    "execution": {
     "iopub.execute_input": "2021-11-04T03:20:44.905628Z",
     "iopub.status.busy": "2021-11-04T03:20:44.905250Z",
     "iopub.status.idle": "2021-11-04T03:20:44.917556Z",
     "shell.execute_reply": "2021-11-04T03:20:44.916009Z",
     "shell.execute_reply.started": "2021-11-04T03:20:44.905584Z"
    }
   },
   "outputs": [],
   "source": [
    "param_dist = {\"tree__max_depth\": range(1, 5),\n",
    "              \"tree__max_features\": [\"auto\", \"sqrt\", \"log2\"],\n",
    "              \"tree__min_samples_leaf\": [x/100 for x in range(5, 51, 1)] + [x for x in range(1, 21)], \n",
    "              \"tree__criterion\": [\"gini\", \"entropy\"],\n",
    "              \"tree__splitter\": [\"best\", \"random\"],\n",
    "              \"tree__class_weight\": [\"balanced\", None]}"
   ]
  },
  {
   "cell_type": "code",
   "execution_count": 30,
   "metadata": {
    "ExecuteTime": {
     "end_time": "2020-11-14T15:50:06.556896Z",
     "start_time": "2020-11-14T15:50:06.551022Z"
    },
    "execution": {
     "iopub.execute_input": "2021-11-04T03:20:47.307294Z",
     "iopub.status.busy": "2021-11-04T03:20:47.307033Z",
     "iopub.status.idle": "2021-11-04T03:20:47.312078Z",
     "shell.execute_reply": "2021-11-04T03:20:47.310990Z",
     "shell.execute_reply.started": "2021-11-04T03:20:47.307262Z"
    }
   },
   "outputs": [],
   "source": [
    "search = GridSearchCV(param_grid=param_dist, cv=4, n_jobs=-1, scoring=\"roc_auc\", estimator=pipe, verbose=5,)"
   ]
  },
  {
   "cell_type": "code",
   "execution_count": 31,
   "metadata": {
    "ExecuteTime": {
     "end_time": "2020-11-14T15:51:45.326417Z",
     "start_time": "2020-11-14T15:50:06.913506Z"
    },
    "execution": {
     "iopub.execute_input": "2021-11-04T03:20:47.666889Z",
     "iopub.status.busy": "2021-11-04T03:20:47.666628Z",
     "iopub.status.idle": "2021-11-04T03:22:46.356860Z",
     "shell.execute_reply": "2021-11-04T03:22:46.355678Z",
     "shell.execute_reply.started": "2021-11-04T03:20:47.666860Z"
    }
   },
   "outputs": [
    {
     "name": "stdout",
     "output_type": "stream",
     "text": [
      "Fitting 4 folds for each of 6336 candidates, totalling 25344 fits\n"
     ]
    },
    {
     "data": {
      "text/plain": [
       "GridSearchCV(cv=4,\n",
       "             estimator=Pipeline(steps=[('encoder', OneHotEncoder(sparse=False)),\n",
       "                                       ('tree',\n",
       "                                        DecisionTreeClassifier(max_depth=3))]),\n",
       "             n_jobs=-1,\n",
       "             param_grid={'tree__class_weight': ['balanced', None],\n",
       "                         'tree__criterion': ['gini', 'entropy'],\n",
       "                         'tree__max_depth': range(1, 5),\n",
       "                         'tree__max_features': ['auto', 'sqrt', 'log2'],\n",
       "                         'tree__min_samples_leaf': [0.05, 0.06, 0.07, 0.08,\n",
       "                                                    0.09, 0.1, 0.11, 0.12, 0.13,\n",
       "                                                    0.14, 0.15, 0.16, 0.17,\n",
       "                                                    0.18, 0.19, 0.2, 0.21, 0.22,\n",
       "                                                    0.23, 0.24, 0.25, 0.26,\n",
       "                                                    0.27, 0.28, 0.29, 0.3, 0.31,\n",
       "                                                    0.32, 0.33, 0.34, ...],\n",
       "                         'tree__splitter': ['best', 'random']},\n",
       "             scoring='roc_auc', verbose=5)"
      ]
     },
     "execution_count": 31,
     "metadata": {},
     "output_type": "execute_result"
    }
   ],
   "source": [
    "search.fit(X_train, y_train)"
   ]
  },
  {
   "cell_type": "code",
   "execution_count": 32,
   "metadata": {
    "ExecuteTime": {
     "end_time": "2020-11-14T15:51:45.334417Z",
     "start_time": "2020-11-14T15:51:45.328112Z"
    },
    "execution": {
     "iopub.execute_input": "2021-11-04T03:24:34.897839Z",
     "iopub.status.busy": "2021-11-04T03:24:34.897605Z",
     "iopub.status.idle": "2021-11-04T03:24:34.908261Z",
     "shell.execute_reply": "2021-11-04T03:24:34.907678Z",
     "shell.execute_reply.started": "2021-11-04T03:24:34.897812Z"
    }
   },
   "outputs": [
    {
     "data": {
      "text/plain": [
       "Pipeline(steps=[('encoder', OneHotEncoder(sparse=False)),\n",
       "                ('tree',\n",
       "                 DecisionTreeClassifier(max_depth=4, max_features='auto',\n",
       "                                        min_samples_leaf=6))])"
      ]
     },
     "execution_count": 32,
     "metadata": {},
     "output_type": "execute_result"
    }
   ],
   "source": [
    "search.best_estimator_"
   ]
  },
  {
   "cell_type": "code",
   "execution_count": 33,
   "metadata": {
    "ExecuteTime": {
     "end_time": "2020-11-14T15:51:46.684405Z",
     "start_time": "2020-11-14T15:51:45.336132Z"
    },
    "execution": {
     "iopub.execute_input": "2021-11-04T03:24:52.939023Z",
     "iopub.status.busy": "2021-11-04T03:24:52.938774Z",
     "iopub.status.idle": "2021-11-04T03:24:52.949575Z",
     "shell.execute_reply": "2021-11-04T03:24:52.948857Z",
     "shell.execute_reply.started": "2021-11-04T03:24:52.938993Z"
    }
   },
   "outputs": [
    {
     "data": {
      "text/plain": [
       "0.7563772938092358"
      ]
     },
     "execution_count": 33,
     "metadata": {},
     "output_type": "execute_result"
    }
   ],
   "source": [
    "search.score(X_test, y_test)"
   ]
  },
  {
   "cell_type": "code",
   "execution_count": 34,
   "metadata": {
    "ExecuteTime": {
     "end_time": "2020-11-14T15:51:47.561703Z",
     "start_time": "2020-11-14T15:51:46.688414Z"
    },
    "execution": {
     "iopub.execute_input": "2021-11-04T03:24:55.926127Z",
     "iopub.status.busy": "2021-11-04T03:24:55.925808Z",
     "iopub.status.idle": "2021-11-04T03:24:55.930754Z",
     "shell.execute_reply": "2021-11-04T03:24:55.930006Z",
     "shell.execute_reply.started": "2021-11-04T03:24:55.926089Z"
    }
   },
   "outputs": [
    {
     "data": {
      "text/plain": [
       "0.8209145287685111"
      ]
     },
     "execution_count": 34,
     "metadata": {},
     "output_type": "execute_result"
    }
   ],
   "source": [
    "search.best_score_"
   ]
  },
  {
   "cell_type": "markdown",
   "metadata": {},
   "source": [
    "### Preservación de modelo"
   ]
  },
  {
   "cell_type": "code",
   "execution_count": 35,
   "metadata": {
    "ExecuteTime": {
     "end_time": "2020-11-14T15:53:05.422439Z",
     "start_time": "2020-11-14T15:53:04.714931Z"
    },
    "execution": {
     "iopub.execute_input": "2021-11-04T03:25:30.786028Z",
     "iopub.status.busy": "2021-11-04T03:25:30.785255Z",
     "iopub.status.idle": "2021-11-04T03:25:31.724998Z",
     "shell.execute_reply": "2021-11-04T03:25:31.720616Z",
     "shell.execute_reply.started": "2021-11-04T03:25:30.785938Z"
    }
   },
   "outputs": [],
   "source": [
    "pd.to_pickle(pipe, \"/home/oscar/Documentos/Oscar/Diplomado/Generación 3/Módulo 2/tic_tac_toe/home/dt_tictactoe.pickle\")"
   ]
  },
  {
   "cell_type": "code",
   "execution_count": 36,
   "metadata": {
    "ExecuteTime": {
     "end_time": "2020-11-14T15:53:15.271463Z",
     "start_time": "2020-11-14T15:53:15.255295Z"
    },
    "execution": {
     "iopub.execute_input": "2021-11-04T03:25:35.328696Z",
     "iopub.status.busy": "2021-11-04T03:25:35.327576Z",
     "iopub.status.idle": "2021-11-04T03:25:35.347413Z",
     "shell.execute_reply": "2021-11-04T03:25:35.346388Z",
     "shell.execute_reply.started": "2021-11-04T03:25:35.328556Z"
    }
   },
   "outputs": [],
   "source": [
    "X[\"proba\"] = pipe.predict_proba(X)[:, 0]"
   ]
  },
  {
   "cell_type": "code",
   "execution_count": 37,
   "metadata": {
    "ExecuteTime": {
     "end_time": "2020-11-14T16:12:34.483478Z",
     "start_time": "2020-11-14T16:12:34.470934Z"
    },
    "execution": {
     "iopub.execute_input": "2021-11-04T03:25:35.837338Z",
     "iopub.status.busy": "2021-11-04T03:25:35.836150Z",
     "iopub.status.idle": "2021-11-04T03:25:36.040831Z",
     "shell.execute_reply": "2021-11-04T03:25:36.040007Z",
     "shell.execute_reply.started": "2021-11-04T03:25:35.837193Z"
    }
   },
   "outputs": [
    {
     "data": {
      "text/html": [
       "<div>\n",
       "<style scoped>\n",
       "    .dataframe tbody tr th:only-of-type {\n",
       "        vertical-align: middle;\n",
       "    }\n",
       "\n",
       "    .dataframe tbody tr th {\n",
       "        vertical-align: top;\n",
       "    }\n",
       "\n",
       "    .dataframe thead th {\n",
       "        text-align: right;\n",
       "    }\n",
       "</style>\n",
       "<table border=\"1\" class=\"dataframe\">\n",
       "  <thead>\n",
       "    <tr style=\"text-align: right;\">\n",
       "      <th></th>\n",
       "      <th>0</th>\n",
       "      <th>1</th>\n",
       "    </tr>\n",
       "  </thead>\n",
       "  <tbody>\n",
       "    <tr>\n",
       "      <th>0</th>\n",
       "      <td>V1_b</td>\n",
       "      <td>0.000000</td>\n",
       "    </tr>\n",
       "    <tr>\n",
       "      <th>22</th>\n",
       "      <td>V8_o</td>\n",
       "      <td>0.000000</td>\n",
       "    </tr>\n",
       "    <tr>\n",
       "      <th>18</th>\n",
       "      <td>V7_b</td>\n",
       "      <td>0.000000</td>\n",
       "    </tr>\n",
       "    <tr>\n",
       "      <th>17</th>\n",
       "      <td>V6_x</td>\n",
       "      <td>0.000000</td>\n",
       "    </tr>\n",
       "    <tr>\n",
       "      <th>16</th>\n",
       "      <td>V6_o</td>\n",
       "      <td>0.000000</td>\n",
       "    </tr>\n",
       "    <tr>\n",
       "      <th>15</th>\n",
       "      <td>V6_b</td>\n",
       "      <td>0.000000</td>\n",
       "    </tr>\n",
       "    <tr>\n",
       "      <th>14</th>\n",
       "      <td>V5_x</td>\n",
       "      <td>0.000000</td>\n",
       "    </tr>\n",
       "    <tr>\n",
       "      <th>23</th>\n",
       "      <td>V8_x</td>\n",
       "      <td>0.000000</td>\n",
       "    </tr>\n",
       "    <tr>\n",
       "      <th>12</th>\n",
       "      <td>V5_b</td>\n",
       "      <td>0.000000</td>\n",
       "    </tr>\n",
       "    <tr>\n",
       "      <th>11</th>\n",
       "      <td>V4_x</td>\n",
       "      <td>0.000000</td>\n",
       "    </tr>\n",
       "    <tr>\n",
       "      <th>10</th>\n",
       "      <td>V4_o</td>\n",
       "      <td>0.000000</td>\n",
       "    </tr>\n",
       "    <tr>\n",
       "      <th>9</th>\n",
       "      <td>V4_b</td>\n",
       "      <td>0.000000</td>\n",
       "    </tr>\n",
       "    <tr>\n",
       "      <th>8</th>\n",
       "      <td>V3_x</td>\n",
       "      <td>0.000000</td>\n",
       "    </tr>\n",
       "    <tr>\n",
       "      <th>7</th>\n",
       "      <td>V3_o</td>\n",
       "      <td>0.000000</td>\n",
       "    </tr>\n",
       "    <tr>\n",
       "      <th>6</th>\n",
       "      <td>V3_b</td>\n",
       "      <td>0.000000</td>\n",
       "    </tr>\n",
       "    <tr>\n",
       "      <th>5</th>\n",
       "      <td>V2_x</td>\n",
       "      <td>0.000000</td>\n",
       "    </tr>\n",
       "    <tr>\n",
       "      <th>4</th>\n",
       "      <td>V2_o</td>\n",
       "      <td>0.000000</td>\n",
       "    </tr>\n",
       "    <tr>\n",
       "      <th>3</th>\n",
       "      <td>V2_b</td>\n",
       "      <td>0.000000</td>\n",
       "    </tr>\n",
       "    <tr>\n",
       "      <th>2</th>\n",
       "      <td>V1_x</td>\n",
       "      <td>0.000000</td>\n",
       "    </tr>\n",
       "    <tr>\n",
       "      <th>24</th>\n",
       "      <td>V9_b</td>\n",
       "      <td>0.000000</td>\n",
       "    </tr>\n",
       "    <tr>\n",
       "      <th>21</th>\n",
       "      <td>V8_b</td>\n",
       "      <td>0.000000</td>\n",
       "    </tr>\n",
       "    <tr>\n",
       "      <th>20</th>\n",
       "      <td>V7_x</td>\n",
       "      <td>0.047368</td>\n",
       "    </tr>\n",
       "    <tr>\n",
       "      <th>26</th>\n",
       "      <td>V9_x</td>\n",
       "      <td>0.097671</td>\n",
       "    </tr>\n",
       "    <tr>\n",
       "      <th>19</th>\n",
       "      <td>V7_o</td>\n",
       "      <td>0.097703</td>\n",
       "    </tr>\n",
       "    <tr>\n",
       "      <th>1</th>\n",
       "      <td>V1_o</td>\n",
       "      <td>0.140460</td>\n",
       "    </tr>\n",
       "    <tr>\n",
       "      <th>25</th>\n",
       "      <td>V9_o</td>\n",
       "      <td>0.144179</td>\n",
       "    </tr>\n",
       "    <tr>\n",
       "      <th>13</th>\n",
       "      <td>V5_o</td>\n",
       "      <td>0.472619</td>\n",
       "    </tr>\n",
       "  </tbody>\n",
       "</table>\n",
       "</div>"
      ],
      "text/plain": [
       "       0         1\n",
       "0   V1_b  0.000000\n",
       "22  V8_o  0.000000\n",
       "18  V7_b  0.000000\n",
       "17  V6_x  0.000000\n",
       "16  V6_o  0.000000\n",
       "15  V6_b  0.000000\n",
       "14  V5_x  0.000000\n",
       "23  V8_x  0.000000\n",
       "12  V5_b  0.000000\n",
       "11  V4_x  0.000000\n",
       "10  V4_o  0.000000\n",
       "9   V4_b  0.000000\n",
       "8   V3_x  0.000000\n",
       "7   V3_o  0.000000\n",
       "6   V3_b  0.000000\n",
       "5   V2_x  0.000000\n",
       "4   V2_o  0.000000\n",
       "3   V2_b  0.000000\n",
       "2   V1_x  0.000000\n",
       "24  V9_b  0.000000\n",
       "21  V8_b  0.000000\n",
       "20  V7_x  0.047368\n",
       "26  V9_x  0.097671\n",
       "19  V7_o  0.097703\n",
       "1   V1_o  0.140460\n",
       "25  V9_o  0.144179\n",
       "13  V5_o  0.472619"
      ]
     },
     "execution_count": 37,
     "metadata": {},
     "output_type": "execute_result"
    }
   ],
   "source": [
    "pd.DataFrame(zip(ohe.get_feature_names(X_train.columns), tree.feature_importances_)).sort_values(by=1)"
   ]
  },
  {
   "cell_type": "code",
   "execution_count": 38,
   "metadata": {
    "ExecuteTime": {
     "end_time": "2020-11-14T15:53:19.538905Z",
     "start_time": "2020-11-14T15:53:19.503084Z"
    },
    "execution": {
     "iopub.execute_input": "2021-11-04T03:25:36.665966Z",
     "iopub.status.busy": "2021-11-04T03:25:36.664878Z",
     "iopub.status.idle": "2021-11-04T03:25:36.749612Z",
     "shell.execute_reply": "2021-11-04T03:25:36.747987Z",
     "shell.execute_reply.started": "2021-11-04T03:25:36.665822Z"
    }
   },
   "outputs": [
    {
     "data": {
      "text/html": [
       "<div>\n",
       "<style scoped>\n",
       "    .dataframe tbody tr th:only-of-type {\n",
       "        vertical-align: middle;\n",
       "    }\n",
       "\n",
       "    .dataframe tbody tr th {\n",
       "        vertical-align: top;\n",
       "    }\n",
       "\n",
       "    .dataframe thead th {\n",
       "        text-align: right;\n",
       "    }\n",
       "</style>\n",
       "<table border=\"1\" class=\"dataframe\">\n",
       "  <thead>\n",
       "    <tr style=\"text-align: right;\">\n",
       "      <th></th>\n",
       "      <th>V1</th>\n",
       "      <th>V2</th>\n",
       "      <th>V3</th>\n",
       "      <th>V4</th>\n",
       "      <th>V5</th>\n",
       "      <th>V6</th>\n",
       "      <th>V7</th>\n",
       "      <th>V8</th>\n",
       "      <th>V9</th>\n",
       "      <th>proba</th>\n",
       "    </tr>\n",
       "  </thead>\n",
       "  <tbody>\n",
       "    <tr>\n",
       "      <th>0</th>\n",
       "      <td>x</td>\n",
       "      <td>x</td>\n",
       "      <td>x</td>\n",
       "      <td>x</td>\n",
       "      <td>o</td>\n",
       "      <td>o</td>\n",
       "      <td>x</td>\n",
       "      <td>o</td>\n",
       "      <td>o</td>\n",
       "      <td>0.375000</td>\n",
       "    </tr>\n",
       "    <tr>\n",
       "      <th>1</th>\n",
       "      <td>x</td>\n",
       "      <td>x</td>\n",
       "      <td>x</td>\n",
       "      <td>x</td>\n",
       "      <td>o</td>\n",
       "      <td>o</td>\n",
       "      <td>o</td>\n",
       "      <td>x</td>\n",
       "      <td>o</td>\n",
       "      <td>0.606742</td>\n",
       "    </tr>\n",
       "    <tr>\n",
       "      <th>2</th>\n",
       "      <td>x</td>\n",
       "      <td>x</td>\n",
       "      <td>x</td>\n",
       "      <td>x</td>\n",
       "      <td>o</td>\n",
       "      <td>o</td>\n",
       "      <td>o</td>\n",
       "      <td>o</td>\n",
       "      <td>x</td>\n",
       "      <td>0.606742</td>\n",
       "    </tr>\n",
       "    <tr>\n",
       "      <th>3</th>\n",
       "      <td>x</td>\n",
       "      <td>x</td>\n",
       "      <td>x</td>\n",
       "      <td>x</td>\n",
       "      <td>o</td>\n",
       "      <td>o</td>\n",
       "      <td>o</td>\n",
       "      <td>b</td>\n",
       "      <td>b</td>\n",
       "      <td>0.606742</td>\n",
       "    </tr>\n",
       "    <tr>\n",
       "      <th>4</th>\n",
       "      <td>x</td>\n",
       "      <td>x</td>\n",
       "      <td>x</td>\n",
       "      <td>x</td>\n",
       "      <td>o</td>\n",
       "      <td>o</td>\n",
       "      <td>b</td>\n",
       "      <td>o</td>\n",
       "      <td>b</td>\n",
       "      <td>0.606742</td>\n",
       "    </tr>\n",
       "    <tr>\n",
       "      <th>...</th>\n",
       "      <td>...</td>\n",
       "      <td>...</td>\n",
       "      <td>...</td>\n",
       "      <td>...</td>\n",
       "      <td>...</td>\n",
       "      <td>...</td>\n",
       "      <td>...</td>\n",
       "      <td>...</td>\n",
       "      <td>...</td>\n",
       "      <td>...</td>\n",
       "    </tr>\n",
       "    <tr>\n",
       "      <th>953</th>\n",
       "      <td>o</td>\n",
       "      <td>x</td>\n",
       "      <td>x</td>\n",
       "      <td>x</td>\n",
       "      <td>o</td>\n",
       "      <td>o</td>\n",
       "      <td>o</td>\n",
       "      <td>x</td>\n",
       "      <td>x</td>\n",
       "      <td>0.434783</td>\n",
       "    </tr>\n",
       "    <tr>\n",
       "      <th>954</th>\n",
       "      <td>o</td>\n",
       "      <td>x</td>\n",
       "      <td>o</td>\n",
       "      <td>x</td>\n",
       "      <td>x</td>\n",
       "      <td>o</td>\n",
       "      <td>x</td>\n",
       "      <td>o</td>\n",
       "      <td>x</td>\n",
       "      <td>0.182692</td>\n",
       "    </tr>\n",
       "    <tr>\n",
       "      <th>955</th>\n",
       "      <td>o</td>\n",
       "      <td>x</td>\n",
       "      <td>o</td>\n",
       "      <td>x</td>\n",
       "      <td>o</td>\n",
       "      <td>x</td>\n",
       "      <td>x</td>\n",
       "      <td>o</td>\n",
       "      <td>x</td>\n",
       "      <td>0.434783</td>\n",
       "    </tr>\n",
       "    <tr>\n",
       "      <th>956</th>\n",
       "      <td>o</td>\n",
       "      <td>x</td>\n",
       "      <td>o</td>\n",
       "      <td>o</td>\n",
       "      <td>x</td>\n",
       "      <td>x</td>\n",
       "      <td>x</td>\n",
       "      <td>o</td>\n",
       "      <td>x</td>\n",
       "      <td>0.182692</td>\n",
       "    </tr>\n",
       "    <tr>\n",
       "      <th>957</th>\n",
       "      <td>o</td>\n",
       "      <td>o</td>\n",
       "      <td>x</td>\n",
       "      <td>x</td>\n",
       "      <td>x</td>\n",
       "      <td>o</td>\n",
       "      <td>o</td>\n",
       "      <td>x</td>\n",
       "      <td>x</td>\n",
       "      <td>0.565217</td>\n",
       "    </tr>\n",
       "  </tbody>\n",
       "</table>\n",
       "<p>958 rows × 10 columns</p>\n",
       "</div>"
      ],
      "text/plain": [
       "    V1 V2 V3 V4 V5 V6 V7 V8 V9     proba\n",
       "0    x  x  x  x  o  o  x  o  o  0.375000\n",
       "1    x  x  x  x  o  o  o  x  o  0.606742\n",
       "2    x  x  x  x  o  o  o  o  x  0.606742\n",
       "3    x  x  x  x  o  o  o  b  b  0.606742\n",
       "4    x  x  x  x  o  o  b  o  b  0.606742\n",
       "..  .. .. .. .. .. .. .. .. ..       ...\n",
       "953  o  x  x  x  o  o  o  x  x  0.434783\n",
       "954  o  x  o  x  x  o  x  o  x  0.182692\n",
       "955  o  x  o  x  o  x  x  o  x  0.434783\n",
       "956  o  x  o  o  x  x  x  o  x  0.182692\n",
       "957  o  o  x  x  x  o  o  x  x  0.565217\n",
       "\n",
       "[958 rows x 10 columns]"
      ]
     },
     "execution_count": 38,
     "metadata": {},
     "output_type": "execute_result"
    }
   ],
   "source": [
    "X"
   ]
  },
  {
   "cell_type": "code",
   "execution_count": 39,
   "metadata": {
    "ExecuteTime": {
     "end_time": "2020-07-04T17:18:10.915640Z",
     "start_time": "2020-07-04T17:18:10.903412Z"
    },
    "execution": {
     "iopub.execute_input": "2021-11-04T03:26:21.652810Z",
     "iopub.status.busy": "2021-11-04T03:26:21.652027Z",
     "iopub.status.idle": "2021-11-04T03:26:21.663020Z",
     "shell.execute_reply": "2021-11-04T03:26:21.661817Z",
     "shell.execute_reply.started": "2021-11-04T03:26:21.652718Z"
    }
   },
   "outputs": [
    {
     "data": {
      "text/plain": [
       "OneHotEncoder(sparse=False)"
      ]
     },
     "execution_count": 39,
     "metadata": {},
     "output_type": "execute_result"
    }
   ],
   "source": [
    "ohe"
   ]
  },
  {
   "cell_type": "code",
   "execution_count": 40,
   "metadata": {
    "ExecuteTime": {
     "end_time": "2020-07-04T17:18:20.066210Z",
     "start_time": "2020-07-04T17:18:20.057691Z"
    },
    "execution": {
     "iopub.execute_input": "2021-11-04T03:26:22.626927Z",
     "iopub.status.busy": "2021-11-04T03:26:22.626106Z",
     "iopub.status.idle": "2021-11-04T03:26:22.644063Z",
     "shell.execute_reply": "2021-11-04T03:26:22.640366Z",
     "shell.execute_reply.started": "2021-11-04T03:26:22.626836Z"
    }
   },
   "outputs": [
    {
     "data": {
      "text/plain": [
       "\u001b[0;31mType:\u001b[0m        OneHotEncoder\n",
       "\u001b[0;31mString form:\u001b[0m OneHotEncoder(sparse=False)\n",
       "\u001b[0;31mFile:\u001b[0m        ~/VirtualEnvs/Python 3/lib/python3.7/site-packages/sklearn/preprocessing/_encoders.py\n",
       "\u001b[0;31mDocstring:\u001b[0m  \n",
       "Encode categorical features as a one-hot numeric array.\n",
       "\n",
       "The input to this transformer should be an array-like of integers or\n",
       "strings, denoting the values taken on by categorical (discrete) features.\n",
       "The features are encoded using a one-hot (aka 'one-of-K' or 'dummy')\n",
       "encoding scheme. This creates a binary column for each category and\n",
       "returns a sparse matrix or dense array (depending on the ``sparse``\n",
       "parameter)\n",
       "\n",
       "By default, the encoder derives the categories based on the unique values\n",
       "in each feature. Alternatively, you can also specify the `categories`\n",
       "manually.\n",
       "\n",
       "This encoding is needed for feeding categorical data to many scikit-learn\n",
       "estimators, notably linear models and SVMs with the standard kernels.\n",
       "\n",
       "Note: a one-hot encoding of y labels should use a LabelBinarizer\n",
       "instead.\n",
       "\n",
       "Read more in the :ref:`User Guide <preprocessing_categorical_features>`.\n",
       "\n",
       ".. versionchanged:: 0.20\n",
       "\n",
       "Parameters\n",
       "----------\n",
       "categories : 'auto' or a list of array-like, default='auto'\n",
       "    Categories (unique values) per feature:\n",
       "\n",
       "    - 'auto' : Determine categories automatically from the training data.\n",
       "    - list : ``categories[i]`` holds the categories expected in the ith\n",
       "      column. The passed categories should not mix strings and numeric\n",
       "      values within a single feature, and should be sorted in case of\n",
       "      numeric values.\n",
       "\n",
       "    The used categories can be found in the ``categories_`` attribute.\n",
       "\n",
       "    .. versionadded:: 0.20\n",
       "\n",
       "drop : {'first', 'if_binary'} or a array-like of shape (n_features,),             default=None\n",
       "    Specifies a methodology to use to drop one of the categories per\n",
       "    feature. This is useful in situations where perfectly collinear\n",
       "    features cause problems, such as when feeding the resulting data\n",
       "    into a neural network or an unregularized regression.\n",
       "\n",
       "    However, dropping one category breaks the symmetry of the original\n",
       "    representation and can therefore induce a bias in downstream models,\n",
       "    for instance for penalized linear classification or regression models.\n",
       "\n",
       "    - None : retain all features (the default).\n",
       "    - 'first' : drop the first category in each feature. If only one\n",
       "      category is present, the feature will be dropped entirely.\n",
       "    - 'if_binary' : drop the first category in each feature with two\n",
       "      categories. Features with 1 or more than 2 categories are\n",
       "      left intact.\n",
       "    - array : ``drop[i]`` is the category in feature ``X[:, i]`` that\n",
       "      should be dropped.\n",
       "\n",
       "    .. versionchanged:: 0.23\n",
       "       Added option 'if_binary'.\n",
       "\n",
       "sparse : bool, default=True\n",
       "    Will return sparse matrix if set True else will return an array.\n",
       "\n",
       "dtype : number type, default=float\n",
       "    Desired dtype of output.\n",
       "\n",
       "handle_unknown : {'error', 'ignore'}, default='error'\n",
       "    Whether to raise an error or ignore if an unknown categorical feature\n",
       "    is present during transform (default is to raise). When this parameter\n",
       "    is set to 'ignore' and an unknown category is encountered during\n",
       "    transform, the resulting one-hot encoded columns for this feature\n",
       "    will be all zeros. In the inverse transform, an unknown category\n",
       "    will be denoted as None.\n",
       "\n",
       "Attributes\n",
       "----------\n",
       "categories_ : list of arrays\n",
       "    The categories of each feature determined during fitting\n",
       "    (in order of the features in X and corresponding with the output\n",
       "    of ``transform``). This includes the category specified in ``drop``\n",
       "    (if any).\n",
       "\n",
       "drop_idx_ : array of shape (n_features,)\n",
       "    - ``drop_idx_[i]`` is the index in ``categories_[i]`` of the category\n",
       "      to be dropped for each feature.\n",
       "    - ``drop_idx_[i] = None`` if no category is to be dropped from the\n",
       "      feature with index ``i``, e.g. when `drop='if_binary'` and the\n",
       "      feature isn't binary.\n",
       "    - ``drop_idx_ = None`` if all the transformed features will be\n",
       "      retained.\n",
       "\n",
       "    .. versionchanged:: 0.23\n",
       "       Added the possibility to contain `None` values.\n",
       "\n",
       "See Also\n",
       "--------\n",
       "OrdinalEncoder : Performs an ordinal (integer)\n",
       "  encoding of the categorical features.\n",
       "sklearn.feature_extraction.DictVectorizer : Performs a one-hot encoding of\n",
       "  dictionary items (also handles string-valued features).\n",
       "sklearn.feature_extraction.FeatureHasher : Performs an approximate one-hot\n",
       "  encoding of dictionary items or strings.\n",
       "LabelBinarizer : Binarizes labels in a one-vs-all\n",
       "  fashion.\n",
       "MultiLabelBinarizer : Transforms between iterable of\n",
       "  iterables and a multilabel format, e.g. a (samples x classes) binary\n",
       "  matrix indicating the presence of a class label.\n",
       "\n",
       "Examples\n",
       "--------\n",
       "Given a dataset with two features, we let the encoder find the unique\n",
       "values per feature and transform the data to a binary one-hot encoding.\n",
       "\n",
       ">>> from sklearn.preprocessing import OneHotEncoder\n",
       "\n",
       "One can discard categories not seen during `fit`:\n",
       "\n",
       ">>> enc = OneHotEncoder(handle_unknown='ignore')\n",
       ">>> X = [['Male', 1], ['Female', 3], ['Female', 2]]\n",
       ">>> enc.fit(X)\n",
       "OneHotEncoder(handle_unknown='ignore')\n",
       ">>> enc.categories_\n",
       "[array(['Female', 'Male'], dtype=object), array([1, 2, 3], dtype=object)]\n",
       ">>> enc.transform([['Female', 1], ['Male', 4]]).toarray()\n",
       "array([[1., 0., 1., 0., 0.],\n",
       "       [0., 1., 0., 0., 0.]])\n",
       ">>> enc.inverse_transform([[0, 1, 1, 0, 0], [0, 0, 0, 1, 0]])\n",
       "array([['Male', 1],\n",
       "       [None, 2]], dtype=object)\n",
       ">>> enc.get_feature_names(['gender', 'group'])\n",
       "array(['gender_Female', 'gender_Male', 'group_1', 'group_2', 'group_3'],\n",
       "  dtype=object)\n",
       "\n",
       "One can always drop the first column for each feature:\n",
       "\n",
       ">>> drop_enc = OneHotEncoder(drop='first').fit(X)\n",
       ">>> drop_enc.categories_\n",
       "[array(['Female', 'Male'], dtype=object), array([1, 2, 3], dtype=object)]\n",
       ">>> drop_enc.transform([['Female', 1], ['Male', 2]]).toarray()\n",
       "array([[0., 0., 0.],\n",
       "       [1., 1., 0.]])\n",
       "\n",
       "Or drop a column for feature only having 2 categories:\n",
       "\n",
       ">>> drop_binary_enc = OneHotEncoder(drop='if_binary').fit(X)\n",
       ">>> drop_binary_enc.transform([['Female', 1], ['Male', 2]]).toarray()\n",
       "array([[0., 1., 0., 0.],\n",
       "       [1., 0., 1., 0.]])\n"
      ]
     },
     "metadata": {},
     "output_type": "display_data"
    }
   ],
   "source": [
    "ohe?"
   ]
  },
  {
   "cell_type": "code",
   "execution_count": 41,
   "metadata": {
    "ExecuteTime": {
     "end_time": "2020-07-04T15:11:54.998818Z",
     "start_time": "2020-07-04T15:11:54.838104Z"
    },
    "execution": {
     "iopub.execute_input": "2021-11-04T03:26:23.307871Z",
     "iopub.status.busy": "2021-11-04T03:26:23.307344Z",
     "iopub.status.idle": "2021-11-04T03:26:23.353197Z",
     "shell.execute_reply": "2021-11-04T03:26:23.352319Z",
     "shell.execute_reply.started": "2021-11-04T03:26:23.307808Z"
    }
   },
   "outputs": [],
   "source": [
    "X.to_csv(\"/home/oscar/Documentos/Oscar/Diplomado/Generación 3/Módulo 2/tic_tac_toe/home/tree_data.csv\")"
   ]
  },
  {
   "cell_type": "code",
   "execution_count": null,
   "metadata": {},
   "outputs": [],
   "source": []
  }
 ],
 "metadata": {
  "kernelspec": {
   "display_name": "Python 3 (ipykernel)",
   "language": "python",
   "name": "python3"
  },
  "language_info": {
   "codemirror_mode": {
    "name": "ipython",
    "version": 3
   },
   "file_extension": ".py",
   "mimetype": "text/x-python",
   "name": "python",
   "nbconvert_exporter": "python",
   "pygments_lexer": "ipython3",
   "version": "3.8.10"
  }
 },
 "nbformat": 4,
 "nbformat_minor": 4
}
